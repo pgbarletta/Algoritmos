{
 "cells": [
  {
   "cell_type": "code",
   "execution_count": 5,
   "metadata": {},
   "outputs": [],
   "source": [
    "import numpy as np\n",
    "import sys\n",
    "import math\n",
    "import itertools\n",
    "import matplotlib.pyplot as plt  \n",
    "from time import time "
   ]
  },
  {
   "attachments": {},
   "cell_type": "markdown",
   "metadata": {},
   "source": [
    "# _Backtracking_"
   ]
  },
  {
   "attachments": {},
   "cell_type": "markdown",
   "metadata": {},
   "source": [
    "## 4.1 Introducción"
   ]
  },
  {
   "attachments": {},
   "cell_type": "markdown",
   "metadata": {},
   "source": [
    "Se resuelve un problema avanzando paso a paso, construyendo soluciones parciales recursivamente e interrumpiendo un camino de recursión cuando la solución parcial infringe un requisito, el subárbol que se abre no resulta promisiorio o se han agotado el espacio de soluciones posibles.\n",
    "\n",
    "En algunos casos, la noción de **solución parcial** no nos será tan útil, ya que no hay soluciones parciales, sino **estados**. Comenzaremos con un estado inicial y bus\n",
    "\n",
    "Se aplica en problemas de:\n",
    " * **Decisión**  (saber si existe una solución satsiface un conjunto de _constraints_)\n",
    " * **Enumeración** (hallar todas las soluciones a un problema)\n",
    " * **Optimización** (no suele llevar a algoritmos veloces para este tipo de problemas)\n",
    "\n",
    "A c/ paso construye una solución parcial y verifica su validez. Si ésta no satisface los requisitos (_constraints_), entonces el algoritmo vuelve sobre su paso (_backtracks_). Es decir, cuando el algoritmo debe decidir una alternativa entre varias posibles, no lo hace, simplemente evalua las alternativas viables recursivamente. \n",
    "\n",
    "Si el problema tiene _constraints_, entonces podrá realizar una **poda** del arbol de soluciones parciales y detener la exploración de este árbol cuando ya no pueda satisfacer estos requisitos.\n",
    "\n",
    "Por recorrer buena parte del espacio de soluciones parciales válidas,\n",
    "ésta técnica suele resultar en algoritmos con complejidades temporales elevadas (exponenciales, factoriales). Aun así encuentra utilidad en algunos casos. Por un lado es una forma sencilla de generar algún algoritmo para muchos problemas. Por otra parte, a la hora de satisfacer requisitos (_constraints_), un algoritmo generado por backtracking es preferible a explotar todo el espacio de soluciones parciales (válidas e inválidas), como haría un algoritmo de fuerza bruta.\n",
    "\n",
    "Si bien no es necesario que estos algoritmos sean implementados con funciones recursivas, ésta es la forma más natural de implementarlos y generalmente los problemas a la hora de entender estos algoritmos, son problemas relacionados con las funciones recursivas.\n",
    "Por eso, vamos a explorar una solución recursiva a un problema clásico, pero que no sigue la técnica de _backtracking_"
   ]
  },
  {
   "attachments": {},
   "cell_type": "markdown",
   "metadata": {},
   "source": [
    "-------------"
   ]
  },
  {
   "attachments": {},
   "cell_type": "markdown",
   "metadata": {},
   "source": [
    "## 4.2 Torre de Hanoi"
   ]
  },
  {
   "attachments": {},
   "cell_type": "markdown",
   "metadata": {},
   "source": [
    "Dados `N` discos de tamaños crecientes (siendo el disco 1 el más pequeño y el disco N el más grande), y 3 pilares, mover los `N` discos desde uno de los pilares hacia otro de los 2. Sólo se puede mover de a un disco a la vez y además un disco nunca puede estar apilado encima de un disco más pequeño."
   ]
  },
  {
   "attachments": {},
   "cell_type": "markdown",
   "metadata": {},
   "source": [
    "Fé de erratas: en 1:45 llamé al disco **mediano** como _el más grande_."
   ]
  },
  {
   "attachments": {},
   "cell_type": "markdown",
   "metadata": {},
   "source": [
    "--------------"
   ]
  },
  {
   "attachments": {},
   "cell_type": "markdown",
   "metadata": {},
   "source": [
    "## 4.3 Pseudocódigo de Torre de Hanoi"
   ]
  },
  {
   "attachments": {},
   "cell_type": "markdown",
   "metadata": {},
   "source": [
    "Este pseudocódigo y la siguiente imagen (extraída de Algorithms, de Jeff Erickson) representan lo que vimos en el video:"
   ]
  },
  {
   "cell_type": "code",
   "execution_count": 2,
   "metadata": {},
   "outputs": [
    {
     "ename": "SyntaxError",
     "evalue": "invalid syntax (1016434040.py, line 2)",
     "output_type": "error",
     "traceback": [
      "\u001b[0;36m  Cell \u001b[0;32mIn[2], line 2\u001b[0;36m\u001b[0m\n\u001b[0;31m    if n > 0\u001b[0m\n\u001b[0m            ^\u001b[0m\n\u001b[0;31mSyntaxError\u001b[0m\u001b[0;31m:\u001b[0m invalid syntax\n"
     ]
    }
   ],
   "source": [
    "def torre_de_hanoi(n, fuente, destino, temporal):\n",
    "    if n > 0\n",
    "        torre_de_hanoi(n − 1, fuente, temporal, destino)\n",
    "        muevo_disco(n, fuente, destino)\n",
    "        torre_de_hanoi(n − 1, temporal, destino, fuente)\n",
    "    return"
   ]
  },
  {
   "attachments": {},
   "cell_type": "markdown",
   "metadata": {},
   "source": [
    "<img src=\"hanoi.png\" alt=\"mm\" style=\"width: 1000px;\"/>"
   ]
  },
  {
   "attachments": {},
   "cell_type": "markdown",
   "metadata": {},
   "source": [
    "La función del tiempo de ejecución se obtiene inmediatamente:"
   ]
  },
  {
   "attachments": {},
   "cell_type": "markdown",
   "metadata": {},
   "source": [
    "$$ T(n) = 2 T(n-1) + 1 $$"
   ]
  },
  {
   "attachments": {},
   "cell_type": "markdown",
   "metadata": {},
   "source": [
    "Más allá del segundo término constante, el árbol de recursión que esta fórmula implica es un árbol binario de altura $n$.\n",
    "A cada nivel se duplicarán el número de hojas:"
   ]
  },
  {
   "attachments": {},
   "cell_type": "markdown",
   "metadata": {},
   "source": [
    "<img src=\"arbol_binario.png\" alt=\"mm\" style=\"width: 500px;\"/>"
   ]
  },
  {
   "attachments": {},
   "cell_type": "markdown",
   "metadata": {},
   "source": [
    "No comprobaremos la complejidad de este álgoritmo, pero utilizando este método (el del árbol de recursión), vemos que este algoritmo, al explorar semejante árbol, tendrá una complejidad de $O(n) = 2^{n}$ "
   ]
  },
  {
   "attachments": {},
   "cell_type": "markdown",
   "metadata": {},
   "source": [
    "Cómo encararía este problema un algoritmo de _backtracking_?"
   ]
  },
  {
   "attachments": {},
   "cell_type": "markdown",
   "metadata": {},
   "source": [
    "-------"
   ]
  },
  {
   "attachments": {},
   "cell_type": "markdown",
   "metadata": {},
   "source": [
    "## 4.4 Torre de Hanoi por backtracking"
   ]
  },
  {
   "attachments": {},
   "cell_type": "markdown",
   "metadata": {},
   "source": [
    "Notamos que en este problema satisfacer los requisitos es inmediato. Simplemente movemos de a 1 disco y nunca movemos un disco por encima de uno más grande.\n",
    "Por otro lado, este problema requiere que el algoritmo tenga memoria de los estados ya explorados y no vuelva a visitarlos. Esto se convierte en un requisito adicional y a diferencia de los 2 requisitos anteriores, si puede desencadenar un evento de _backtrack_: si en alguna instancia, me encuentro que todos los movimientos que puedo hacer me llevan a estados ya visitados, no me quedará otra alternativa que volver sobre mis pasos hasta encontrar un movimiento posible que me lleve a un estado novedoso."
   ]
  },
  {
   "attachments": {},
   "cell_type": "markdown",
   "metadata": {},
   "source": [
    "### Torre de Hanoi en backtracking"
   ]
  },
  {
   "attachments": {},
   "cell_type": "markdown",
   "metadata": {},
   "source": [
    "Lo siguiente es una posible implementación del algoritmo para resolver el problema de la torre de Hanoi en _backtracking_.\n",
    "\n",
    "Noten que en `memoria` no elimino los estados que no conducen a la solución final, sino que ahí quedan registrados todos los estados que tuvo que visitar. \n",
    "Por eso imprimo mensajes en las líneas `18` y `23` de `hanoi_bt()` (`View > Show Line Numbers`), que son\n",
    "los puntos en los que estoy seguro de estar en estados parciales que me pueden conducir a la solución final, sin repetir estados anteriores.\n",
    "\n",
    "Recomiendo juntar **3** discos de distintos tamaños y reproducir, de abajo para arriba, los estados que llevaron a la solución final. Lo más probable es que haya movimientos innecesarios en este camino. Este algoritmo no se propone solucionar Torre de Hanoi con el menor número de movimientos posible, sino simplemente resolverlo.\n",
    "\n",
    "Si nos planteáramos este nuevo objetivo entonces estaríamos ante un problema de optimización y en tal caso no quedaría más alternativa que probar todas las soluciones posibles desde el estado inicial hasta el final, algo particularmente engorroso en este problema ya que _backtracking_ no tiene una noción de progreso para este problema, y se puede alcanzar cualquier estado desde cualquier otro estado."
   ]
  },
  {
   "cell_type": "code",
   "execution_count": 6,
   "metadata": {},
   "outputs": [],
   "source": [
    "# A cada paso sólo se puede mover el disco 0 (el chico) y, opcionalmente, otro a determinar.\n",
    "def siguiente_estado(estado, step):\n",
    "    disco_a_mover = 0\n",
    "    nuevo_pilar = estado[0]\n",
    "    pilares = [0, 1, 2]\n",
    "    pilares_libres = list(filter(lambda x: x != nuevo_pilar, pilares))\n",
    "    \n",
    "    # Hay 3 movimientos posibles:\n",
    "    # step 1: mover `disco_a_mover` al pilar q no está ocupado por el 0\n",
    "    # step 2: si sólo se puede mover el disco 0, moverlo al primer pilar libre\n",
    "    # step 3: si sólo se puede mover el disco 0, moverlo al segundo pilar libre.\n",
    "    nuevo_estado = np.copy(estado)\n",
    "    if step == 1:\n",
    "        # éste paso sólo tiene sentido cuando se pueda mover un disco más\n",
    "        # grande q disco 0\n",
    "        for disco in range(1, len(estado)):\n",
    "            if estado[disco] != estado[0]:\n",
    "                # Este es el disco más pequeño que no está por debajo del disco 0. Es el que se puede mover.\n",
    "                disco_a_mover = disco\n",
    "                break\n",
    "        if disco_a_mover != 0:\n",
    "            nuevo_pilar = list(filter(lambda x: x != estado[disco_a_mover], pilares_libres))[0]\n",
    "    elif step == 2:\n",
    "        nuevo_pilar = pilares_libres[0]\n",
    "    elif step == 3:\n",
    "        nuevo_pilar = pilares_libres[1]\n",
    "        \n",
    "    nuevo_estado[disco_a_mover] = nuevo_pilar\n",
    "    return nuevo_estado"
   ]
  },
  {
   "cell_type": "code",
   "execution_count": 19,
   "metadata": {},
   "outputs": [],
   "source": [
    "def ya_visitado(estado, memoria):\n",
    "    for estado_anterior in memoria:\n",
    "        if np.array_equal(estado_anterior, estado):\n",
    "            return True\n",
    "    return False"
   ]
  },
  {
   "cell_type": "code",
   "execution_count": 23,
   "metadata": {},
   "outputs": [],
   "source": [
    "def hanoi_bt(estado, memoria, fin):\n",
    "    step = 1\n",
    "    while step < 4:\n",
    "        nuevo_estado = siguiente_estado(estado, step)\n",
    "        if ya_visitado(nuevo_estado, memoria):\n",
    "            # `nuevo_estado` no es verdaderamente nuevo\n",
    "            step += 1\n",
    "            continue\n",
    "        # Almaceno el estado en memoria.\n",
    "        memoria = np.vstack((memoria, nuevo_estado))\n",
    "\n",
    "        if np.array_equal(nuevo_estado, fin):\n",
    "            print(\"#####  Éxito #####\")\n",
    "            print(\"del estado: \", estado)\n",
    "            return True, memoria\n",
    "        else:\n",
    "            exito, memoria = hanoi_bt(nuevo_estado, memoria, fin)\n",
    "            if exito:\n",
    "                print(\"del estado: \", estado)\n",
    "                return True, memoria\n",
    "            \n",
    "    print(\"backtrack!:   \", memoria[-1, :])\n",
    "    return False, memoria"
   ]
  },
  {
   "cell_type": "code",
   "execution_count": 24,
   "metadata": {},
   "outputs": [],
   "source": [
    "n = 3\n",
    "estado = np.repeat(0, n)\n",
    "fin = np.repeat(2, n)\n",
    "# Le guardo 2 veces el estado inicial por una tecnicalidad, no es relevante.\n",
    "memoria = np.vstack((estado, estado))"
   ]
  },
  {
   "cell_type": "code",
   "execution_count": 25,
   "metadata": {},
   "outputs": [
    {
     "name": "stdout",
     "output_type": "stream",
     "text": [
      "backtrack!:    [2 0 1]\n",
      "backtrack!:    [2 0 1]\n",
      "backtrack!:    [2 0 1]\n",
      "backtrack!:    [2 0 1]\n",
      "backtrack!:    [2 2 0]\n",
      "backtrack!:    [2 2 0]\n",
      "backtrack!:    [2 2 0]\n",
      "backtrack!:    [2 2 0]\n",
      "backtrack!:    [2 2 0]\n",
      "backtrack!:    [2 2 0]\n",
      "backtrack!:    [2 1 2]\n",
      "backtrack!:    [2 1 2]\n",
      "backtrack!:    [2 1 2]\n",
      "backtrack!:    [2 1 2]\n",
      "#####  Éxito #####\n",
      "del estado:  [1 2 2]\n",
      "del estado:  [0 2 2]\n",
      "del estado:  [0 1 2]\n",
      "del estado:  [1 1 2]\n",
      "del estado:  [1 1 0]\n",
      "del estado:  [0 1 0]\n",
      "del estado:  [0 2 0]\n",
      "del estado:  [1 2 0]\n",
      "del estado:  [1 0 0]\n",
      "del estado:  [0 0 0]\n"
     ]
    }
   ],
   "source": [
    "exito, estados = hanoi_bt(estado, memoria, fin)"
   ]
  },
  {
   "attachments": {},
   "cell_type": "markdown",
   "metadata": {},
   "source": [
    "Notar que la lista de estados visitados es más larga que la de estados que llevan a la solución final sin repetir estados anteriores. Esta diferencia se hace más grande cuanto más discos haya."
   ]
  },
  {
   "cell_type": "code",
   "execution_count": 10,
   "metadata": {},
   "outputs": [
    {
     "data": {
      "text/plain": [
       "array([[0, 0, 0],\n",
       "       [0, 0, 0],\n",
       "       [1, 0, 0],\n",
       "       [1, 2, 0],\n",
       "       [0, 2, 0],\n",
       "       [0, 1, 0],\n",
       "       [1, 1, 0],\n",
       "       [1, 1, 2],\n",
       "       [0, 1, 2],\n",
       "       [0, 2, 2],\n",
       "       [1, 2, 2],\n",
       "       [1, 0, 2],\n",
       "       [0, 0, 2],\n",
       "       [0, 0, 1],\n",
       "       [1, 0, 1],\n",
       "       [1, 2, 1],\n",
       "       [0, 2, 1],\n",
       "       [0, 1, 1],\n",
       "       [1, 1, 1],\n",
       "       [2, 1, 1],\n",
       "       [2, 0, 1],\n",
       "       [2, 2, 1],\n",
       "       [2, 2, 0],\n",
       "       [2, 0, 2],\n",
       "       [2, 1, 2],\n",
       "       [2, 2, 2]])"
      ]
     },
     "execution_count": 10,
     "metadata": {},
     "output_type": "execute_result"
    }
   ],
   "source": [
    "estados"
   ]
  },
  {
   "attachments": {},
   "cell_type": "markdown",
   "metadata": {},
   "source": [
    "----------"
   ]
  },
  {
   "attachments": {},
   "cell_type": "markdown",
   "metadata": {},
   "source": [
    "## 4.5 Reinas en un tablero"
   ]
  },
  {
   "attachments": {},
   "cell_type": "markdown",
   "metadata": {},
   "source": [
    "Acabamos de ver un problema en el que si no tenemos memoria de los estados visitados, nuestro algoritmo no terminaría nunca. Veamos ahora un problema en el que sí hay una noción de progreso, por lo que no es necesario tener memoria de soluciones parciales anteriores. Eso si, en este problema es muy fácil construir soluciones parciales que sean erróneas y cuyo error no será evidente hasta que los requisitos sean violados."
   ]
  },
  {
   "attachments": {},
   "cell_type": "markdown",
   "metadata": {},
   "source": [
    "Se deben colocar `n` reinas en un tablero de `nxn` sin que estas se ataquen mutuamente. Veamos una solución ejemplo para un tablero de `4x4`:"
   ]
  },
  {
   "attachments": {},
   "cell_type": "markdown",
   "metadata": {},
   "source": [
    "<img src=\"queens.png\" alt=\"mm\" style=\"width: 500px;\"/>"
   ]
  },
  {
   "attachments": {},
   "cell_type": "markdown",
   "metadata": {},
   "source": [
    "El algoritmo de backtracking que resuelve este problema lo hace construyendo soluciones parciales. Coloca, recursivamente, de a 1 reina en el tablero, cuidando que no se viole el requisito (es decir, que no se ataquen entre ellas). Si la reina a colocar en la instancia actual, no tiene celda válida posible, entonces es evidente que hemos explorado un camino inválido. Entonces, volvemos 1 paso y le buscamos un nuevo lugar a la reina que colocamos en la instancia inmediatamente anterior. Esta mecánica se repita hasta hallar una solución válida.\n",
    "\n",
    "El algoritmo que veremos, tiene una inteligencia: sabe que necesariamente habrá una reina por fila y por columna, por lo que a la hora de colocar cada reina, no explora todas las celdas vacías del tablero, sino sólamente las celdas de la siguiente fila o columna.\n",
    "\n",
    "Veamos el árbol que recorre el algoritmo para hallar una de las 2 soluciones anteriores:"
   ]
  },
  {
   "attachments": {},
   "cell_type": "markdown",
   "metadata": {},
   "source": [
    "<img src=\"nqueens_tree.png\" alt=\"mm\" style=\"width: 800px;\"/>"
   ]
  },
  {
   "attachments": {},
   "cell_type": "markdown",
   "metadata": {},
   "source": [
    "La complejidad del algoritmo de _backtrack_ es de $O(2^{n})$, lo cual es una mejora respecto de la complejidad del algoritmo bruto: $O(n!)$"
   ]
  },
  {
   "attachments": {},
   "cell_type": "markdown",
   "metadata": {},
   "source": [
    "-------------------"
   ]
  },
  {
   "attachments": {},
   "cell_type": "markdown",
   "metadata": {},
   "source": [
    "## 4.6 Implementación de Reinas en un tablero"
   ]
  },
  {
   "attachments": {},
   "cell_type": "markdown",
   "metadata": {},
   "source": [
    "Desde la Unidad 2, D&C, venimos diciendo que un algoritmo implementado con una función recursiva puede ser perfectamente implementado por una función simple. Aprovecharemos esta oportunidad para remarcar la diferencia entre un algoritmo y su implementación. El algoritmo de `nqueens` es recursivo, pero eso no quiere decir que su implementación consista en una función recursiva.\n",
    "\n",
    "Claro, como verán, esto tiene un costo. Si bien la implementación de este algoritmo con una función recursiva es muy simple, al escribir una función no recursiva debemos implementar la lógica del stack dentro de nuestro código y esto implica un mayor número de líneas."
   ]
  },
  {
   "cell_type": "code",
   "execution_count": 29,
   "metadata": {},
   "outputs": [],
   "source": [
    "def counter(a, k, n, u_0):\n",
    "    for u in np.arange(u_0, n + 1, 1):\n",
    "        count = 0\n",
    "        for j in range(k):\n",
    "            if ((u != a[j]) and (np.abs(u - a[j]) != (k - j))):\n",
    "                count += 1\n",
    "            else:\n",
    "                break\n",
    "        if count == k:\n",
    "            return u\n",
    "    return 0\n",
    "\n",
    "def nqueens(n_max):\n",
    "    tiempo = []\n",
    "    for n in range(n_max + 1):\n",
    "        a = np.zeros([1, n+1])[0]\n",
    "        iteration = 1\n",
    "        sol_list = 0\n",
    "        flag = 0\n",
    "        u_0 = 1\n",
    "        k = 0\n",
    "        t_1 = time()\n",
    "        while not flag:\n",
    "            exit = 0\n",
    "            while not exit:\n",
    "                a[k] = counter(a, k, n, u_0)\n",
    "                u_0 = 1\n",
    "                if a[k] == 0:\n",
    "                    k -= 1\n",
    "                    if k == -1:\n",
    "                        flag = 1\n",
    "                        exit = 1\n",
    "                    u_0 = a[k] + 1\n",
    "                    a[k] = 0\n",
    "                    k -= 1\n",
    "                k += 1\n",
    "                if k == n:\n",
    "                    sol_list += 1\n",
    "                    #print(f'---> SOLUTION NUMBER {sol_list} = {a}')\n",
    "                    exit = 1\n",
    "            iteration += 1\n",
    "        t_tot = time() - t_1\n",
    "        tiempo.append(t_tot)\n",
    "        print(f\"Número de soluciones para {n} reinas: {sol_list}. Tiempo = {t_tot} segs.\")\n",
    "    return tiempo"
   ]
  },
  {
   "attachments": {},
   "cell_type": "markdown",
   "metadata": {},
   "source": [
    "No vamos a revisar esta función línea por línea, pero si aprovechemos para ver el tiempo que consume hallar todas las soluciones para los problemas de `nqueens` de todos los tamaños, desde `0`, hasta `nmax`.\n",
    "\n",
    "Cabe aclarar que esto no es un μbenchmark, sino que es apenas una primera exploración del tiempo de corrida."
   ]
  },
  {
   "cell_type": "code",
   "execution_count": 31,
   "metadata": {},
   "outputs": [
    {
     "name": "stdout",
     "output_type": "stream",
     "text": [
      "Número de soluciones para 0 reinas: 0. Tiempo = 2.765655517578125e-05 segs.\n",
      "Número de soluciones para 1 reinas: 1. Tiempo = 3.1948089599609375e-05 segs.\n",
      "Número de soluciones para 2 reinas: 0. Tiempo = 5.0067901611328125e-05 segs.\n",
      "Número de soluciones para 3 reinas: 0. Tiempo = 0.00011730194091796875 segs.\n",
      "Número de soluciones para 4 reinas: 2. Tiempo = 0.00047135353088378906 segs.\n",
      "Número de soluciones para 5 reinas: 10. Tiempo = 0.002165079116821289 segs.\n",
      "Número de soluciones para 6 reinas: 4. Tiempo = 0.006972789764404297 segs.\n",
      "Número de soluciones para 7 reinas: 40. Tiempo = 0.030506134033203125 segs.\n",
      "Número de soluciones para 8 reinas: 92. Tiempo = 0.09883809089660645 segs.\n",
      "Número de soluciones para 9 reinas: 352. Tiempo = 0.4206571578979492 segs.\n",
      "Número de soluciones para 10 reinas: 724. Tiempo = 1.6146636009216309 segs.\n",
      "Número de soluciones para 11 reinas: 2680. Tiempo = 8.801789045333862 segs.\n",
      "Número de soluciones para 12 reinas: 14200. Tiempo = 53.6846022605896 segs.\n"
     ]
    }
   ],
   "source": [
    "tiempo = nqueens(12)"
   ]
  },
  {
   "cell_type": "code",
   "execution_count": 32,
   "metadata": {},
   "outputs": [
    {
     "data": {
      "image/png": "[encoded data removed]",
      "text/plain": [
       "<Figure size 640x480 with 1 Axes>"
      ]
     },
     "metadata": {},
     "output_type": "display_data"
    }
   ],
   "source": [
    "plt.plot(tiempo)\n",
    "plt.show()"
   ]
  },
  {
   "attachments": {},
   "cell_type": "markdown",
   "metadata": {},
   "source": [
    "----------------"
   ]
  },
  {
   "attachments": {},
   "cell_type": "markdown",
   "metadata": {},
   "source": [
    "## 4.7 Conclusión"
   ]
  },
  {
   "attachments": {},
   "cell_type": "markdown",
   "metadata": {},
   "source": [
    "* Completar la práctica\n",
    "* Leer de Algorithms ; Chapter 2 Backtracking: **p(71-93)**"
   ]
  },
  {
   "attachments": {},
   "cell_type": "markdown",
   "metadata": {},
   "source": [
    "--------------------"
   ]
  },
  {
   "attachments": {},
   "cell_type": "markdown",
   "metadata": {},
   "source": [
    "### Contenidos a explicar durante la práctica"
   ]
  },
  {
   "attachments": {},
   "cell_type": "markdown",
   "metadata": {},
   "source": [
    "1."
   ]
  }
 ],
 "metadata": {
  "kernelspec": {
   "display_name": "Python 3 (ipykernel)",
   "language": "python",
   "name": "python3"
  },
  "language_info": {
   "codemirror_mode": {
    "name": "ipython",
    "version": 3
   },
   "file_extension": ".py",
   "mimetype": "text/x-python",
   "name": "python",
   "nbconvert_exporter": "python",
   "pygments_lexer": "ipython3",
   "version": "3.9.16"
  }
 },
 "nbformat": 4,
 "nbformat_minor": 4
}
