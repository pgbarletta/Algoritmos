{
 "cells": [
  {
   "cell_type": "code",
   "execution_count": 1,
   "metadata": {},
   "outputs": [],
   "source": [
    "import numpy as np\n",
    "import sys\n",
    "import math\n",
    "import itertools\n",
    "import matplotlib.pyplot as plt  \n",
    "from time import time "
   ]
  },
  {
   "cell_type": "markdown",
   "metadata": {},
   "source": [
    "# _Backtracking_"
   ]
  },
  {
   "cell_type": "markdown",
   "metadata": {},
   "source": [
    "## 4.1 Introducción"
   ]
  },
  {
   "cell_type": "markdown",
   "metadata": {},
   "source": [
    "Se resuelve un problema avanzando paso a paso, construyendo soluciones parciales recursivamente e interrumpiendo un camino de recursión cuando la solución parcial infringe un requisito, el subárbol que se abre no resulta promisiorio o se han agotado el espacio de soluciones posibles.\n",
    "\n",
    "En algunos casos, la noción de **solución parcial** no nos será tan útil, ya que no hay soluciones parciales, sino **estados**. Comenzaremos con un estado inicial y bus\n",
    "\n",
    "Se aplica en problemas de:\n",
    " * **Decisión**  (saber si existe una solución satsiface un conjunto de _constraints_)\n",
    " * **Enumeración** (hallar todas las soluciones a un problema)\n",
    " * **Optimización** (no suele llevar a algoritmos veloces para este tipo de problemas)\n",
    "\n",
    "A c/ paso construye una solución parcial y verifica su validez. Si ésta no satisface los requisitos (_constraints_), entonces el algoritmo vuelve sobre su paso (_backtracks_). Es decir, cuando el algoritmo debe decidir una alternativa entre varias posibles, no lo hace, simplemente evalua las alternativas viables recursivamente. \n",
    "\n",
    "Si el problema tiene _constraints_, entonces podrá realizar una **poda** del arbol de soluciones parciales y detener la exploración de este árbol cuando ya no pueda satisfacer estos requisitos.\n",
    "\n",
    "Por recorrer buena parte del espacio de soluciones parciales válidas,\n",
    "ésta técnica suele resultar en algoritmos con complejidades temporales elevadas (exponenciales, factoriales). Aun así encuentra utilidad en algunos casos. Por un lado es una forma sencilla de generar algún algoritmo para muchos problemas. Por otra parte, a la hora de satisfacer requisitos (_constraints_), un algoritmo generado por backtracking es preferible a explotar todo el espacio de soluciones parciales (válidas e inválidas), como haría un algoritmo de fuerza bruta.\n",
    "\n",
    "Si bien no es necesario que estos algoritmos sean implementados con funciones recursivas, ésta es la forma más natural de implementarlos y generalmente los problemas a la hora de entender estos algoritmos, son problemas relacionados con las funciones recursivas.\n",
    "Por eso, vamos a explorar una solución recursiva a un problema clásico, pero que no sigue la técnica de _backtracking_"
   ]
  },
  {
   "cell_type": "markdown",
   "metadata": {},
   "source": [
    "-------------"
   ]
  },
  {
   "cell_type": "markdown",
   "metadata": {},
   "source": [
    "## 4.2 Torre de Hanoi"
   ]
  },
  {
   "cell_type": "markdown",
   "metadata": {},
   "source": [
    "Dados `N` discos de tamaños crecientes (siendo el disco 1 el más pequeño y el disco N el más grande), y 3 pilares, mover los `N` discos desde uno de los pilares hacia otro de los 2. Sólo se puede mover de a un disco a la vez y además un disco nunca puede estar apilado encima de un disco más pequeño."
   ]
  },
  {
   "cell_type": "markdown",
   "metadata": {},
   "source": [
    "Fé de erratas: en 1:45 llamé al disco **mediano** como _el más grande_."
   ]
  },
  {
   "cell_type": "markdown",
   "metadata": {},
   "source": [
    "--------------"
   ]
  },
  {
   "cell_type": "markdown",
   "metadata": {},
   "source": [
    "## 4.3 Pseudocódigo de Torre de Hanoi"
   ]
  },
  {
   "cell_type": "markdown",
   "metadata": {},
   "source": [
    "Este pseudocódigo y la siguiente imagen (extraída de Algorithms, de Jeff Erickson) representan lo que vimos en el video:"
   ]
  },
  {
   "cell_type": "code",
   "execution_count": 5,
   "metadata": {},
   "outputs": [],
   "source": [
    "def torre_de_hanoi(n, fuente, destino, temporal):\n",
    "    if n > 0\n",
    "        torre_de_hanoi(n − 1, fuente, temporal, destino)\n",
    "        muevo_disco(n, fuente, destino)\n",
    "        torre_de_hanoi(n − 1, temporal, destino, fuente)\n",
    "    return"
   ]
  },
  {
   "cell_type": "markdown",
   "metadata": {},
   "source": [
    "<img src=\"hanoi.png\" alt=\"mm\" style=\"width: 1000px;\"/>"
   ]
  },
  {
   "cell_type": "markdown",
   "metadata": {},
   "source": [
    "La función del tiempo de ejecución se obtiene inmediatamente:"
   ]
  },
  {
   "cell_type": "markdown",
   "metadata": {},
   "source": [
    "$$ T(n) = 2 T(n-1) + 1 $$"
   ]
  },
  {
   "cell_type": "markdown",
   "metadata": {},
   "source": [
    "Más allá del segundo término constante, el árbol de recursión que esta fórmula implica es un árbol binario de altura $n$.\n",
    "A cada nivel se duplicarán el número de hojas:"
   ]
  },
  {
   "cell_type": "markdown",
   "metadata": {},
   "source": [
    "<img src=\"arbol_binario.png\" alt=\"mm\" style=\"width: 500px;\"/>"
   ]
  },
  {
   "cell_type": "markdown",
   "metadata": {},
   "source": [
    "No comprobaremos la complejidad de este álgoritmo, pero utilizando este método (el del árbol de recursión), vemos que este algoritmo, al explorar semejante árbol, tendrá una complejidad de $O(n) = 2^{n}$ "
   ]
  },
  {
   "cell_type": "markdown",
   "metadata": {},
   "source": [
    "Cómo encararía este problema un algoritmo de _backtracking_?"
   ]
  },
  {
   "cell_type": "markdown",
   "metadata": {},
   "source": [
    "-------"
   ]
  },
  {
   "cell_type": "markdown",
   "metadata": {},
   "source": [
    "## 4.4 Torre de Hanoi por backtracking"
   ]
  },
  {
   "cell_type": "markdown",
   "metadata": {},
   "source": [
    "Notamos que en este problema satisfacer los requisitos es inmediato. Simplemente movemos de a 1 disco y nunca movemos un disco por encima de uno más grande.\n",
    "Por otro lado, este problema requiere que el algoritmo tenga memoria de los estados ya explorados y no vuelva a visitarlos. Esto se convierte en un requisito adicional y a diferencia de los 2 requisitos anteriores, si puede desencadenar un evento de _backtrack_: si en alguna instancia, me encuentro que todos los movimientos que puedo hacer me llevan a estados ya visitados, no me quedará otra alternativa que volver sobre mis pasos hasta encontrar un movimiento posible que me lleve a un estado novedoso."
   ]
  },
  {
   "cell_type": "markdown",
   "metadata": {},
   "source": [
    "### Torre de Hanoi en backtracking"
   ]
  },
  {
   "cell_type": "markdown",
   "metadata": {},
   "source": [
    "Lo siguiente es una posible implementación del algoritmo para resolver el problema de la torre de Hanoi en _backtracking_.\n",
    "\n",
    "Noten que en `memoria` no elimino los estados que no conducen a la solución final, sino que ahí quedan registrados todos los estados que tuvo que visitar. \n",
    "Por eso imprimo mensajes en las líneas `18` y `23` de `hanoi_bt()` (`View > Show Line Numbers`), que son\n",
    "los puntos en los que estoy seguro de estar en estados parciales que me pueden conducir a la solución final, sin repetir estados anteriores.\n",
    "\n",
    "Recomiendo juntar **3** discos de distintos tamaños y reproducir, de abajo para arriba, los estados que llevaron a la solución final. Lo más probable es que haya movimientos innecesarios en este camino. Este algoritmo no se propone solucionar Torre de Hanoi con el menor número de movimientos posible, sino simplemente resolverlo.\n",
    "\n",
    "Si nos planteáramos este nuevo objetivo entonces estaríamos ante un problema de optimización y en tal caso no quedaría más alternativa que probar todas las soluciones posibles desde el estado inicial hasta el final, algo particularmente engorroso en este problema ya que _backtracking_ no tiene una noción de progreso para este problema, y se puede alcanzar cualquier estado desde cualquier otro estado."
   ]
  },
  {
   "cell_type": "code",
   "execution_count": null,
   "metadata": {},
   "outputs": [],
   "source": [
    "# A cada paso sólo se puede mover el disco 0 (el chico) y, opcionalmente, otro a determinar.\n",
    "def siguiente_estado(estado, step):\n",
    "    disco_a_mover = 0\n",
    "    nuevo_pilar = estado[0]\n",
    "    pilares = [0, 1, 2]\n",
    "    pilares_libres = list(filter(lambda x: x != nuevo_pilar, pilares))\n",
    "    \n",
    "    # Hay 3 movimientos posibles:\n",
    "    # step 1: mover `disco_a_mover` al pilar q no está ocupado por el 0\n",
    "    # step 2: si sólo se puede mover el disco 0, moverlo al primer pilar libre\n",
    "    # step 3: si sólo se puede mover el disco 0, moverlo al segundo pilar libre.\n",
    "    nuevo_estado = np.copy(estado)\n",
    "    if step == 1:\n",
    "        # éste paso sólo tiene sentido cuando se pueda mover un disco más\n",
    "        # grande q disco 0\n",
    "        for disco in range(1, len(estado)):\n",
    "            if estado[disco] != estado[0]:\n",
    "                # Este es el disco más pequeño que no está por debajo del disco 0. Es el que se puede mover.\n",
    "                disco_a_mover = disco\n",
    "                break\n",
    "        if disco_a_mover != 0:\n",
    "            nuevo_pilar = list(filter(lambda x: x != estado[disco_a_mover], pilares_libres))[0]\n",
    "    elif step == 2:\n",
    "        nuevo_pilar = pilares_libres[0]\n",
    "    elif step == 3:\n",
    "        nuevo_pilar = pilares_libres[1]\n",
    "        \n",
    "    nuevo_estado[disco_a_mover] = nuevo_pilar\n",
    "    return nuevo_estado"
   ]
  },
  {
   "cell_type": "code",
   "execution_count": 139,
   "metadata": {},
   "outputs": [],
   "source": [
    "def hanoi_bt(estado, memoria, fin):\n",
    "    step = 1\n",
    "    while step < 4:\n",
    "        nuevo_estado = siguiente_estado(estado, step)\n",
    "        flag = False\n",
    "        for estado_anterior in memoria:\n",
    "            if np.array_equal(estado_anterior, nuevo_estado):\n",
    "                step += 1\n",
    "                flag = True\n",
    "                break\n",
    "        if flag:\n",
    "            # `nuevo_estado` no es verdaderamente nuevo\n",
    "            continue\n",
    "        memoria = np.vstack((memoria, nuevo_estado))\n",
    "\n",
    "        if np.array_equal(nuevo_estado, fin):\n",
    "            print(\"#####  Éxito #####\")\n",
    "            print(\"del estado: \", estado)\n",
    "            return True, memoria\n",
    "        else:\n",
    "            exito, memoria = hanoi_bt(nuevo_estado, memoria, fin)\n",
    "            if exito:\n",
    "                print(\"del estado: \", estado)\n",
    "                return True, memoria\n",
    "            \n",
    "    print(\"backtrack!:   \", memoria[-1, :])\n",
    "    return False, memoria"
   ]
  },
  {
   "cell_type": "code",
   "execution_count": 140,
   "metadata": {},
   "outputs": [],
   "source": [
    "n = 3\n",
    "estado = np.repeat(0, n)\n",
    "fin = np.repeat(2, n)\n",
    "# Le guardo 2 veces el estado inicial por una tecnicalidad, no es relevante.\n",
    "memoria = np.vstack((estado, estado))"
   ]
  },
  {
   "cell_type": "code",
   "execution_count": 141,
   "metadata": {},
   "outputs": [
    {
     "name": "stdout",
     "output_type": "stream",
     "text": [
      "backtrack!:    [2 0 1]\n",
      "backtrack!:    [2 0 1]\n",
      "backtrack!:    [2 0 1]\n",
      "backtrack!:    [2 0 1]\n",
      "backtrack!:    [2 2 0]\n",
      "backtrack!:    [2 2 0]\n",
      "backtrack!:    [2 2 0]\n",
      "backtrack!:    [2 2 0]\n",
      "backtrack!:    [2 2 0]\n",
      "backtrack!:    [2 2 0]\n",
      "backtrack!:    [2 1 2]\n",
      "backtrack!:    [2 1 2]\n",
      "backtrack!:    [2 1 2]\n",
      "backtrack!:    [2 1 2]\n",
      "#####  Éxito #####\n",
      "del estado:  [1 2 2]\n",
      "del estado:  [0 2 2]\n",
      "del estado:  [0 1 2]\n",
      "del estado:  [1 1 2]\n",
      "del estado:  [1 1 0]\n",
      "del estado:  [0 1 0]\n",
      "del estado:  [0 2 0]\n",
      "del estado:  [1 2 0]\n",
      "del estado:  [1 0 0]\n",
      "del estado:  [0 0 0]\n"
     ]
    }
   ],
   "source": [
    "exito, estados = hanoi_bt(estado, memoria, fin)"
   ]
  },
  {
   "cell_type": "markdown",
   "metadata": {},
   "source": [
    "Notar que la lista de estados visitados es más larga que la de estados que llevan a la solución final sin repetir estados anteriores. Esta diferencia se hace más grande cuanto más discos haya."
   ]
  },
  {
   "cell_type": "code",
   "execution_count": 135,
   "metadata": {},
   "outputs": [
    {
     "data": {
      "text/plain": [
       "array([[0, 0, 0],\n",
       "       [0, 0, 0],\n",
       "       [1, 0, 0],\n",
       "       [1, 2, 0],\n",
       "       [0, 2, 0],\n",
       "       [0, 1, 0],\n",
       "       [1, 1, 0],\n",
       "       [1, 1, 2],\n",
       "       [0, 1, 2],\n",
       "       [0, 2, 2],\n",
       "       [1, 2, 2],\n",
       "       [1, 0, 2],\n",
       "       [0, 0, 2],\n",
       "       [0, 0, 1],\n",
       "       [1, 0, 1],\n",
       "       [1, 2, 1],\n",
       "       [0, 2, 1],\n",
       "       [0, 1, 1],\n",
       "       [1, 1, 1],\n",
       "       [2, 1, 1],\n",
       "       [2, 0, 1],\n",
       "       [2, 2, 1],\n",
       "       [2, 2, 0],\n",
       "       [2, 0, 2],\n",
       "       [2, 1, 2],\n",
       "       [2, 2, 2]])"
      ]
     },
     "execution_count": 135,
     "metadata": {},
     "output_type": "execute_result"
    }
   ],
   "source": [
    "estados"
   ]
  },
  {
   "cell_type": "markdown",
   "metadata": {},
   "source": [
    "----------"
   ]
  },
  {
   "cell_type": "markdown",
   "metadata": {},
   "source": [
    "## 4.5 Reinas en un tablero"
   ]
  },
  {
   "cell_type": "markdown",
   "metadata": {},
   "source": [
    "Acabamos de ver un problema en el que si no tenemos memoria de los estados visitados, nuestro algoritmo no terminaría nunca. Veamos ahora un problema en el que sí hay una noción de progreso, por lo que no es necesario tener memoria de soluciones parciales anteriores. Eso si, en este problema es muy fácil construir soluciones parciales que sean erróneas y cuyo error no será evidente hasta que los requisitos sean violados."
   ]
  },
  {
   "cell_type": "markdown",
   "metadata": {},
   "source": [
    "Se deben colocar `n` reinas en un tablero de `nxn` sin que estas se ataquen mutuamente. Veamos una solución ejemplo para un tablero de `4x4`:"
   ]
  },
  {
   "cell_type": "markdown",
   "metadata": {},
   "source": [
    "<img src=\"queens.png\" alt=\"mm\" style=\"width: 500px;\"/>"
   ]
  },
  {
   "cell_type": "markdown",
   "metadata": {},
   "source": [
    "El algoritmo de backtracking que resuelve este problema lo hace construyendo soluciones parciales. Coloca, recursivamente, de a 1 reina en el tablero, cuidando que no se viole el requisito (es decir, que no se ataquen entre ellas). Si la reina a colocar en la instancia actual, no tiene celda válida posible, entonces es evidente que hemos explorado un camino inválido. Entonces, volvemos 1 paso y le buscamos un nuevo lugar a la reina que colocamos en la instancia inmediatamente anterior. Esta mecánica se repita hasta hallar una solución válida.\n",
    "\n",
    "El algoritmo que veremos, tiene una inteligencia: sabe que necesariamente habrá una reina por fila y por columna, por lo que a la hora de colocar cada reina, no explora todas las celdas vacías del tablero, sino sólamente las celdas de la siguiente fila o columna.\n",
    "\n",
    "Veamos el árbol que recorre el algoritmo para hallar una de las 2 soluciones anteriores:"
   ]
  },
  {
   "cell_type": "markdown",
   "metadata": {},
   "source": [
    "<img src=\"nqueens_tree.png\" alt=\"mm\" style=\"width: 800px;\"/>"
   ]
  },
  {
   "cell_type": "markdown",
   "metadata": {},
   "source": [
    "La complejidad del algoritmo de _backtrack_ es de $O(2^{n})$, lo cual es una mejora respecto de la complejidad del algoritmo bruto: $O(n!)$"
   ]
  },
  {
   "cell_type": "markdown",
   "metadata": {},
   "source": [
    "-------------------"
   ]
  },
  {
   "cell_type": "markdown",
   "metadata": {},
   "source": [
    "## 4.6 Implementación de Reinas en un tablero"
   ]
  },
  {
   "cell_type": "markdown",
   "metadata": {},
   "source": [
    "Desde la Unidad 2, D&C, venimos diciendo que un algoritmo implementado con una función recursiva puede ser perfectamente implementado por una función simple. Aprovecharemos esta oportunidad para remarcar la diferencia entre un algoritmo y su implementación. El algoritmo de `nqueens` es recursivo, pero eso no quiere decir que su implementación consista en una función recursiva.\n",
    "\n",
    "Claro, como verán, esto tiene un costo. Si bien la implementación de este algoritmo con una función recursiva es muy simple, al escribir una función no recursiva debemos implementar la lógica del stack dentro de nuestro código y esto implica un mayor número de líneas."
   ]
  },
  {
   "cell_type": "code",
   "execution_count": 21,
   "metadata": {},
   "outputs": [],
   "source": [
    "def counter(a, k, n, u_0):\n",
    "    for u in np.arange(u_0, n + 1, 1):\n",
    "        count = 0\n",
    "        for j in range(k):\n",
    "            if ((u != a[j]) and (np.abs(u - a[j]) != (k - j))):\n",
    "                count += 1\n",
    "            else:\n",
    "                break\n",
    "        if count == k:\n",
    "            return u\n",
    "    return 0\n",
    "\n",
    "def nqueens(n_max):\n",
    "    tiempo = []\n",
    "    for n in range(n_max + 1):\n",
    "        a = np.zeros([1, n+1])[0]\n",
    "        iteration = 1\n",
    "        sol_list = 0\n",
    "        flag = 0\n",
    "        u_0 = 1\n",
    "        k = 0\n",
    "        t_1 = time()\n",
    "        while not flag:\n",
    "            exit = 0\n",
    "            while not exit:\n",
    "                a[k] = counter(a, k, n, u_0)\n",
    "                u_0 = 1\n",
    "                if a[k] == 0:\n",
    "                    k -= 1\n",
    "                    if k == -1:\n",
    "                        flag = 1\n",
    "                        exit = 1\n",
    "                    u_0 = a[k] + 1\n",
    "                    a[k] = 0\n",
    "                    k -= 1\n",
    "                k += 1\n",
    "                if k == n:\n",
    "                    sol_list += 1\n",
    "                    #print('---> SOLUTION NUMBER {} = {}'.format(sol_list, a))\n",
    "                    exit = 1\n",
    "            iteration += 1\n",
    "        t_tot = time() - t_1\n",
    "        tiempo.append(t_tot)\n",
    "        print(\"Total number of solutions for {} queens: {}. Time execution = {} seg.\".format(n, sol_list, t_tot))\n",
    "    return tiempo"
   ]
  },
  {
   "cell_type": "markdown",
   "metadata": {},
   "source": [
    "No vamos a revisar esta función línea por línea, pero si aprovechemos para ver el tiempo que consume hallar todas las soluciones para los problemas de `nqueens` de todos los tamaños, desde `0`, hasta `nmax`.\n",
    "\n",
    "Cabe aclarar que esto no es un μbenchmark, sino que es apenas una primera exploración del tiempo de corrida."
   ]
  },
  {
   "cell_type": "code",
   "execution_count": 23,
   "metadata": {},
   "outputs": [
    {
     "name": "stdout",
     "output_type": "stream",
     "text": [
      "Total number of solutions for 0 queens: 0. Time execution = 2.9802322387695312e-05 seg.\n",
      "Total number of solutions for 1 queens: 1. Time execution = 6.031990051269531e-05 seg.\n",
      "Total number of solutions for 2 queens: 0. Time execution = 8.940696716308594e-05 seg.\n",
      "Total number of solutions for 3 queens: 0. Time execution = 0.00024175643920898438 seg.\n",
      "Total number of solutions for 4 queens: 2. Time execution = 0.0012366771697998047 seg.\n",
      "Total number of solutions for 5 queens: 10. Time execution = 0.005398750305175781 seg.\n",
      "Total number of solutions for 6 queens: 4. Time execution = 0.011016130447387695 seg.\n",
      "Total number of solutions for 7 queens: 40. Time execution = 0.07401299476623535 seg.\n",
      "Total number of solutions for 8 queens: 92. Time execution = 0.21023821830749512 seg.\n",
      "Total number of solutions for 9 queens: 352. Time execution = 1.1167523860931396 seg.\n",
      "Total number of solutions for 10 queens: 724. Time execution = 5.513371229171753 seg.\n",
      "Total number of solutions for 11 queens: 2680. Time execution = 31.590967178344727 seg.\n"
     ]
    }
   ],
   "source": [
    "tiempo = nqueens(11)"
   ]
  },
  {
   "cell_type": "code",
   "execution_count": 24,
   "metadata": {},
   "outputs": [
    {
     "data": {
      "image/png": "[encoded data removed]",
      "text/plain": [
       "<Figure size 432x288 with 1 Axes>"
      ]
     },
     "metadata": {
      "needs_background": "light"
     },
     "output_type": "display_data"
    }
   ],
   "source": [
    "plt.plot(tiempo)\n",
    "plt.show()"
   ]
  },
  {
   "cell_type": "markdown",
   "metadata": {},
   "source": [
    "----------------"
   ]
  },
  {
   "cell_type": "markdown",
   "metadata": {},
   "source": [
    "## 4.7 Conclusión"
   ]
  },
  {
   "cell_type": "markdown",
   "metadata": {},
   "source": [
    "* Completar la práctica\n",
    "* Leer de Algorithms ; Chapter 2 Backtracking: **p(71-93)**"
   ]
  },
  {
   "cell_type": "markdown",
   "metadata": {},
   "source": [
    "--------------------"
   ]
  },
  {
   "cell_type": "markdown",
   "metadata": {},
   "source": [
    "### Contenidos a explicar durante la práctica"
   ]
  },
  {
   "cell_type": "markdown",
   "metadata": {},
   "source": [
    "1."
   ]
  }
 ],
 "metadata": {
  "kernelspec": {
   "display_name": "Python 3 (ipykernel)",
   "language": "python",
   "name": "python3"
  },
  "language_info": {
   "codemirror_mode": {
    "name": "ipython",
    "version": 3
   },
   "file_extension": ".py",
   "mimetype": "text/x-python",
   "name": "python",
   "nbconvert_exporter": "python",
   "pygments_lexer": "ipython3",
   "version": "3.8.11"
  }
 },
 "nbformat": 4,
 "nbformat_minor": 4
}
