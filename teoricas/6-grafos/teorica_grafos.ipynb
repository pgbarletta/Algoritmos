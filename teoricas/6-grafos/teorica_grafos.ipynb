{
 "cells": [
  {
   "cell_type": "code",
   "execution_count": 3,
   "source": [
    "import numpy as np\n",
    "import sys\n",
    "import math\n",
    "import itertools\n",
    "import matplotlib.pyplot as plt  \n",
    "import networkx as nx\n",
    "from collections import deque"
   ],
   "outputs": [],
   "metadata": {}
  },
  {
   "cell_type": "markdown",
   "source": [
    "# Grafos"
   ],
   "metadata": {}
  },
  {
   "cell_type": "markdown",
   "source": [
    "## 6.1 Introducción"
   ],
   "metadata": {}
  },
  {
   "cell_type": "markdown",
   "source": [
    "Un grafo $G = (V, X)$ es un par de conjuntos, donde $V$ es un conjunto de **nodos**\n",
    "y $X$ es un subconjunto del conjunto de pares no ordenados de elementos distintos de V.\n",
    "* Los elementos de $V$ se llaman **nodos** o **vértices**\n",
    "* Los elementos de $X$ se llaman aristas, ejes o arcos.\n",
    "* Dados $v, w ∈ V$, si $e = (v,w) ∈ X$ se dice que `v` y `w` son adyacentes y que `e` es incidente a `v` y `w`."
   ],
   "metadata": {}
  },
  {
   "cell_type": "markdown",
   "source": [
    "<img src=\"grafo_1.png\" alt=\"mm\" style=\"width: 300px;\"/>"
   ],
   "metadata": {}
  },
  {
   "cell_type": "markdown",
   "source": [
    "#### Notación: \n",
    "\n",
    "* $n = |V|$\n",
    "* $m = |X|$"
   ],
   "metadata": {}
  },
  {
   "cell_type": "markdown",
   "source": [
    "--------"
   ],
   "metadata": {}
  },
  {
   "cell_type": "markdown",
   "source": [
    "### Multigrafo"
   ],
   "metadata": {}
  },
  {
   "cell_type": "markdown",
   "source": [
    "grafo en el que puede haber varias aristas entre el mismo par de vértices distintos."
   ],
   "metadata": {}
  },
  {
   "cell_type": "markdown",
   "source": [
    "<img src=\"multigrafo.png\" alt=\"mm\" style=\"width: 300px;\"/>"
   ],
   "metadata": {}
  },
  {
   "cell_type": "markdown",
   "source": [
    "---"
   ],
   "metadata": {}
  },
  {
   "cell_type": "markdown",
   "source": [
    "### Pseudografo"
   ],
   "metadata": {}
  },
  {
   "cell_type": "markdown",
   "source": [
    "Un grafo en el que puede haber varias aristas entre cada par de vértices y también puede haber aristas que unan a un vértice con sí mismo (_loops_)."
   ],
   "metadata": {
    "tags": []
   }
  },
  {
   "cell_type": "markdown",
   "source": [
    "<img src=\"pseudografo.png\" alt=\"mm\" style=\"width: 300px;\"/>"
   ],
   "metadata": {}
  },
  {
   "cell_type": "markdown",
   "source": [
    "--------"
   ],
   "metadata": {}
  },
  {
   "cell_type": "markdown",
   "source": [
    "### Grado"
   ],
   "metadata": {}
  },
  {
   "cell_type": "markdown",
   "source": [
    "El **grado** de un vértice `v` es la cantidad de aristas incidentes a `v`."
   ],
   "metadata": {}
  },
  {
   "cell_type": "markdown",
   "source": [
    "#### Notación: \n",
    "\n",
    "* `d(v)`: grado de` v`.\n",
    "\n",
    "Ej: en el pseudografo anterior, $d(u) = 1$ y $d(v) = 3$"
   ],
   "metadata": {}
  },
  {
   "cell_type": "markdown",
   "source": [
    "#### Teorema\n",
    "\n",
    "La suma de los grados de los vértices de un grafo es igual a 2 veces el número de aristas. `aplica a multi y pseudos también, no?`\n",
    "\n",
    "$$\n",
    "\\sum_{i=1}^{n} d(v_{i}) = 2m\n",
    "$$"
   ],
   "metadata": {}
  },
  {
   "cell_type": "markdown",
   "source": [
    "#### Ejemplo:\n",
    "\n",
    "$$ d(u) = 1, \\ d(v) = 3 \\, \\ d(w) = 2 \\ d(x) = 3, \\ d(y) = 2 \\ d(z) = 3 \n",
    "\\newline\n",
    "\\ \n",
    "\\newline\n",
    "1+3+2+3+2+3 = 14 = 2m \\rightarrow m = 7 $$\n",
    "\n",
    "Hay $7$ ejes"
   ],
   "metadata": {}
  },
  {
   "cell_type": "markdown",
   "source": [
    "<img src=\"grafo_1.png\" alt=\"mm\" style=\"width: 300px;\"/>"
   ],
   "metadata": {}
  },
  {
   "cell_type": "markdown",
   "source": [
    "--------"
   ],
   "metadata": {}
  },
  {
   "cell_type": "markdown",
   "source": [
    "### Grafo Completo"
   ],
   "metadata": {}
  },
  {
   "cell_type": "markdown",
   "source": [
    "Un grafo se dice completo si todos los vértices son adyacentes entre sí.\n",
    "\n",
    "#### Notación\n",
    "\n",
    "$K_{n}$ es el grafo completo de $n$ vértices."
   ],
   "metadata": {}
  },
  {
   "cell_type": "markdown",
   "source": [
    "<img src=\"grafo_completo.png\" alt=\"mm\" style=\"width: 300px;\"/>"
   ],
   "metadata": {}
  },
  {
   "cell_type": "markdown",
   "source": [
    "### Grafo complemento"
   ],
   "metadata": {}
  },
  {
   "cell_type": "markdown",
   "source": [
    "Dado un grafo $G = (V, X)$, el grafo complemento tiene el mismo conjunto de vértices y un par de vértices son adyacentes, sí y solo sí, no son adyacentes en $G$."
   ],
   "metadata": {}
  },
  {
   "cell_type": "markdown",
   "source": [
    "#### Notación:\n",
    "\n",
    "$\\overline{G}$ es el grafo complemento de $G$."
   ],
   "metadata": {}
  },
  {
   "cell_type": "markdown",
   "source": [
    "<img src=\"grafo_complemento.png\" alt=\"mm\" style=\"width: 300px;\"/>"
   ],
   "metadata": {}
  },
  {
   "cell_type": "markdown",
   "source": [
    "--------"
   ],
   "metadata": {}
  },
  {
   "cell_type": "markdown",
   "source": [
    "## 6.2 Caminos y Circuitos"
   ],
   "metadata": {}
  },
  {
   "cell_type": "markdown",
   "source": [
    "### Camino"
   ],
   "metadata": {}
  },
  {
   "cell_type": "markdown",
   "source": [
    "Un **camino** en un grafo es una sucesión de aristas $e_{1}, e_{2}, ..., e_{k}$\n",
    "tal que un extremo de $e_{i}$ coincide con uno de $e_{i−1}$ y\n",
    "el otro con uno de $e_{i+1}$ para $i = 2, ..., k − 1$."
   ],
   "metadata": {}
  },
  {
   "cell_type": "markdown",
   "source": [
    "<img src=\"camino.png\" alt=\"mm\" style=\"width: 400px;\"/>\n",
    "\n",
    "$ \\{ (u, v), \\ (v, z), \\ (z, x), \\ (x, w), \\ (w, v), \\ (v, z) \\} $\n",
    "\n",
    "\n",
    "$ \\{ (v, z), \\ (w, v), \\ (x, w), \\ (z, x), \\ (v, z), \\ (u, v) \\} $"
   ],
   "metadata": {}
  },
  {
   "cell_type": "markdown",
   "source": [
    "### Camino simple"
   ],
   "metadata": {}
  },
  {
   "cell_type": "markdown",
   "source": [
    "Es un camino que no pasa dos veces por el mismo vértice."
   ],
   "metadata": {}
  },
  {
   "cell_type": "markdown",
   "source": [
    "<img src=\"camino_simple.png\" alt=\"mm\" style=\"width: 400px;\"/>\n",
    "\n",
    "$ \\{ (u, v), \\ (v, w), \\ (w, x), \\ (x, z) \\} $\n",
    "\n",
    "$ \\{ (z, x), \\ (x, w), \\ (w, v), \\ (v, u) \\} $\n",
    "\n",
    "Caminos equivalentes. No hay direción."
   ],
   "metadata": {}
  },
  {
   "cell_type": "markdown",
   "source": [
    "### Circuito"
   ],
   "metadata": {}
  },
  {
   "cell_type": "markdown",
   "source": [
    "Es un camino que empieza y termina en el mismo vértice."
   ],
   "metadata": {}
  },
  {
   "cell_type": "markdown",
   "source": [
    "<img src=\"camino.png\" alt=\"mm\" style=\"width: 400px;\"/>\n",
    "\n",
    "$ \\{ (u, v), \\ (v, z), \\ (z, x), \\ (x, w), \\ (w, v), \\ (v, u) \\} $\n",
    "\n",
    "$ \\{ (u, v), \\ (v, w), \\ (w, x), \\ (x, z), \\ (z, v), \\ (v, u) \\} $"
   ],
   "metadata": {}
  },
  {
   "cell_type": "markdown",
   "source": [
    "### Circuito simple"
   ],
   "metadata": {}
  },
  {
   "cell_type": "markdown",
   "source": [
    "Es un circuito de 3 o más vértices que no pasa dos veces por el mismo vértice"
   ],
   "metadata": {}
  },
  {
   "cell_type": "markdown",
   "source": [
    "<img src=\"circuito_simple.png\" alt=\"mm\" style=\"width: 400px;\"/>\n",
    "\n",
    "$ \\{ (y, x), \\ (x, w), \\ (w, v), \\ (v, z), \\ (z, y) \\} $\n",
    "\n",
    "$ \\{ (y, z), \\ (z, v), \\ (v, w), \\ (w, x), \\ (x, y) \\} $"
   ],
   "metadata": {}
  },
  {
   "cell_type": "markdown",
   "source": [
    "------"
   ],
   "metadata": {}
  },
  {
   "cell_type": "markdown",
   "source": [
    "### Distancia"
   ],
   "metadata": {}
  },
  {
   "cell_type": "markdown",
   "source": [
    "#### Longitud"
   ],
   "metadata": {}
  },
  {
   "cell_type": "markdown",
   "source": [
    "La longitud de un camino es la cantidad de aristas que tiene."
   ],
   "metadata": {}
  },
  {
   "cell_type": "markdown",
   "source": [
    "#### Distancia"
   ],
   "metadata": {}
  },
  {
   "cell_type": "markdown",
   "source": [
    "La distancia entre dos vértices $v$ y $w$ de un grafo se define como\n",
    "la longitud del camino más corto entre $v$ y $w$."
   ],
   "metadata": {}
  },
  {
   "cell_type": "markdown",
   "source": [
    "#### Notación\n",
    "\n",
    "$d(v,w)$ denota la distancia entre $v$ y $w$."
   ],
   "metadata": {}
  },
  {
   "cell_type": "markdown",
   "source": [
    "Para todo vértice v, d(v, v) = 0.\n",
    "\n",
    "Si no existe camino entre v y w se dice que $d(v,w) = \\infty$"
   ],
   "metadata": {}
  },
  {
   "cell_type": "markdown",
   "source": [
    "**Proposición**: Si un camino $P$ entre $v$ y w tiene longitud $d(v,w)$, $P$ debe ser un camino simple."
   ],
   "metadata": {}
  },
  {
   "cell_type": "markdown",
   "source": [
    "#### Propiedades de la función distancia"
   ],
   "metadata": {}
  },
  {
   "cell_type": "markdown",
   "source": [
    "Para todo $u$, $v$, $w$ pertenecientes a $V$:\n",
    "\n",
    "\n",
    "* $d(u, v) ≥ 0$ y $d(u, v) = 0$, si y sólo si, $u = v$\n",
    "* $d(u, v) = d(v, u)$\n",
    "* $d(u,w) ≤ d(u, v) + d(v,w)$\n",
    "\n",
    "Si $P$ es un camino entre $u$ y $v$ de longitud $d(u, v)$ y $z,w ∈ P$,\n",
    "entonces $P_{zw}$ es un camino entre $z$ y $w$ de longitud $d(z,w)$,\n",
    "donde $P_{zw}$ es el subcamino de $P$ entre $z$ y $w$."
   ],
   "metadata": {}
  },
  {
   "cell_type": "markdown",
   "source": [
    "<img src=\"grafo_distancia.png\" alt=\"mm\" style=\"width: 400px;\"/>\n",
    "\n",
    "La longitud del camino resaltado en amarillo entre $u$ e $y$ no es igual a $d(u, y)$, por lo tanto el subcamino entre $v$ e $y$ tampoco tiene longitud igual a la distancia entre sus nodos $d(v, y)$.\n",
    "\n",
    "El camino en rojo, sí cumple con nuestra proposición."
   ],
   "metadata": {}
  },
  {
   "cell_type": "markdown",
   "source": [
    "----"
   ],
   "metadata": {}
  },
  {
   "cell_type": "markdown",
   "source": [
    "## 6.3 Más definiciones"
   ],
   "metadata": {}
  },
  {
   "cell_type": "markdown",
   "source": [
    "### Subgrafo"
   ],
   "metadata": {}
  },
  {
   "cell_type": "markdown",
   "source": [
    "Dado un grafo $G = (V, X)$, un subgrafo de $G$ es un grafo $H = (V, X)$ tal que:\n",
    "\n",
    "$V' ⊆ V$ y $X' ⊆ X ∩ (V' × V')$"
   ],
   "metadata": {}
  },
  {
   "cell_type": "markdown",
   "source": [
    "<img src=\"grafo_conexo.png\" alt=\"mm\" style=\"width: 800px;\"/>"
   ],
   "metadata": {}
  },
  {
   "cell_type": "markdown",
   "source": [
    "### Subgrafo inducido"
   ],
   "metadata": {}
  },
  {
   "cell_type": "markdown",
   "source": [
    "Un subgrafo $H = (V', X')$ de $G = (V, X)$, es un subgrafo inducido\n",
    "si para todo par de vértices $u, v ∈ V'$:\n",
    "\n",
    "$(u, v) ∈ X ⇐⇒ (u, v) ∈ X$"
   ],
   "metadata": {}
  },
  {
   "cell_type": "markdown",
   "source": [
    "<img src=\"subgrafo_inducido.png\" alt=\"mm\" style=\"width: 800px;\"/>\n",
    "\n",
    "2 de estos grafos son subgrafos del primero, pero sólo 1 es subgrafo inducido."
   ],
   "metadata": {}
  },
  {
   "cell_type": "markdown",
   "source": [
    "### Grafo Conexo"
   ],
   "metadata": {}
  },
  {
   "cell_type": "markdown",
   "source": [
    "Un grafo se dice conexo si existe un camino entre todo par de vértices."
   ],
   "metadata": {}
  },
  {
   "cell_type": "markdown",
   "source": [
    "### Componente conexa"
   ],
   "metadata": {}
  },
  {
   "cell_type": "markdown",
   "source": [
    "Una componente conexa de un grafo $G$ es un subgrafo conexo maximal de $G$."
   ],
   "metadata": {}
  },
  {
   "cell_type": "markdown",
   "source": [
    "<img src=\"componente_conexa.png\" alt=\"mm\" style=\"width: 600px;\"/>"
   ],
   "metadata": {}
  },
  {
   "cell_type": "markdown",
   "source": [
    "---"
   ],
   "metadata": {}
  },
  {
   "cell_type": "markdown",
   "source": [
    "### Grafo Bipartito"
   ],
   "metadata": {}
  },
  {
   "cell_type": "markdown",
   "source": [
    "Un grafo $G = (V, X)$ se dice bipartito si existe una partición $V_{1}$, $V_{2}$\n",
    "del conjunto de vértices $V$:\n",
    "\n",
    "1. $V = V1 ∪ V2$\n",
    "2. $V1 ∩ V2 = ∅$\n",
    "3. $V1 \\neq ∅$\n",
    "4. $V2 \\neq ∅$\n",
    "\n",
    "tal que todas las aristas de $G$ tienen un extremo en $V_{1}$ y otro en $V_{2}$."
   ],
   "metadata": {}
  },
  {
   "cell_type": "markdown",
   "source": [
    "#### Bifartito completo"
   ],
   "metadata": {}
  },
  {
   "cell_type": "markdown",
   "source": [
    "Un grafo bipartito con partición $V_{1}$, $V_{2}$,\n",
    "es bipartito completo si todo vértice en $V_{1}$ es adyacente a todo vértice en $V_{2}$"
   ],
   "metadata": {}
  },
  {
   "cell_type": "markdown",
   "source": [
    "<img src=\"bipartito.png\" alt=\"mm\" style=\"width: 600px;\"/>\n",
    "\n",
    "Un grafo bipartito completo, uno bipartito y uno que no es bipartito debido al eje resaltado."
   ],
   "metadata": {}
  },
  {
   "cell_type": "markdown",
   "source": [
    "#### Teorema\n",
    "Un grafo es bipartito, si y sólo si, no tiene circuitos simples de longitud impar."
   ],
   "metadata": {}
  },
  {
   "cell_type": "markdown",
   "source": [
    "-----"
   ],
   "metadata": {}
  },
  {
   "cell_type": "markdown",
   "source": [
    "### Isomorfismo"
   ],
   "metadata": {}
  },
  {
   "cell_type": "markdown",
   "source": [
    "Dos grafos $G = (V, X)$ y $G' = (V', X')$ se dicen isomorfos si\n",
    "existe una función biyectiva:\n",
    "\n",
    "$$f : V → V'$$ \n",
    "\n",
    "tal que para todo $v,w ∈ V$:\n",
    "\n",
    "$$(v,w) ∈ X ⇐⇒ (f (v), f (w)) ∈ X'$$"
   ],
   "metadata": {}
  },
  {
   "cell_type": "markdown",
   "source": [
    "#### Propiedades de grafos isomorfos"
   ],
   "metadata": {}
  },
  {
   "cell_type": "markdown",
   "source": [
    "* tienen el mismo número de vértices,\n",
    "* tienen el mismo número de aristas,\n",
    "* para todo $k$, $0 ≤ k ≤ n − 1$, tienen el mismo número de vértices de grado $k$\n",
    "* tienen el mismo número de componentes conexas\n",
    "* para todo $k$, $1 ≤ k ≤ n − 1$, tienen el mismo número de caminos simples de longitud $k$."
   ],
   "metadata": {}
  },
  {
   "cell_type": "markdown",
   "source": [
    "Comprobación de isomorfía"
   ],
   "metadata": {}
  },
  {
   "cell_type": "markdown",
   "source": [
    "No entendí isomorfía, parecen los mismos grafos pero con los nombres de los nodos cambiados."
   ],
   "metadata": {}
  },
  {
   "cell_type": "markdown",
   "source": [
    "----"
   ],
   "metadata": {}
  },
  {
   "cell_type": "markdown",
   "source": [
    "## 6.4 Representaciones de grafos"
   ],
   "metadata": {}
  },
  {
   "cell_type": "markdown",
   "source": [
    "### Matrices"
   ],
   "metadata": {}
  },
  {
   "cell_type": "markdown",
   "source": [
    "#### de adyacencia"
   ],
   "metadata": {}
  },
  {
   "cell_type": "markdown",
   "source": [
    "$G ∈ \\mathbb{R}^{n×m}$ , donde los elementos $g_{ij}$ de $G$ se definen como:"
   ],
   "metadata": {}
  },
  {
   "cell_type": "markdown",
   "source": [
    "$$ g_{ij} = \n",
    " \\begin{cases}\n",
    "1, \\qquad \\text{si } G \\text{ tiene una arista entre los vértices } i \\text{ y } j\n",
    "\\newline\n",
    "0, \\qquad \\text{si no}\n",
    "\\end{cases} $$"
   ],
   "metadata": {}
  },
  {
   "cell_type": "markdown",
   "source": [
    "$$ G = \n",
    "\\begin{bmatrix}\n",
    "& 0  & 0  & 1  & 1  & \\\\\n",
    "& 0  & 0  & 1  & 1  & \\\\\n",
    "& 1  & 1  & 0  & 1  & \\\\\n",
    "& 1  & 1  & 1  & 1  & \\\\\n",
    "\\end{bmatrix}$$"
   ],
   "metadata": {}
  },
  {
   "cell_type": "markdown",
   "source": [
    "$$ G = \n",
    "\\begin{bmatrix}\n",
    "& 1  & 0  & 0  & 0  & 0 & 1  & 0  & \\\\\n",
    "& 0  & 0  & 0  & 1  & 1 & 0  & 0  & \\\\\n",
    "& 1  & 1  & 1  & 0  & 1 & 0  & 0  & \\\\\n",
    "& 0  & 1  & 1  & 1  & 0 & 1  & 1 & \\\\\n",
    "\\end{bmatrix}$$"
   ],
   "metadata": {}
  },
  {
   "cell_type": "markdown",
   "source": [
    "$G ∈ \\mathbb{R}^{m×n}$ , donde los elementos $g_{ij}$ de $G$ se definen como:"
   ],
   "metadata": {}
  },
  {
   "cell_type": "markdown",
   "source": [
    "$$ g_{ij} = \n",
    " \\begin{cases}\n",
    "1, \\qquad \\text{si la arista } i \\text{ es incidente al vértice } j\n",
    "\\newline\n",
    "0, \\qquad \\text{si no}\n",
    "\\end{cases} $$"
   ],
   "metadata": {}
  },
  {
   "cell_type": "markdown",
   "source": [
    "#### Teorema"
   ],
   "metadata": {}
  },
  {
   "cell_type": "markdown",
   "source": [
    "### esto no lo entendí\n",
    "Teorema. Si A es la matriz de adyacencia del grafo G , el\n",
    "elemento aij k de Ak es igual a la cantidad de caminos de longitud k\n",
    "entre i y j.\n",
    "Corolario. aii 2 = d(vi ).\n"
   ],
   "metadata": {}
  },
  {
   "cell_type": "markdown",
   "source": [
    "### Lista de adyacencia"
   ],
   "metadata": {}
  },
  {
   "cell_type": "markdown",
   "source": [
    "Lista de todas las adyacencias de un grafo. Una colección de listas desordenadas, donde cada lista contiene todos los vértices adyacentes a un vértice."
   ],
   "metadata": {}
  },
  {
   "cell_type": "markdown",
   "source": [
    "<img src=\"grafo_3.png\" alt=\"mm\" style=\"width: 800px;\"/>"
   ],
   "metadata": {}
  },
  {
   "cell_type": "markdown",
   "source": [
    "Notar que las implementaciones no están definidas. Las matrices pueden ser arrays de arrays, las listas pueden ser listas de arrays, o de listas, o diccionarios de..."
   ],
   "metadata": {}
  },
  {
   "cell_type": "markdown",
   "source": [
    "----"
   ],
   "metadata": {}
  },
  {
   "cell_type": "markdown",
   "source": [
    "## 6.5 Digrafos"
   ],
   "metadata": {}
  },
  {
   "cell_type": "markdown",
   "source": [
    "Un grafo orientado o digrafo $G = (V, X)$ es un par de conjuntos $V$ y $X$ donde $V$ es el conjunto de vértices o nodos y $X$ es un subconjunto del conjunto de los pares ordenados de $V$."
   ],
   "metadata": {}
  },
  {
   "cell_type": "markdown",
   "source": [
    "### Grado de entrada"
   ],
   "metadata": {}
  },
  {
   "cell_type": "markdown",
   "source": [
    "El grado de entrada $d_{in}(v)$ de un nodo $v$ de un grafo orientado es la cantidad de arcos que llegan a $v$. Es decir, la cantidad de arcos que tienen a $v$ como segundo elemento."
   ],
   "metadata": {}
  },
  {
   "cell_type": "markdown",
   "source": [
    "### Grado de salida"
   ],
   "metadata": {}
  },
  {
   "cell_type": "markdown",
   "source": [
    "El grado de salida $d_{out}(v)$ de un nodo $v$ de un grafo orientado es la cantidad de arcos que salen de $v$. Es decir, la cantidad de arcos que tienen a $v$ como primer elemento"
   ],
   "metadata": {}
  },
  {
   "cell_type": "markdown",
   "source": [
    "<img src=\"grafo_4.png\" alt=\"mm\" style=\"width: 800px;\"/>"
   ],
   "metadata": {}
  },
  {
   "cell_type": "markdown",
   "source": [
    "### Camino orientado"
   ],
   "metadata": {}
  },
  {
   "cell_type": "markdown",
   "source": [
    "Un camino orientado en un digrafo es una sucesión de arcos $e_{1}, e_{2} ... e_{k}$ tal que el primer elemento del par $e_{i}$ coincide con el segundo de $e_{i−1}$ y el segundo elemento de $e_{i}$ con el primero de $e_{i+1}$."
   ],
   "metadata": {}
  },
  {
   "cell_type": "markdown",
   "source": [
    "<img src=\"camino_orientado.png\" alt=\"mm\" style=\"width: 400px;\"/>\n",
    "\n",
    "$ \\{ (u, v), \\ (v, w), \\ (w, x), \\ (x, z) \\} $"
   ],
   "metadata": {}
  },
  {
   "cell_type": "markdown",
   "source": [
    "### Circuito orientado"
   ],
   "metadata": {}
  },
  {
   "cell_type": "markdown",
   "source": [
    "Un cicuito orientado en un grafo orientado es un camino orientado que comienza y termina en el mismo nodo.\n",
    "Por obvias razones, no hay diferenciación entre circuito y circuito simple, son todos simples."
   ],
   "metadata": {}
  },
  {
   "cell_type": "markdown",
   "source": [
    "<img src=\"circuito_orientado.png\" alt=\"mm\" style=\"width: 400px;\"/>\n",
    "\n",
    "$ \\{ (y, x), \\ (x, w), \\ (w, v), \\ (v, z), \\ (z, y) \\} $"
   ],
   "metadata": {}
  },
  {
   "cell_type": "markdown",
   "source": [
    "### Componente fuertemente conexo"
   ],
   "metadata": {}
  },
  {
   "cell_type": "markdown",
   "source": [
    "Un digrafo se dice fuertemente conexo si para todo par de nodos $u$, $v$ existe un camino orientado de $u$ a $v$ y otro de $v$ a $u$"
   ],
   "metadata": {}
  },
  {
   "cell_type": "markdown",
   "source": [
    "<img src=\"componente_fuertemente_conexa.png\" alt=\"mm\" style=\"width: 600px;\"/>"
   ],
   "metadata": {}
  },
  {
   "cell_type": "markdown",
   "source": [
    "-------"
   ],
   "metadata": {}
  },
  {
   "cell_type": "markdown",
   "source": [
    "Conociendo ya distintos tipos de grafos y algunas de sus características y propiedades, veremos ahora, y en las siguientes unidades, los principales algoritmos utilizados para explorar grafos, caracterizarlos y extraerles información."
   ],
   "metadata": {}
  },
  {
   "cell_type": "markdown",
   "source": [
    "## 6.6 _Breadth First Search_"
   ],
   "metadata": {}
  },
  {
   "cell_type": "markdown",
   "source": [
    "BFS (búsqueda en amplitud), es un algoritmo _greedy_ que expande la frontera de vértices conocidos uniformemente, en niveles, a partir de un nodo fuente (_source_) `S`. El algoritmo descubre todos los vértices a una distancia $k$ de `S` antes de descubrir cualquier vértice a una distancia $k+1$.\n",
    "\n",
    "Para ir guardando su progreso, BFS debe ir anotando que nodos fueron visitados y cuales no. Hay 2 formas de hacer esto:\n",
    "\n",
    "* `True/False`: empezaremos utilizando la forma más simple de hacerlo. Los nodos tendrán un atributo booleano llamado `visitado`. Una alternativa a esto es tener una estructura de datos aparte (diccionario o matriz), con 1 booleano por cada nodo que indique el mismo dato. Estas alternativas son conocidas como _Structure of Arrays_ y _Array of Structures_ (SoA vs. AoS).\n",
    "* `Blanco/Gris/Negro`: esta nomenclatura utiliza el Cormen y aporta un valor intermedio (el Gris), que junto con el negro son equivalentes al valor `True`. Los nodos que no han sido explorados por el algoritmo son considerados `Blanco` (equivalente a `False`), aquellos que han sido visitados, pero cuyos nodos adyacentes no hayan sido visitados en su totalidad son `Gris` y aquellos nodos que hayan sido explorados totalmente, es decir, visitados y sus adyacentes visitados también, serán `Negro`. Esto se almacena en una variable `color`, que también podría ser un atributo de los nodos, o encontrarse en otra estructura de datos."
   ],
   "metadata": {}
  },
  {
   "cell_type": "code",
   "execution_count": 73,
   "source": [
    "G = nx.Graph()\n",
    "G.add_nodes_from([\"a\", \"b\",\"c\", \"d\", \"e\", \"f\", \"g\"])\n",
    "G.add_edges_from([(\"a\", \"b\"), (\"a\", \"c\"), (\"a\", \"f\"), (\"c\", \"d\"), \n",
    "(\"d\", \"e\"), (\"c\", \"b\"), (\"f\", \"e\"), (\"c\", \"f\"), (\"c\", \"g\"), (\"d\", \"g\") ])\n",
    "nx.draw(G, with_labels = True, alpha = .5, font_size = 26, font_weight = 'bold')"
   ],
   "outputs": [
    {
     "output_type": "display_data",
     "data": {
      "image/png": "[encoded data removed]",
      "text/plain": [
       "<Figure size 432x288 with 1 Axes>"
      ]
     },
     "metadata": {}
    }
   ],
   "metadata": {}
  },
  {
   "cell_type": "code",
   "execution_count": 74,
   "source": [
    "def bfs(G, s):\n",
    "    for v in G.nodes():\n",
    "        G.nodes[v][\"visitado\"] = False\n",
    "        G.nodes[v][\"predecesor\"] = False\n",
    "        G.nodes[v][\"distancia\"] = np.inf\n",
    "    G.nodes[s][\"visitado\"] = True\n",
    "    G.nodes[s][\"predecesor\"] = False\n",
    "    G.nodes[s][\"distancia\"] = 0\n",
    "    cola = deque()\n",
    "    cola.append(s)\n",
    "    while len(cola) != 0:\n",
    "        u = cola.pop()\n",
    "        for v in G[u]:\n",
    "            if G.nodes[v][\"visitado\"] == False:\n",
    "                G.nodes[v][\"visitado\"] = True\n",
    "                G.nodes[v][\"distancia\"] = G.nodes[u][\"distancia\"] + 1\n",
    "                G.nodes[v][\"predecesor\"] = u\n",
    "                cola.appendleft(v)"
   ],
   "outputs": [],
   "metadata": {}
  },
  {
   "cell_type": "markdown",
   "source": [
    "### Árboles BFS"
   ],
   "metadata": {}
  },
  {
   "cell_type": "markdown",
   "source": [
    "Al anotar predecesores, BFS está construyendo, implicitamente, un **subgrafo de predecesores**, que será un árbol, (que en caso de que sea dirigido se llamará DAG, _Directed Acyclic Graph_), que contendrá a todos los nodos del grafo original y los ejes que el algoritmo haya atravesado, para llegar a ellos. Eso implica la eliminación de los ejes que no fueron atravesados, eliminando así los potenciales ciclos que existan.\n",
    "\n",
    "El árbol resultante de un grafo no es una característica propia del grafo. La topología del árbol resultante dependerá de:\n",
    "1. el grafo a explorar\n",
    "2. el algoritmo utilizado (BFS o DFS)\n",
    "3. el nodo fuente"
   ],
   "metadata": {}
  },
  {
   "cell_type": "code",
   "execution_count": 75,
   "source": [
    "def bfs_arbol(G, s):\n",
    "    A = nx.Graph()\n",
    "    for v in G.nodes():\n",
    "        G.nodes[v][\"visitado\"] = False\n",
    "        G.nodes[v][\"predecesor\"] = False\n",
    "        G.nodes[v][\"distancia\"] = np.inf\n",
    "    G.nodes[s][\"visitado\"] = True\n",
    "    G.nodes[s][\"predecesor\"] = False\n",
    "    G.nodes[s][\"distancia\"] = 0\n",
    "    cola = deque()\n",
    "    cola.append(s)\n",
    "    while len(cola) != 0:\n",
    "        u = cola.pop()\n",
    "        A.add_node(u)\n",
    "        for v in G[u]:\n",
    "            if G.nodes[v][\"visitado\"] == False:\n",
    "                G.nodes[v][\"visitado\"] = True\n",
    "                G.nodes[v][\"distancia\"] = G.nodes[u][\"distancia\"] + 1\n",
    "                G.nodes[v][\"predecesor\"] = u\n",
    "                cola.appendleft(v)\n",
    "                A.add_node(v)\n",
    "                A.add_edge(u, v)\n",
    "    return A"
   ],
   "outputs": [],
   "metadata": {}
  },
  {
   "cell_type": "code",
   "execution_count": 76,
   "source": [
    "A = bfs_arbol(G, \"a\")\n",
    "nx.draw(A, with_labels = True, alpha = .5, font_size = 26, font_weight = 'bold')"
   ],
   "outputs": [
    {
     "output_type": "display_data",
     "data": {
      "image/png": "[encoded data removed]",
      "text/plain": [
       "<Figure size 432x288 with 1 Axes>"
      ]
     },
     "metadata": {}
    }
   ],
   "metadata": {}
  },
  {
   "cell_type": "code",
   "execution_count": 78,
   "source": [
    "G.nodes[\"g\"]"
   ],
   "outputs": [
    {
     "output_type": "execute_result",
     "data": {
      "text/plain": [
       "{'visitado': True, 'predecesor': 'c', 'distancia': 2}"
      ]
     },
     "metadata": {},
     "execution_count": 78
    }
   ],
   "metadata": {}
  },
  {
   "cell_type": "markdown",
   "source": [
    "Veamos como varía el árbol según el nodo fuente"
   ],
   "metadata": {}
  },
  {
   "cell_type": "code",
   "execution_count": 79,
   "source": [
    "A = bfs_arbol(G, \"g\")\n",
    "nx.draw(A, with_labels = True, alpha = .5, font_size = 26, font_weight = 'bold')"
   ],
   "outputs": [
    {
     "output_type": "display_data",
     "data": {
      "image/png": "[encoded data removed]",
      "text/plain": [
       "<Figure size 432x288 with 1 Axes>"
      ]
     },
     "metadata": {}
    }
   ],
   "metadata": {}
  },
  {
   "cell_type": "code",
   "execution_count": 80,
   "source": [
    "G.nodes[\"g\"]"
   ],
   "outputs": [
    {
     "output_type": "execute_result",
     "data": {
      "text/plain": [
       "{'visitado': True, 'predecesor': False, 'distancia': 0}"
      ]
     },
     "metadata": {},
     "execution_count": 80
    }
   ],
   "metadata": {}
  },
  {
   "cell_type": "markdown",
   "source": [
    "### Complejidad temporal"
   ],
   "metadata": {}
  },
  {
   "cell_type": "markdown",
   "source": [
    "BFS inicializa los vértices y eso tiene una complejidad de $\\Theta(n+m)$. Luego, evalua todas las adyacencias, terminen éstas o no en el árbol BFS, y esa operación tiene un tiempo de ejecución de $\\Theta(m)$. Así, su complejidad es de $\\Theta(n+m)$"
   ],
   "metadata": {}
  },
  {
   "cell_type": "markdown",
   "source": [
    "### _Shortest Paths_, Caminos Óptimos"
   ],
   "metadata": {}
  },
  {
   "cell_type": "markdown",
   "source": [
    "BFS halla el camino de largo igual a la distancia entre todo nodo y el nodo fuente. Es decir, el camino más corto, el que atraviesa menos ejes para llegar a los vértices.\n",
    "Así, el nodo fuente tendrá una distancia de $0$ y todos los nodos a los que no se puedan acceder desde el nodo fuente, tendrán asignada una distancia igual a $\\infty$."
   ],
   "metadata": {}
  },
  {
   "cell_type": "markdown",
   "source": [
    "## 6.7 _Depth First Search_"
   ],
   "metadata": {}
  },
  {
   "cell_type": "markdown",
   "source": [
    "DFS (búsqueda en profundidad), es un algoritmo de _backtracking_ que busca profundizar en las adyacencias de los nodos inmediatamente luego de ser descubiertos, una vez que se queda sin nuevos nodos por explorar, el algoritmo retrocede (hace _backtrack_), para buscar un nuevo nodo a través del cual profundizar de nuevo.\n",
    "\n",
    "Esta forma de explorar el grafo le impide determinar las distancias mínimas al nodo fuente de forma práctica, pero le permite obtener otro tipo de información del grafo, la **estructura de paréntesis** del grafo, información relativa a las descendencias de los nodos.\n",
    "\n",
    "Para obtener esta información, DFS cambia la noción de distancia, por la de tiempo. DFS lleva un \"cronómetro\" que marca el tiempo y anota ese tiempo en cada nodo que visita. Así, reemplaza el atributo de `distancia`, por 2 atributos: `inicio` y `fin`. El primero marca el tiempo en el que el nodo fue descubierto (visitado por primera vez), y el segundo marca el tiempo en el que el algoritmo vuelve al nodo, haciendo _backtrack_, habiendo explorado todos sus descendientes.\n",
    "\n",
    "El tiempo de `inicio` de un nodo `u` representa el \"paréntesis izquierdo\" y el de `fin` el \"paréntesis derecho\", todos los nodos que estén dentro de esos paréntesis, serán descendientes de ese nodo `u`. Veamos un ejemplo."
   ],
   "metadata": {}
  },
  {
   "cell_type": "code",
   "execution_count": 4,
   "source": [
    "G = nx.Graph()\n",
    "G.add_nodes_from([\"a\", \"b\",\"c\", \"d\", \"e\", \"f\", \"g\"])\n",
    "G.add_edges_from([(\"a\", \"b\"), (\"a\", \"c\"), (\"a\", \"f\"), (\"c\", \"d\"), \n",
    "(\"d\", \"e\"), (\"c\", \"b\"), (\"f\", \"e\"), (\"c\", \"f\"), (\"c\", \"g\"), (\"d\", \"g\") ])\n",
    "nx.draw(G, with_labels = True, alpha = .5, font_size = 26, font_weight = 'bold')"
   ],
   "outputs": [
    {
     "output_type": "display_data",
     "data": {
      "image/png": "[encoded data removed]",
      "text/plain": [
       "<Figure size 432x288 with 1 Axes>"
      ]
     },
     "metadata": {}
    }
   ],
   "metadata": {}
  },
  {
   "cell_type": "code",
   "execution_count": 34,
   "source": [
    "def dfs_visita(G, u, t):\n",
    "    t += 1\n",
    "    G.nodes[u][\"inicio\"] = t\n",
    "    G.nodes[u][\"visitado\"] = True\n",
    "    \n",
    "    for v in G[u]:\n",
    "        if G.nodes[v][\"visitado\"] == False:\n",
    "            G.nodes[v][\"predecesor\"] = u\n",
    "            t = dfs_visita(G, v, t)\n",
    "    t += 1\n",
    "    G.nodes[u][\"fin\"] = t\n",
    "    return t\n",
    "\n",
    "def dfs(G):\n",
    "    for v in G.nodes():\n",
    "        G.nodes[v][\"visitado\"] = False\n",
    "        G.nodes[v][\"predecesor\"] = False\n",
    "        G.nodes[v][\"inicio\"] = np.inf\n",
    "        G.nodes[v][\"fin\"] = np.inf\n",
    "    t = 0\n",
    "    for s in G.nodes():\n",
    "        if G.nodes[s][\"visitado\"] == False:\n",
    "            t = dfs_visita(G, s, t)"
   ],
   "outputs": [],
   "metadata": {}
  },
  {
   "cell_type": "markdown",
   "source": [
    "### Árboles DFS"
   ],
   "metadata": {}
  },
  {
   "cell_type": "markdown",
   "source": [
    "Al igual que BFS, DFS anota el predecesor de cada nodo que visita, construyendo así el subgrafo de predecesores. El árbol DFS y que como ya habíamos anticipado, será distinto del árbol BFS, aún así se aplique al mismo grafo y parta desde el mismo nodo fuente."
   ],
   "metadata": {}
  },
  {
   "cell_type": "code",
   "execution_count": 70,
   "source": [
    "def dfs_visita_arbol(G, u, t, A):\n",
    "    t += 1\n",
    "    G.nodes[u][\"inicio\"] = t\n",
    "    G.nodes[u][\"visitado\"] = True\n",
    "    \n",
    "    \n",
    "    for v in G[u]:\n",
    "        if G.nodes[v][\"visitado\"] == False:\n",
    "            A.add_node(v)\n",
    "            A.add_edge(u, v)\n",
    "            G.nodes[v][\"predecesor\"] = u\n",
    "            t = dfs_visita_arbol(G, v, t, A)\n",
    "    t += 1\n",
    "    G.nodes[u][\"fin\"] = t\n",
    "    return t\n",
    "\n",
    "def dfs_arbol(G):\n",
    "    A = nx.Graph()\n",
    "    for v in G.nodes():\n",
    "        G.nodes[v][\"visitado\"] = False\n",
    "        G.nodes[v][\"predecesor\"] = False\n",
    "        G.nodes[v][\"inicio\"] = np.inf\n",
    "        G.nodes[v][\"fin\"] = np.inf\n",
    "    t = 0\n",
    "    for s in G.nodes():\n",
    "        if G.nodes[s][\"visitado\"] == False:\n",
    "            A.add_node(s)\n",
    "            t = dfs_visita_arbol(G, s, t, A)\n",
    "    return A"
   ],
   "outputs": [],
   "metadata": {}
  },
  {
   "cell_type": "code",
   "execution_count": 62,
   "source": [
    "A = dfs_arbol(G)\n",
    "nx.draw(A, with_labels = True, alpha = .5, font_size = 26, font_weight = 'bold')"
   ],
   "outputs": [
    {
     "output_type": "display_data",
     "data": {
      "image/png": "[encoded data removed]",
      "text/plain": [
       "<Figure size 432x288 with 1 Axes>"
      ]
     },
     "metadata": {}
    }
   ],
   "metadata": {}
  },
  {
   "cell_type": "markdown",
   "source": [
    "Los nodos `f` y `g` tienen tiempos de `inicio` y `fin` consecutivos (sus paréntesis están uno al lado del otro), esto indica que son las hojas del árbol, no tienen nodos adyacentes que no hayan sido descubiertos anteriormente."
   ],
   "metadata": {}
  },
  {
   "cell_type": "code",
   "execution_count": 63,
   "source": [
    "G.nodes[\"f\"]"
   ],
   "outputs": [
    {
     "output_type": "execute_result",
     "data": {
      "text/plain": [
       "{'visitado': True, 'predecesor': 'e', 'inicio': 6, 'fin': 7, 'distancia': 6}"
      ]
     },
     "metadata": {},
     "execution_count": 63
    }
   ],
   "metadata": {}
  },
  {
   "cell_type": "code",
   "execution_count": 64,
   "source": [
    "G.nodes[\"g\"]"
   ],
   "outputs": [
    {
     "output_type": "execute_result",
     "data": {
      "text/plain": [
       "{'visitado': True, 'predecesor': 'd', 'inicio': 9, 'fin': 10, 'distancia': 5}"
      ]
     },
     "metadata": {},
     "execution_count": 64
    }
   ],
   "metadata": {}
  },
  {
   "cell_type": "markdown",
   "source": [
    "Vemos a sus predecesores:"
   ],
   "metadata": {}
  },
  {
   "cell_type": "code",
   "execution_count": 65,
   "source": [
    "G.nodes[\"e\"]"
   ],
   "outputs": [
    {
     "output_type": "execute_result",
     "data": {
      "text/plain": [
       "{'visitado': True, 'predecesor': 'd', 'inicio': 5, 'fin': 8, 'distancia': 5}"
      ]
     },
     "metadata": {},
     "execution_count": 65
    }
   ],
   "metadata": {}
  },
  {
   "cell_type": "code",
   "execution_count": 66,
   "source": [
    "G.nodes[\"d\"]"
   ],
   "outputs": [
    {
     "output_type": "execute_result",
     "data": {
      "text/plain": [
       "{'visitado': True, 'predecesor': 'c', 'inicio': 4, 'fin': 11, 'distancia': 4}"
      ]
     },
     "metadata": {},
     "execution_count": 66
    }
   ],
   "metadata": {}
  },
  {
   "cell_type": "markdown",
   "source": [
    "Y finalmente, el nodo fuente:"
   ],
   "metadata": {}
  },
  {
   "cell_type": "code",
   "execution_count": 67,
   "source": [
    "G.nodes[\"a\"]"
   ],
   "outputs": [
    {
     "output_type": "execute_result",
     "data": {
      "text/plain": [
       "{'visitado': True, 'predecesor': False, 'inicio': 1, 'fin': 14, 'distancia': 1}"
      ]
     },
     "metadata": {},
     "execution_count": 67
    }
   ],
   "metadata": {}
  },
  {
   "cell_type": "markdown",
   "source": [
    "Y si agregamos un nodo al que el nodo fuente no puede llegar?"
   ],
   "metadata": {}
  },
  {
   "cell_type": "code",
   "execution_count": 71,
   "source": [
    "G.add_node(\"x\")\n",
    "A = dfs_arbol(G)\n",
    "nx.draw(A, with_labels = True, alpha = .5, font_size = 26, font_weight = 'bold')"
   ],
   "outputs": [
    {
     "output_type": "display_data",
     "data": {
      "image/png": "[encoded data removed]",
      "text/plain": [
       "<Figure size 432x288 with 1 Axes>"
      ]
     },
     "metadata": {}
    }
   ],
   "metadata": {}
  },
  {
   "cell_type": "code",
   "execution_count": 72,
   "source": [
    "G.nodes[\"x\"]"
   ],
   "outputs": [
    {
     "output_type": "execute_result",
     "data": {
      "text/plain": [
       "{'visitado': True, 'predecesor': False, 'inicio': 15, 'fin': 16}"
      ]
     },
     "metadata": {},
     "execution_count": 72
    }
   ],
   "metadata": {}
  },
  {
   "cell_type": "markdown",
   "source": [
    "### Complejidad temporal"
   ],
   "metadata": {}
  },
  {
   "cell_type": "markdown",
   "source": [
    "Al igual que BFS, DFS inicializa los vértices y eso tiene una complejidad de $\\Theta(n+m)$. Luego, evalua todas las adyacencias, terminen éstas o no en el árbol DSF, y esa operación tiene un tiempo de ejecución de $\\Theta(m)$. Así, su complejidad es de $\\Theta(n+m)$"
   ],
   "metadata": {}
  },
  {
   "cell_type": "markdown",
   "source": [
    "### Bosques BFS y DFS"
   ],
   "metadata": {}
  },
  {
   "cell_type": "markdown",
   "source": [
    "Qué sucede si el digrafo a explorar no es un componente fuertemente conexo, o si no se pueden alcanzar todos los nodos desde el nodo fuente?\n",
    "\n",
    "Deberíamos buscar crear **bosques**, colecciones de árboles BFS o DFS, y así explorar todo el grafo.\n",
    "\n",
    "Vimos un algoritmo DFS que se ocupa de eso, cómo modificaría el algoritmo de BFS para que haga lo mismo?"
   ],
   "metadata": {}
  },
  {
   "cell_type": "markdown",
   "source": [
    "## 6.6 Conclusión"
   ],
   "metadata": {}
  },
  {
   "cell_type": "markdown",
   "source": [
    "* Aprovechen esta notebook, jueguen **mucho** con BFS y DFS. Hagan sus propios grafos, predigan los árboles y atributos (`distancia` o `inicio` y `fin`) resultantes y comprueben sus predicciones.\n",
    "* Leer del Cormen: **p(586-620)**"
   ],
   "metadata": {}
  },
  {
   "cell_type": "markdown",
   "source": [
    "--------------------"
   ],
   "metadata": {}
  },
  {
   "cell_type": "markdown",
   "source": [
    "### Contenidos a explicar durante la práctica"
   ],
   "metadata": {}
  },
  {
   "cell_type": "markdown",
   "source": [
    "1. Implementaciones de las distintas representaciones de grafos\n",
    "2. Complejidades al utilizar las distintas representaciones de grafos\n",
    "3. Ciclos en grafos y su detección\n",
    "4. Componentes conexos y su determinación\n",
    "5. Caminos y su determinación\n",
    "6. Conceptos de maximal y minimal"
   ],
   "metadata": {}
  }
 ],
 "metadata": {
  "kernelspec": {
   "name": "python3",
   "display_name": "Python 3.8.11 64-bit ('base': conda)"
  },
  "language_info": {
   "codemirror_mode": {
    "name": "ipython",
    "version": 3
   },
   "file_extension": ".py",
   "mimetype": "text/x-python",
   "name": "python",
   "nbconvert_exporter": "python",
   "pygments_lexer": "ipython3",
   "version": "3.8.11"
  },
  "interpreter": {
   "hash": "71f824c42634d496968419fb3b86a263c407c9e341d1af5774dc5baf7960dbd2"
  }
 },
 "nbformat": 4,
 "nbformat_minor": 4
}