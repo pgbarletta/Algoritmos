{
 "cells": [
  {
   "cell_type": "code",
   "execution_count": 1,
   "metadata": {},
   "outputs": [],
   "source": [
    "import numpy as np\n",
    "import sys\n",
    "import math\n",
    "import itertools\n",
    "import matplotlib.pyplot as plt  \n",
    "from time import time "
   ]
  },
  {
   "cell_type": "markdown",
   "metadata": {},
   "source": [
    "# Grafos"
   ]
  },
  {
   "cell_type": "markdown",
   "metadata": {},
   "source": [
    "## 6.1 Introducción"
   ]
  },
  {
   "cell_type": "markdown",
   "metadata": {},
   "source": [
    "Un grafo $G = (V, X)$ es un par de conjuntos, donde $V$ es un conjunto de **nodos**\n",
    "y $X$ es un subconjunto del conjunto de pares no ordenados de elementos distintos de V.\n",
    "* Los elementos de $V$ se llaman **nodos** o **vértices**\n",
    "* Los elementos de $X$ se llaman aristas, ejes o arcos.\n",
    "* Dados $v, w ∈ V$, si $e = (v,w) ∈ X$ se dice que `v` y `w` son adyacentes y que `e` es incidente a `v` y `w`."
   ]
  },
  {
   "cell_type": "markdown",
   "metadata": {},
   "source": [
    "<img src=\"grafo_1.png\" alt=\"mm\" style=\"width: 300px;\"/>"
   ]
  },
  {
   "cell_type": "markdown",
   "metadata": {},
   "source": [
    "#### Notación: \n",
    "\n",
    "* $n = |V|$\n",
    "* $m = |X|$"
   ]
  },
  {
   "cell_type": "markdown",
   "metadata": {},
   "source": [
    "--------"
   ]
  },
  {
   "cell_type": "markdown",
   "metadata": {},
   "source": [
    "### Multigrafo"
   ]
  },
  {
   "cell_type": "markdown",
   "metadata": {},
   "source": [
    "grafo en el que puede haber varias aristas entre el mismo par de vértices distintos."
   ]
  },
  {
   "cell_type": "markdown",
   "metadata": {},
   "source": [
    "<img src=\"multigrafo.png\" alt=\"mm\" style=\"width: 300px;\"/>"
   ]
  },
  {
   "cell_type": "markdown",
   "metadata": {},
   "source": [
    "---"
   ]
  },
  {
   "cell_type": "markdown",
   "metadata": {},
   "source": [
    "### Pseudografo"
   ]
  },
  {
   "cell_type": "markdown",
   "metadata": {
    "tags": []
   },
   "source": [
    "Un grafo en el que puede haber varias aristas entre cada par de vértices y también puede haber aristas que unan a un vértice con sí mismo (_loops_)."
   ]
  },
  {
   "cell_type": "markdown",
   "metadata": {},
   "source": [
    "<img src=\"pseudografo.png\" alt=\"mm\" style=\"width: 300px;\"/>"
   ]
  },
  {
   "cell_type": "markdown",
   "metadata": {},
   "source": [
    "--------"
   ]
  },
  {
   "cell_type": "markdown",
   "metadata": {},
   "source": [
    "### Grado"
   ]
  },
  {
   "cell_type": "markdown",
   "metadata": {},
   "source": [
    "El **grado** de un vértice `v` es la cantidad de aristas incidentes a `v`."
   ]
  },
  {
   "cell_type": "markdown",
   "metadata": {},
   "source": [
    "#### Notación: \n",
    "\n",
    "* `d(v)`: grado de` v`.\n",
    "\n",
    "Ej: en el pseudografo anterior, $d(u) = 1$ y $d(v) = 3$"
   ]
  },
  {
   "cell_type": "markdown",
   "metadata": {},
   "source": [
    "#### Teorema\n",
    "\n",
    "La suma de los grados de los vértices de un grafo es igual a 2 veces el número de aristas. `aplica a multi y pseudos también, no?`\n",
    "\n",
    "$$\n",
    "\\sum_{i=1}^{n} d(v_{i}) = 2m\n",
    "$$"
   ]
  },
  {
   "cell_type": "markdown",
   "metadata": {},
   "source": [
    "#### Ejemplo:\n",
    "\n",
    "$$\n",
    "d(u) = 1, \\ d(v) = 3 \\, \\ d(w) = 2 \\ d(x) = 3, \\ d(y) = 2 \\ d(z) = 3 \n",
    "\\newline\n",
    "\\\n",
    "\\newline\n",
    "1+3+2+3+2+3 = 14 = 2m \\rightarrow m = 7\n",
    "$$\n",
    "\n",
    "Hay $7$ ejes"
   ]
  },
  {
   "cell_type": "markdown",
   "metadata": {},
   "source": [
    "<img src=\"grafo_1.png\" alt=\"mm\" style=\"width: 300px;\"/>"
   ]
  },
  {
   "cell_type": "markdown",
   "metadata": {},
   "source": [
    "--------"
   ]
  },
  {
   "cell_type": "markdown",
   "metadata": {},
   "source": [
    "### Grafo Completo"
   ]
  },
  {
   "cell_type": "markdown",
   "metadata": {},
   "source": [
    "Un grafo se dice completo si todos los vértices son adyacentes entre sí.\n",
    "\n",
    "#### Notación\n",
    "\n",
    "$K_{n}$ es el grafo completo de $n$ vértices."
   ]
  },
  {
   "cell_type": "markdown",
   "metadata": {},
   "source": [
    "<img src=\"grafo_completo.png\" alt=\"mm\" style=\"width: 300px;\"/>"
   ]
  },
  {
   "cell_type": "markdown",
   "metadata": {},
   "source": [
    "### Grafo complemento"
   ]
  },
  {
   "cell_type": "markdown",
   "metadata": {},
   "source": [
    "Dado un grafo $G = (V, X)$, el grafo complemento tiene el mismo conjunto de vértices y un par de vértices son adyacentes, sí y solo sí, no son adyacentes en $G$."
   ]
  },
  {
   "cell_type": "markdown",
   "metadata": {},
   "source": [
    "#### Notación:\n",
    "\n",
    "$\\overline{G}$ es el grafo complemento de $G$."
   ]
  },
  {
   "cell_type": "markdown",
   "metadata": {},
   "source": [
    "<img src=\"grafo_complemento.png\" alt=\"mm\" style=\"width: 300px;\"/>"
   ]
  },
  {
   "cell_type": "markdown",
   "metadata": {},
   "source": [
    "--------"
   ]
  },
  {
   "cell_type": "markdown",
   "metadata": {},
   "source": [
    "## 6.2 Caminos y Circuitos"
   ]
  },
  {
   "cell_type": "markdown",
   "metadata": {},
   "source": [
    "### Camino"
   ]
  },
  {
   "cell_type": "markdown",
   "metadata": {},
   "source": [
    "Un **camino** en un grafo es una sucesión de aristas $e_{1}, e_{2}, ..., e_{k}$\n",
    "tal que un extremo de $e_{i}$ coincide con uno de $e_{i−1}$ y\n",
    "el otro con uno de $e_{i+1}$ para $i = 2, ..., k − 1$."
   ]
  },
  {
   "cell_type": "markdown",
   "metadata": {},
   "source": [
    "<img src=\"camino.png\" alt=\"mm\" style=\"width: 400px;\"/>\n",
    "\n",
    "$ \\{ (u, v), \\ (v, z), \\ (z, x), \\ (x, w), \\ (w, v), \\ (v, z) \\} $\n",
    "\n",
    "\n",
    "$ \\{ (v, z), \\ (w, v), \\ (x, w), \\ (z, x), \\ (v, z), \\ (u, v) \\} $"
   ]
  },
  {
   "cell_type": "markdown",
   "metadata": {},
   "source": [
    "### Camino simple"
   ]
  },
  {
   "cell_type": "markdown",
   "metadata": {},
   "source": [
    "Es un camino que no pasa dos veces por el mismo vértice."
   ]
  },
  {
   "cell_type": "markdown",
   "metadata": {},
   "source": [
    "<img src=\"camino_simple.png\" alt=\"mm\" style=\"width: 400px;\"/>\n",
    "\n",
    "$ \\{ (u, v), \\ (v, w), \\ (w, x), \\ (x, z) \\} $\n",
    "\n",
    "$ \\{ (z, x), \\ (x, w), \\ (w, v), \\ (v, u) \\} $\n",
    "\n",
    "Caminos equivalentes. No hay direción."
   ]
  },
  {
   "cell_type": "markdown",
   "metadata": {},
   "source": [
    "### Circuito"
   ]
  },
  {
   "cell_type": "markdown",
   "metadata": {},
   "source": [
    "Es un camino que empieza y termina en el mismo vértice."
   ]
  },
  {
   "cell_type": "markdown",
   "metadata": {},
   "source": [
    "<img src=\"camino.png\" alt=\"mm\" style=\"width: 400px;\"/>\n",
    "\n",
    "$ \\{ (u, v), \\ (v, z), \\ (z, x), \\ (x, w), \\ (w, v), \\ (v, u) \\} $\n",
    "\n",
    "$ \\{ (u, v), \\ (v, w), \\ (w, x), \\ (x, z), \\ (z, v), \\ (v, u) \\} $"
   ]
  },
  {
   "cell_type": "markdown",
   "metadata": {},
   "source": [
    "### Circuito simple"
   ]
  },
  {
   "cell_type": "markdown",
   "metadata": {},
   "source": [
    "Es un circuito de 3 o más vértices que no pasa dos veces por el mismo vértice"
   ]
  },
  {
   "cell_type": "markdown",
   "metadata": {},
   "source": [
    "<img src=\"circuito_simple.png\" alt=\"mm\" style=\"width: 400px;\"/>\n",
    "\n",
    "$ \\{ (y, x), \\ (x, w), \\ (w, v), \\ (v, z), \\ (z, y) \\} $\n",
    "\n",
    "$ \\{ (y, z), \\ (z, v), \\ (v, w), \\ (w, x), \\ (x, y) \\} $"
   ]
  },
  {
   "cell_type": "markdown",
   "metadata": {},
   "source": [
    "------"
   ]
  },
  {
   "cell_type": "markdown",
   "metadata": {},
   "source": [
    "### Distancia"
   ]
  },
  {
   "cell_type": "markdown",
   "metadata": {},
   "source": [
    "#### Longitud"
   ]
  },
  {
   "cell_type": "markdown",
   "metadata": {},
   "source": [
    "La longitud de un camino es la cantidad de aristas que tiene."
   ]
  },
  {
   "cell_type": "markdown",
   "metadata": {},
   "source": [
    "#### Distancia"
   ]
  },
  {
   "cell_type": "markdown",
   "metadata": {},
   "source": [
    "La distancia entre dos vértices $v$ y $w$ de un grafo se define como\n",
    "la longitud del camino más corto entre $v$ y $w$."
   ]
  },
  {
   "cell_type": "markdown",
   "metadata": {},
   "source": [
    "#### Notación\n",
    "\n",
    "$d(v,w)$ denota la distancia entre $v$ y $w$."
   ]
  },
  {
   "cell_type": "markdown",
   "metadata": {},
   "source": [
    "Para todo vértice v, d(v, v) = 0.\n",
    "\n",
    "Si no existe camino entre v y w se dice que $d(v,w) = \\infty$"
   ]
  },
  {
   "cell_type": "markdown",
   "metadata": {},
   "source": [
    "**Proposición**: Si un camino $P$ entre $v$ y w tiene longitud $d(v,w)$, $P$ debe ser un camino simple."
   ]
  },
  {
   "cell_type": "markdown",
   "metadata": {},
   "source": [
    "#### Propiedades de la función distancia"
   ]
  },
  {
   "cell_type": "markdown",
   "metadata": {},
   "source": [
    "Para todo $u$, $v$, $w$ pertenecientes a $V$:\n",
    "\n",
    "\n",
    "* $d(u, v) ≥ 0$ y $d(u, v) = 0$, si y sólo si, $u = v$\n",
    "* $d(u, v) = d(v, u)$\n",
    "* $d(u,w) ≤ d(u, v) + d(v,w)$\n",
    "\n",
    "Si $P$ es un camino entre $u$ y $v$ de longitud $d(u, v)$ y $z,w ∈ P$,\n",
    "entonces $P_{zw}$ es un camino entre $z$ y $w$ de longitud $d(z,w)$,\n",
    "donde $P_{zw}$ es el subcamino de $P$ entre $z$ y $w$."
   ]
  },
  {
   "cell_type": "markdown",
   "metadata": {},
   "source": [
    "<img src=\"grafo_distancia.png\" alt=\"mm\" style=\"width: 400px;\"/>\n",
    "\n",
    "La longitud del camino resaltado en amarillo entre $u$ e $y$ no es igual a $d(u, y)$, por lo tanto el subcamino entre $v$ e $y$ tampoco tiene longitud igual a la distancia entre sus nodos $d(v, y)$.\n",
    "\n",
    "El camino en rojo, sí cumple con nuestra proposición."
   ]
  },
  {
   "cell_type": "markdown",
   "metadata": {},
   "source": [
    "----"
   ]
  },
  {
   "cell_type": "markdown",
   "metadata": {},
   "source": [
    "## 6.3 Más definiciones"
   ]
  },
  {
   "cell_type": "markdown",
   "metadata": {},
   "source": [
    "### Subgrafo"
   ]
  },
  {
   "cell_type": "markdown",
   "metadata": {},
   "source": [
    "Dado un grafo $G = (V, X)$, un subgrafo de $G$ es un grafo $H = (V, X)$ tal que:\n",
    "\n",
    "$V' ⊆ V$ y $X' ⊆ X ∩ (V' × V')$"
   ]
  },
  {
   "cell_type": "markdown",
   "metadata": {},
   "source": [
    "<img src=\"grafo_conexo.png\" alt=\"mm\" style=\"width: 800px;\"/>"
   ]
  },
  {
   "cell_type": "markdown",
   "metadata": {},
   "source": [
    "### Subgrafo inducido"
   ]
  },
  {
   "cell_type": "markdown",
   "metadata": {},
   "source": [
    "Un subgrafo $H = (V', X')$ de $G = (V, X)$, es un subgrafo inducido\n",
    "si para todo par de vértices $u, v ∈ V'$:\n",
    "\n",
    "$(u, v) ∈ X ⇐⇒ (u, v) ∈ X$"
   ]
  },
  {
   "cell_type": "markdown",
   "metadata": {},
   "source": [
    "<img src=\"subgrafo_inducido.png\" alt=\"mm\" style=\"width: 800px;\"/>\n",
    "\n",
    "2 de estos grafos son subgrafos del primero, pero sólo 1 es subgrafo inducido."
   ]
  },
  {
   "cell_type": "markdown",
   "metadata": {},
   "source": [
    "### Grafo Conexo"
   ]
  },
  {
   "cell_type": "markdown",
   "metadata": {},
   "source": [
    "Un grafo se dice conexo si existe un camino entre todo par de vértices."
   ]
  },
  {
   "cell_type": "markdown",
   "metadata": {},
   "source": [
    "### Componente conexa"
   ]
  },
  {
   "cell_type": "markdown",
   "metadata": {},
   "source": [
    "Una componente conexa de un grafo $G$ es un subgrafo conexo maximal de $G$."
   ]
  },
  {
   "cell_type": "markdown",
   "metadata": {},
   "source": [
    "<img src=\"componente_conexa.png\" alt=\"mm\" style=\"width: 600px;\"/>"
   ]
  },
  {
   "cell_type": "markdown",
   "metadata": {},
   "source": [
    "---"
   ]
  },
  {
   "cell_type": "markdown",
   "metadata": {},
   "source": [
    "### Grafo Bipartito"
   ]
  },
  {
   "cell_type": "markdown",
   "metadata": {},
   "source": [
    "Un grafo $G = (V, X)$ se dice bipartito si existe una partición $V_{1}$, $V_{2}$\n",
    "del conjunto de vértices $V$:\n",
    "\n",
    "1. $V = V1 ∪ V2$\n",
    "2. $V1 ∩ V2 = ∅$\n",
    "3. $V1 \\neq ∅$\n",
    "4. $V2 \\neq ∅$\n",
    "\n",
    "tal que todas las aristas de $G$ tienen un extremo en $V_{1}$ y otro en $V_{2}$."
   ]
  },
  {
   "cell_type": "markdown",
   "metadata": {},
   "source": [
    "#### Bifartito completo"
   ]
  },
  {
   "cell_type": "markdown",
   "metadata": {},
   "source": [
    "Un grafo bipartito con partición $V_{1}$, $V_{2}$,\n",
    "es bipartito completo si todo vértice en $V_{1}$ es adyacente a todo vértice en $V_{2}$"
   ]
  },
  {
   "cell_type": "markdown",
   "metadata": {},
   "source": [
    "<img src=\"bipartito.png\" alt=\"mm\" style=\"width: 600px;\"/>\n",
    "\n",
    "Un grafo bipartito completo, uno bipartito y uno que no es bipartito debido al eje resaltado."
   ]
  },
  {
   "cell_type": "markdown",
   "metadata": {},
   "source": [
    "#### Teorema\n",
    "Un grafo es bipartito, si y sólo si, no tiene circuitos simples de longitud impar."
   ]
  },
  {
   "cell_type": "markdown",
   "metadata": {},
   "source": [
    "-----"
   ]
  },
  {
   "cell_type": "markdown",
   "metadata": {},
   "source": [
    "### Isomorfismo"
   ]
  },
  {
   "cell_type": "markdown",
   "metadata": {},
   "source": [
    "Dos grafos $G = (V, X)$ y $G' = (V', X')$ se dicen isomorfos si\n",
    "existe una función biyectiva:\n",
    "\n",
    "$$f : V → V'$$ \n",
    "\n",
    "tal que para todo $v,w ∈ V$:\n",
    "\n",
    "$$(v,w) ∈ X ⇐⇒ (f (v), f (w)) ∈ X'$$"
   ]
  },
  {
   "cell_type": "markdown",
   "metadata": {},
   "source": [
    "#### Propiedades de grafos isomorfos"
   ]
  },
  {
   "cell_type": "markdown",
   "metadata": {},
   "source": [
    "* tienen el mismo número de vértices,\n",
    "* tienen el mismo número de aristas,\n",
    "* para todo $k$, $0 ≤ k ≤ n − 1$, tienen el mismo número de vértices de grado $k$\n",
    "* tienen el mismo número de componentes conexas\n",
    "* para todo $k$, $1 ≤ k ≤ n − 1$, tienen el mismo número de caminos simples de longitud $k$."
   ]
  },
  {
   "cell_type": "markdown",
   "metadata": {},
   "source": [
    "Comprobación de isomorfía"
   ]
  },
  {
   "cell_type": "markdown",
   "metadata": {},
   "source": [
    "No entendí isomorfía, parecen los mismos grafos pero con los nombres de los nodos cambiados."
   ]
  },
  {
   "cell_type": "markdown",
   "metadata": {},
   "source": [
    "----"
   ]
  },
  {
   "cell_type": "markdown",
   "metadata": {},
   "source": [
    "## 6.4 Representaciones de grafos"
   ]
  },
  {
   "cell_type": "markdown",
   "metadata": {},
   "source": [
    "### Matrices"
   ]
  },
  {
   "cell_type": "markdown",
   "metadata": {},
   "source": [
    "#### de adyacencia"
   ]
  },
  {
   "cell_type": "markdown",
   "metadata": {},
   "source": [
    "$G ∈ \\mathbb{R}^{n×m}$ , donde los elementos $g_{ij}$ de $G$ se definen como:"
   ]
  },
  {
   "cell_type": "markdown",
   "metadata": {},
   "source": [
    "$$ g_{ij} = \n",
    " \\begin{cases}\n",
    "1, \\qquad \\text{si } G \\text{ tiene una arista entre los vértices } i \\text{ y } j\n",
    "\\newline\n",
    "0, \\qquad \\text{si no}\n",
    "\\end{cases} $$"
   ]
  },
  {
   "cell_type": "markdown",
   "metadata": {},
   "source": [
    "$$ G = \n",
    "\\begin{bmatrix}\n",
    "& 0  & 0  & 1  & 1  & \\\\\n",
    "& 0  & 0  & 1  & 1  & \\\\\n",
    "& 1  & 1  & 0  & 1  & \\\\\n",
    "& 1  & 1  & 1  & 1  & \\\\\n",
    "\\end{bmatrix}$$"
   ]
  },
  {
   "cell_type": "markdown",
   "metadata": {},
   "source": [
    "$$ G = \n",
    "\\begin{bmatrix}\n",
    "& 1  & 0  & 0  & 0  & 0 & 1  & 0  & \\\\\n",
    "& 0  & 0  & 0  & 1  & 1 & 0  & 0  & \\\\\n",
    "& 1  & 1  & 1  & 0  & 1 & 0  & 0  & \\\\\n",
    "& 0  & 1  & 1  & 1  & 0 & 1  & 1 & \\\\\n",
    "\\end{bmatrix}$$"
   ]
  },
  {
   "cell_type": "markdown",
   "metadata": {},
   "source": [
    "$G ∈ \\mathbb{R}^{m×n}$ , donde los elementos $g_{ij}$ de $G$ se definen como:"
   ]
  },
  {
   "cell_type": "markdown",
   "metadata": {},
   "source": [
    "$$ g_{ij} = \n",
    " \\begin{cases}\n",
    "1, \\qquad \\text{si la arista } i \\text{ es incidente al vértice } j\n",
    "\\newline\n",
    "0, \\qquad \\text{si no}\n",
    "\\end{cases} $$"
   ]
  },
  {
   "cell_type": "markdown",
   "metadata": {},
   "source": [
    "#### Teorema"
   ]
  },
  {
   "cell_type": "markdown",
   "metadata": {},
   "source": [
    "### esto no lo entendí\n",
    "Teorema. Si A es la matriz de adyacencia del grafo G , el\n",
    "elemento aij k de Ak es igual a la cantidad de caminos de longitud k\n",
    "entre i y j.\n",
    "Corolario. aii 2 = d(vi ).\n"
   ]
  },
  {
   "cell_type": "markdown",
   "metadata": {},
   "source": [
    "### Lista de adyacencia"
   ]
  },
  {
   "cell_type": "markdown",
   "metadata": {},
   "source": [
    "Lista de todas las adyacencias de un grafo. Una colección de listas desordenadas, donde cada lista contiene todos los vértices adyacentes a un vértice."
   ]
  },
  {
   "cell_type": "markdown",
   "metadata": {},
   "source": [
    "<img src=\"grafo_3.png\" alt=\"mm\" style=\"width: 800px;\"/>"
   ]
  },
  {
   "cell_type": "markdown",
   "metadata": {},
   "source": [
    "Notar que las implementaciones no están definidas. Las matrices pueden ser arrays de arrays, las listas pueden ser listas de arrays, o de listas, o diccionarios de..."
   ]
  },
  {
   "cell_type": "markdown",
   "metadata": {},
   "source": [
    "----"
   ]
  },
  {
   "cell_type": "markdown",
   "metadata": {},
   "source": [
    "## 6.5 Digrafos"
   ]
  },
  {
   "cell_type": "markdown",
   "metadata": {},
   "source": [
    "Un grafo orientado o digrafo $G = (V, X)$ es un par de conjuntos $V$ y $X$ donde $V$ es el conjunto de vértices o nodos y $X$ es un subconjunto del conjunto de los pares ordenados de $V$."
   ]
  },
  {
   "cell_type": "markdown",
   "metadata": {},
   "source": [
    "### Grado de entrada"
   ]
  },
  {
   "cell_type": "markdown",
   "metadata": {},
   "source": [
    "El grado de entrada $d_{in}(v)$ de un nodo $v$ de un grafo orientado es la cantidad de arcos que llegan a $v$. Es decir, la cantidad de arcos que tienen a $v$ como segundo elemento."
   ]
  },
  {
   "cell_type": "markdown",
   "metadata": {},
   "source": [
    "### Grado de salida"
   ]
  },
  {
   "cell_type": "markdown",
   "metadata": {},
   "source": [
    "El grado de salida $d_{out}(v)$ de un nodo $v$ de un grafo orientado es la cantidad de arcos que salen de $v$. Es decir, la cantidad de arcos que tienen a $v$ como primer elemento"
   ]
  },
  {
   "cell_type": "markdown",
   "metadata": {},
   "source": [
    "<img src=\"grafo_4.png\" alt=\"mm\" style=\"width: 800px;\"/>"
   ]
  },
  {
   "cell_type": "markdown",
   "metadata": {},
   "source": [
    "### Camino orientado"
   ]
  },
  {
   "cell_type": "markdown",
   "metadata": {},
   "source": [
    "Un camino orientado en un digrafo es una sucesión de arcos $e_{1}, e_{2} ... e_{k}$ tal que el primer elemento del par $e_{i}$ coincide con el segundo de $e_{i−1}$ y el segundo elemento de $e_{i}$ con el primero de $e_{i+1}$."
   ]
  },
  {
   "cell_type": "markdown",
   "metadata": {},
   "source": [
    "<img src=\"camino_orientado.png\" alt=\"mm\" style=\"width: 400px;\"/>\n",
    "\n",
    "$ \\{ (u, v), \\ (v, w), \\ (w, x), \\ (x, z) \\} $"
   ]
  },
  {
   "cell_type": "markdown",
   "metadata": {},
   "source": [
    "### Circuito orientado"
   ]
  },
  {
   "cell_type": "markdown",
   "metadata": {},
   "source": [
    "Un cicuito orientado en un grafo orientado es un camino orientado que comienza y termina en el mismo nodo.\n",
    "Por obvias razones, no hay diferenciación entre circuito y circuito simple, son todos simples."
   ]
  },
  {
   "cell_type": "markdown",
   "metadata": {},
   "source": [
    "<img src=\"circuito_orientado.png\" alt=\"mm\" style=\"width: 400px;\"/>\n",
    "\n",
    "$ \\{ (y, x), \\ (x, w), \\ (w, v), \\ (v, z), \\ (z, y) \\} $"
   ]
  },
  {
   "cell_type": "markdown",
   "metadata": {},
   "source": [
    "### Componente fuertemente conexo"
   ]
  },
  {
   "cell_type": "markdown",
   "metadata": {},
   "source": [
    "Un digrafo se dice fuertemente conexo si para todo par de nodos $u$, $v$ existe un camino orientado de $u$ a $v$ y otro de $v$ a $u$"
   ]
  },
  {
   "cell_type": "markdown",
   "metadata": {},
   "source": [
    "<img src=\"componente_fuertemente_conexa.png\" alt=\"mm\" style=\"width: 600px;\"/>"
   ]
  },
  {
   "cell_type": "markdown",
   "metadata": {},
   "source": [
    "-------"
   ]
  },
  {
   "cell_type": "markdown",
   "metadata": {},
   "source": [
    "## 6.6 Conclusión"
   ]
  },
  {
   "cell_type": "markdown",
   "metadata": {},
   "source": [
    "* Leer del Cormen: **p(586-620)**"
   ]
  },
  {
   "cell_type": "markdown",
   "metadata": {},
   "source": [
    "--------------------"
   ]
  },
  {
   "cell_type": "markdown",
   "metadata": {},
   "source": [
    "### Contenidos a explicar durante la práctica"
   ]
  },
  {
   "cell_type": "markdown",
   "metadata": {},
   "source": [
    "1. Implementaciones de las distintas representaciones de grafos\n",
    "2. Complejidades al utilizar las distintas representaciones de grafos\n",
    "3. Ciclos en grafos y su detección\n",
    "4. Componentes conexos y su determinación\n",
    "5. Caminos y su determinación\n",
    "6. Conceptos de maximal y minimal"
   ]
  }
 ],
 "metadata": {
  "kernelspec": {
   "display_name": "Python 3 (ipykernel)",
   "language": "python",
   "name": "python3"
  },
  "language_info": {
   "codemirror_mode": {
    "name": "ipython",
    "version": 3
   },
   "file_extension": ".py",
   "mimetype": "text/x-python",
   "name": "python",
   "nbconvert_exporter": "python",
   "pygments_lexer": "ipython3",
   "version": "3.8.11"
  }
 },
 "nbformat": 4,
 "nbformat_minor": 4
}
