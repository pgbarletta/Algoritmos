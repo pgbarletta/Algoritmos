{
 "cells": [
  {
   "cell_type": "code",
   "execution_count": 1,
   "metadata": {},
   "outputs": [],
   "source": [
    "import numpy as np"
   ]
  },
  {
   "attachments": {},
   "cell_type": "markdown",
   "metadata": {},
   "source": [
    "# Complejidad algorítmica"
   ]
  },
  {
   "attachments": {},
   "cell_type": "markdown",
   "metadata": {},
   "source": [
    "## 1.1 Introducción, problemas de optimización y algoritmo de la mochila"
   ]
  },
  {
   "attachments": {},
   "cell_type": "markdown",
   "metadata": {},
   "source": [
    "Un **algoritmo** (en el sentido imperativo), es una secuencia de instrucciones bien definida que una computadora puede ejecutar con el fin de realizar cómputo, como puede ser un cálculo, una decisión, una enumeración, o una optimización. No es ambiguo, es exacto y asegura la resolución del problema.  \n",
    "Una **heurística** es un algoritmo que no garantiza la solución del problema. Dado el mismo problema, la heurística buscará aproximar una respuesta con un método práctico y se espera que esa respuesta sea lo suficientemente cercana a la respuesta óptima o verdadera.\n",
    "\n",
    "Ambos operan en forma análoga a una función matemática (o a una serie de funciones), con una entrada y una salida, y con estados intermedios bien definidos, en el paradigma de programación imperativa.\n",
    "\n",
    "Veamos un problema clásico de optimización que ayude a diferenciar un algoritmo de diversas heurísticas."
   ]
  },
  {
   "attachments": {},
   "cell_type": "markdown",
   "metadata": {},
   "source": [
    "### Problema de la mochila"
   ]
  },
  {
   "attachments": {},
   "cell_type": "markdown",
   "metadata": {},
   "source": [
    "Dado un conjunto de objetos con ciertas masas y ciertos valores, se intenta maximizar el valor de un subconjunto de ellos, de modo tal que la masa total del conjunto no supere la capacidad de una mochila. \n",
    "\n",
    "Nuestras entradas seran:\n",
    "\n",
    "- `m`: la lista de masas de los objetos\n",
    "- `v`: la lista de valores de los objetos\n",
    "- `C`: la capacidad de la mochila\n",
    "\n",
    "Un ejemplo de entrada sería el siguiente:"
   ]
  },
  {
   "cell_type": "code",
   "execution_count": 5,
   "metadata": {},
   "outputs": [],
   "source": [
    "m = np.array([1, 2, 3])\n",
    "v = np.array([6, 10, 12])\n",
    "C = 5"
   ]
  },
  {
   "attachments": {},
   "cell_type": "markdown",
   "metadata": {},
   "source": [
    "Es conveniente aprovechar lo reducido del ejemplo, para resolverlo en nuestra cabeza. Pausemos el video para resolverlo.\n",
    "\n"
   ]
  },
  {
   "attachments": {},
   "cell_type": "markdown",
   "metadata": {
    "tags": []
   },
   "source": [
    "El valor máximo posible es **22** y se obtiene llevando los articulos de masas **2** y **3** con valores **10** y **12**, respectivamente. Y aquí aprovechamos para hacer una diferenciación que nos servirá para el resto de la cursada."
   ]
  },
  {
   "attachments": {},
   "cell_type": "markdown",
   "metadata": {},
   "source": [
    "### Problemas de optimización"
   ]
  },
  {
   "attachments": {},
   "cell_type": "markdown",
   "metadata": {},
   "source": [
    "Los problemas de optimización requieren encontrar una solución entre numerosas posibles, que minimice o maximice una variable, que en esta cursada llevará el nombre de **costo** (cuando hablamos de minimización), o de **score** (cuando hablamos de maximización). Diremos que esta solución es la **solución óptima**. Esta solución puede no ser única.\n",
    "\n",
    "En nuestro ejemplo, los objetos de masas 2 y 3 con valores 10 y 12, respectivamente, conforman la solución óptima. El valor que nos dan estos objetos y que hemos procurado maximizar, es de 22, éste es el score de la solución óptima. Por cierto, una pregunta que nos podemos hacer es cómo saber que nuestra respuesta es la óptima.\n",
    "\n",
    "Conviene tener los conceptos de solución óptima y costo de solución óptima claros, ya que nuestra forma de diseñar algoritmos de optimización seguirá un camino poco intuitivo: primero nos ocuparemos de hallar el costo de la solución óptima y luego construiremos la solución óptima.  \n",
    "\n",
    "Este método no es caprichoso, este método facilita la creación de estos algoritmos. Pero por ahora, intentaremos resolver este problema con las herramientas que disponemos."
   ]
  },
  {
   "attachments": {},
   "cell_type": "markdown",
   "metadata": {},
   "source": [
    "### Posibles soluciones al problema de la mochila"
   ]
  },
  {
   "attachments": {},
   "cell_type": "markdown",
   "metadata": {},
   "source": [
    "Volvamos al problema de la mochila.  \n",
    "\n",
    "Ya hemos resuelto nuestro ejemplo procesando el problema como humanos. Ahora, pausamos el video y pensemos posibles algoritmos que solucionen este problema por nosotros. Recuerden, escriban sus algoritmos en papel y usando pseudocódigo. Luego, apliquen su algoritmo sobre el ejemplo. \n",
    "\n",
    "Esto implica que corran ustedes mismos el algoritmo en su cabeza, siguiendo PASO A PASO, lo que escribieron en su algoritmo y no lo que ustedes desean que ocurra. Es decir, usen su cerebro, no como cerebro humano, sino como *debugger*. Sigan ciegamente las instrucciones de pseudocódigo que ustedes escribieron y si notan un problema, corrijan el pseudocódigo y vuelvan a empezar. Esta forma de pensar será utilizada a lo largo de toda la materia.  \n",
    "\n",
    "Guarden sus funciones para proponerlas en clase."
   ]
  },
  {
   "attachments": {},
   "cell_type": "markdown",
   "metadata": {},
   "source": [
    "#### Función 1"
   ]
  },
  {
   "attachments": {},
   "cell_type": "markdown",
   "metadata": {},
   "source": [
    "Se nos ocurre que buscamos poner la máxima cantidad de objetos posibles, ya que eso probablemente nos dé el máximo valor. Así, intentaremos agregar los objetos más livianos."
   ]
  },
  {
   "cell_type": "code",
   "execution_count": 3,
   "metadata": {},
   "outputs": [],
   "source": [
    "def mochila_ordena_por_masa(m, v, C):\n",
    "    indices = np.argsort(m)\n",
    "    valor = 0\n",
    "    for i in indices:\n",
    "        C -= m[i]\n",
    "        if C < 0:\n",
    "            C += m[i]\n",
    "            continue\n",
    "        else:\n",
    "            valor += v[i]\n",
    "    return valor"
   ]
  },
  {
   "attachments": {},
   "cell_type": "markdown",
   "metadata": {},
   "source": [
    "`argsort(A)` es una función de _numpy_ que en vez de ordenar la lista `A`, devuelve los índices que la ordenan.\n",
    "Se recomienda detener el video en este punto para entender la función."
   ]
  },
  {
   "cell_type": "code",
   "execution_count": 6,
   "metadata": {},
   "outputs": [
    {
     "data": {
      "text/plain": [
       "16"
      ]
     },
     "execution_count": 6,
     "metadata": {},
     "output_type": "execute_result"
    }
   ],
   "source": [
    "mochila_ordena_por_masa(m, v, C)"
   ]
  },
  {
   "attachments": {},
   "cell_type": "markdown",
   "metadata": {},
   "source": [
    "El valor máximo que obtiene este algoritmo es de **16**. Claramente esta solución no es la correcta."
   ]
  },
  {
   "attachments": {},
   "cell_type": "markdown",
   "metadata": {},
   "source": [
    "#### Función 2"
   ]
  },
  {
   "attachments": {},
   "cell_type": "markdown",
   "metadata": {},
   "source": [
    "Dado que queremos maximizar el valor final, convendrá agregar los objetos de mayor valor hasta ocupar la mochila, verdad?"
   ]
  },
  {
   "cell_type": "code",
   "execution_count": 7,
   "metadata": {},
   "outputs": [],
   "source": [
    "def mochila_ordena_por_valor(m, v, C):\n",
    "    indices = np.argsort(-v)\n",
    "    valor = 0\n",
    "    for i in indices:\n",
    "        C -= m[i]\n",
    "        if C < 0:\n",
    "            C += m[i]\n",
    "            continue\n",
    "        else:\n",
    "            valor += v[i]\n",
    "    return valor"
   ]
  },
  {
   "attachments": {},
   "cell_type": "markdown",
   "metadata": {},
   "source": [
    "De nuevo, se recomienda detener el video en este punto para entender la función."
   ]
  },
  {
   "cell_type": "code",
   "execution_count": 8,
   "metadata": {},
   "outputs": [
    {
     "data": {
      "text/plain": [
       "22"
      ]
     },
     "execution_count": 8,
     "metadata": {},
     "output_type": "execute_result"
    }
   ],
   "source": [
    "mochila_ordena_por_valor(m, v, C)"
   ]
  },
  {
   "attachments": {},
   "cell_type": "markdown",
   "metadata": {},
   "source": [
    "El valor máximo que obtiene este algoritmo con nuestro ejemplo, es de 22, el valor óptimo. Será esta la aproximación adecuada? Apliquemos este algoritmo para este nuevo ejemplo:"
   ]
  },
  {
   "cell_type": "code",
   "execution_count": 9,
   "metadata": {},
   "outputs": [],
   "source": [
    "m = np.array([1, 2, 5, 6, 7])\n",
    "v = np.array([1, 6, 18, 22, 28])\n",
    "C = 11"
   ]
  },
  {
   "attachments": {},
   "cell_type": "markdown",
   "metadata": {},
   "source": [
    "Como antes, pausen el video e intenten hallar la respuesta a este ejemplo particular."
   ]
  },
  {
   "attachments": {},
   "cell_type": "markdown",
   "metadata": {
    "tags": []
   },
   "source": [
    "Los objetos de masas **5** y **6** con valores **18** y **22**, respectivamente, conforman la solución óptima. El score óptimo es de **40**. Qué valor nos devuelve nuestra función `mochila_ordena_por_valor()`?"
   ]
  },
  {
   "cell_type": "code",
   "execution_count": 10,
   "metadata": {
    "tags": []
   },
   "outputs": [
    {
     "data": {
      "text/plain": [
       "35"
      ]
     },
     "execution_count": 10,
     "metadata": {},
     "output_type": "execute_result"
    }
   ],
   "source": [
    "mochila_ordena_por_valor(m, v, C)"
   ]
  },
  {
   "attachments": {},
   "cell_type": "markdown",
   "metadata": {
    "tags": []
   },
   "source": [
    "Sigamos intentando."
   ]
  },
  {
   "attachments": {},
   "cell_type": "markdown",
   "metadata": {},
   "source": [
    "#### Función 3"
   ]
  },
  {
   "attachments": {},
   "cell_type": "markdown",
   "metadata": {},
   "source": [
    "Ahora nos ponemos más astutos. Ordenamos esta vez a los objetos por \"densidad de valor\". Incluíremos aquellos objetos que tengan la mejor relación $\\frac{volumen}{peso}$"
   ]
  },
  {
   "cell_type": "code",
   "execution_count": 11,
   "metadata": {},
   "outputs": [],
   "source": [
    "def mochila_ordena_por_masa_valor(m, v, C):\n",
    "    indices = np.argsort(m/v)\n",
    "    valor = 0\n",
    "    for i in indices:\n",
    "        C -= m[i]\n",
    "        if C < 0:\n",
    "            C += m[i]\n",
    "            continue\n",
    "        else:\n",
    "            valor += v[i]\n",
    "    return valor"
   ]
  },
  {
   "cell_type": "code",
   "execution_count": 12,
   "metadata": {},
   "outputs": [
    {
     "data": {
      "text/plain": [
       "35"
      ]
     },
     "execution_count": 12,
     "metadata": {},
     "output_type": "execute_result"
    }
   ],
   "source": [
    "mochila_ordena_por_masa_valor(m, v, C)"
   ]
  },
  {
   "attachments": {},
   "cell_type": "markdown",
   "metadata": {},
   "source": [
    "El valor máximo que obtiene este algoritmo es de **35**. Tampoco hemos hallado la respuesta."
   ]
  },
  {
   "attachments": {},
   "cell_type": "markdown",
   "metadata": {},
   "source": [
    "### Algoritmos vs Heurísticas"
   ]
  },
  {
   "attachments": {},
   "cell_type": "markdown",
   "metadata": {},
   "source": [
    "Lo que estas funciones tienen en común es que, dado nuestro problema, no implementan algoritmos sino heurísticas. \n",
    "\n",
    "En ausencia de una estrategia para resolver este problema y al ignorar que objetos pueden llegar a formar parte de la solución óptima, no podemos descartar ninguna combinación posible de ellos antes de calcularla, y esto es lo q hacen las heurísticas, descartan soluciones posibles."
   ]
  },
  {
   "attachments": {},
   "cell_type": "markdown",
   "metadata": {},
   "source": [
    "Un algoritmo correcto para resolver este problema, podría ser el siguiente"
   ]
  },
  {
   "cell_type": "code",
   "execution_count": 13,
   "metadata": {},
   "outputs": [],
   "source": [
    "def mochila_algoritmo(m, v, C, valor, j): \n",
    "    listado = []\n",
    "    for i in range(j, len(m)):\n",
    "        if C >= m[i]:\n",
    "            listado.append(valor+v[i])\n",
    "            valoresEncontrados = mochila_algoritmo(m, v, C-m[i], valor+v[i], i+1)\n",
    "            listado.extend(valoresEncontrados)\n",
    "    return listado\n",
    "\n",
    "def mochila_wrapper(m, v, C):\n",
    "    return max(mochila_algoritmo(m, v, C, 0, 0))"
   ]
  },
  {
   "attachments": {},
   "cell_type": "markdown",
   "metadata": {},
   "source": [
    "La técnica algorítmica (si se puede llamar así), de este algoritmo se verá más adelante, pero pueden ustedes comprobar que encuentra siempre la respuesta óptima."
   ]
  },
  {
   "cell_type": "code",
   "execution_count": 14,
   "metadata": {},
   "outputs": [
    {
     "data": {
      "text/plain": [
       "40"
      ]
     },
     "execution_count": 14,
     "metadata": {},
     "output_type": "execute_result"
    }
   ],
   "source": [
    "mochila_wrapper(m, v, C)"
   ]
  },
  {
   "attachments": {},
   "cell_type": "markdown",
   "metadata": {},
   "source": [
    "Como vemos, heurísticas y algoritmos exactos parecen similares. Ambos computan un resultado en base a reglas (pasos) bien definidos. Difieren en la calidad de la respuesta, pero más importante aun, difiere la forma de pensar el desarrollo de una heurística y el desarrollo de un algoritmo. No es casualidad que hayamos visto las soluciones heurísticas en primer lugar, éstas son las más intuitivas y requerimos poco entrenamiento para generar reglas heurísticas. Lo que si requiere práctica e iremos desarrollando en esta materia, es la forma algorítmica de pensar un problema."
   ]
  },
  {
   "attachments": {},
   "cell_type": "markdown",
   "metadata": {},
   "source": [
    "Por último, suele haber otra importante diferencia entre heurísticas y algoritmos, y es el costo computacional. Las heurísticas existen y tienen un amplio campo de aplicación ya que para un mismo problema, la heurística suele ser la de menor costo computacional respecto al algoritmo exacto. \n",
    "Durante el resto de la clase aprenderemos a calcular estos costos."
   ]
  },
  {
   "attachments": {},
   "cell_type": "markdown",
   "metadata": {},
   "source": [
    "------------------------------------------------------------------------------------------"
   ]
  },
  {
   "attachments": {},
   "cell_type": "markdown",
   "metadata": {},
   "source": [
    "## 1.2 Análisis de algoritmos"
   ]
  },
  {
   "attachments": {},
   "cell_type": "markdown",
   "metadata": {},
   "source": [
    "Es la predicción de los recursos a utilizar por un algoritmo, siendo algunos ejemplos de recursos el tiempo, el espacio en memoria, el ancho de banda. En esta materia nos ocuparemos principalmente del primero, el tiempo. La llamaremos **complejidad temporal**, o simplemente **complejidad** y cuando hablemos del uso del recurso del espacio, lo llamaremos **complejidad espacial**."
   ]
  },
  {
   "attachments": {},
   "cell_type": "markdown",
   "metadata": {},
   "source": [
    "Es necesaria una definición de modelo de hardware para analizar algoritmos. Asumiremos una computadora con 1 procesador y 1 memoria RAM de espacio infinito y continua (no hay _page faults_). También nos abstraeremos de los mecanismos precisos que pueda utilizar el CPU para el cálculo (shift de bits o utilización de unidades de hardware dedicadas a un cálculo específico), tampoco nos preocuparemos de los tipos de variable, salvo para el caso de enteros muy grandes (más de esto, adelante)."
   ]
  },
  {
   "attachments": {},
   "cell_type": "markdown",
   "metadata": {},
   "source": [
    "El método inicial de obtener la complejidad temporal de un algoritmo es el de contar el número de **operaciones primitivas** (**OPs**) que implica cada línea y como esto escala con el tamaño de la entrada."
   ]
  },
  {
   "cell_type": "code",
   "execution_count": 15,
   "metadata": {},
   "outputs": [],
   "source": [
    "def insertion_sort(lista):\n",
    "    for j in range(2, len(lista)):                   # estructura de control: len(lista) OP\n",
    "        i = j - 1                                    # 1 OP\n",
    "        key = lista[j]                               # 1 OP\n",
    "        while i > 0 and lista[i] > key:              # estructura de control: 1 + 2 + ... + len(lista) OP\n",
    "            lista[i + 1] = lista[i]                  # 1 OP\n",
    "            --i                                      # 1 OP\n",
    "            lista[i+1] = key                         # 1 OP"
   ]
  },
  {
   "attachments": {},
   "cell_type": "markdown",
   "metadata": {},
   "source": [
    "Primero distinguimos las líneas que corresponden a cómputo y aquellas que simplemente son estructuras de control, éstas líneas no son ejecutadas, sino que afectan a las operaciones que le siguen."
   ]
  },
  {
   "attachments": {},
   "cell_type": "markdown",
   "metadata": {},
   "source": [
    "Debido al ciclo de la línea `2`, las operaciones de las líneas `3` y `4` se ejecutaran `len(lista)` veces y también afectará a las líneas `6`, `7` y `8` que también están adentro del ciclo de la línea `5`. El número de iteraciones debido a este ciclo no es constante, sino que se ejecutará `j-1` veces, hasta q `i>0` sea falso, siempre y cuando `lista[i]>key` sea cierto (más de esto adelante)  así, sumando el número de veces q se ejecutarán las líneas `5` y `6`:\n",
    "$$1 + 2 + ... + len(lista) - 1$$\n",
    "Esta es una serie aritmética (secuencia de números operados cuya diferencia entre términos es constante), y converge al siguiente valor:\n",
    "$$\\frac{n (n-1)}{2}$$\n",
    "\n",
    "Donde $n: len(lista)$"
   ]
  },
  {
   "attachments": {},
   "cell_type": "markdown",
   "metadata": {},
   "source": [
    "Así, la suma de operaciones primitivas es:  \n",
    "$$ n + n + \\frac{n (n-1)}{2} + \\frac{n (n-1)}{2} + \\frac{n (n-1)}{2} ==> 2n + \\frac{3}{2} n^{2} - \\frac{3}{2} n ==> \\frac{3}{2} n^{2} + \\frac{1}{2}n  $$"
   ]
  },
  {
   "attachments": {},
   "cell_type": "markdown",
   "metadata": {},
   "source": [
    "Así podemos comprobar que el comportamiento de nuestra implementación del algoritmo de *insertion sort* es cuadrático con el **tamaño de la entrada** (`n`)"
   ]
  },
  {
   "attachments": {},
   "cell_type": "markdown",
   "metadata": {},
   "source": [
    "Volvemos ahora a la condición `A[i]>key` que asumimos como una verdad constante. Esta simplificación será verdadera en sólo un caso particular: cuando la lista de entrada `lista` esté ordenada en el sentido opuesto al que ordena nuestro algoritmo (en nuestro caso, ascendente). Cuando esto no sea así, el ciclo `while` de la línea `4` terminará tempranamente debido al haber hallado un par ordenado.\n",
    "\n",
    "Esto contradice nuestro análisis anterior, nuestro algoritmo no depende sólo de la entrada, sino de su naturaleza. Esta contradicción se resuelve de la misma manera q se resuelve todo nudo gordeano, de un corte. Asumiremos, de aquí en adelante, que la naturaleza de nuestra entrada es la peor posible para nuestro algoritmo y así nunca subestimaremos la demanda de nuestro algoritmo. Llamamos a esto, análisis del peor caso."
   ]
  },
  {
   "attachments": {},
   "cell_type": "markdown",
   "metadata": {},
   "source": [
    "------------------------------------------------------------------------------------------"
   ]
  },
  {
   "attachments": {},
   "cell_type": "markdown",
   "metadata": {},
   "source": [
    "## 1.3 Orden de crecimiento y comportamiento asintótico"
   ]
  },
  {
   "attachments": {},
   "cell_type": "markdown",
   "metadata": {},
   "source": [
    "Haremos ahora, una nueva simplificación: nos ocuparemos sólamente del **orden de crecimiento** de la complejidad, es decir, el máximo término. Si la complejidad de nuestro algoritmo de *insertion sort* era de $\\frac{3}{2} n^{2} + \\frac{1}{2}n$ , la tomaremos como equivalente a la complejidad de $n^{2}$, ya que este termino aumentará más rápidamente que $2n$ y eventualmente lo sobrepasará hasta hacerlo despreciable. Además descartaremos el multiplicador constante ($\\frac{3}{2}$), ya que como veremos, nos importa la pertenencia a una familia de funciones y no la función en particular. Esta familia de funciones es la de $n^{2}$\n",
    "\n",
    "Es decir, nos interesa el **comportamiento asintótico** de nuestro algoritmo, su tiempo de corrida (*running time*) en valores altos y crecientes de `n` (es decir, cuando `n` tiende a `Inf`). \n",
    "\n",
    "Por la misma razón ignoraremos los coeficientes multiplicadores de la función dominante (que a partir de ahora llamaremos **constantes**), ya que éstos no son relevantes en el comportamiento asintótico."
   ]
  },
  {
   "attachments": {},
   "cell_type": "markdown",
   "metadata": {},
   "source": [
    "Resumiendo todo esto en un ejemplo, si el número de operaciones primitivas de un algoritmo depende del tamaño de su entrada de la siguiente manera:\n",
    "\n",
    "$6 + 5n + 17n^{2}$\n",
    "\n",
    "diremos que la complejidad del peor caso de este algoritmo es de $\\Theta(n^{2})$ \n",
    "\n",
    "En cambio, si la complejidad hubiera sido de:\n",
    "\n",
    "$6 + 5n + 17n^{2} + n^{3}$\n",
    "\n",
    "la hubieramos representado como $\\Theta(n^{3})$.\n",
    "\n",
    "Así, diremos que `insertion sort()` tiene un tiempo de corrida en el peor caso de: $\\Theta(n^{2})$. Ésta es la notación asintótica Θ (tita)."
   ]
  },
  {
   "attachments": {},
   "cell_type": "markdown",
   "metadata": {},
   "source": [
    "-------------------"
   ]
  },
  {
   "attachments": {},
   "cell_type": "markdown",
   "metadata": {},
   "source": [
    "## 1.4 Notación asintótica"
   ]
  },
  {
   "attachments": {},
   "cell_type": "markdown",
   "metadata": {},
   "source": [
    "A continuación, daremos definición matemática a lo que venimos haciendo. \n",
    "\n",
    "La notación asintótica es una forma rápida de indicar que una función (en nuestro caso, una complejidad de un algoritmo), pertenece a una **familia o conjunto de funciones**, lo que nos permite generalizar las complejidades de nuestros algoritmos y abstraernos de los detalles que no afectan su comportamiento asintótico, como los términos que crecen más lentamente y las constantes.\n",
    "\n",
    "Tendremos 3 tipos de notaciones asintóticas: O, Ω y Θ. Las definiremos y explicaremos en simultáneo."
   ]
  },
  {
   "attachments": {},
   "cell_type": "markdown",
   "metadata": {},
   "source": [
    "### Notación O"
   ]
  },
  {
   "attachments": {},
   "cell_type": "markdown",
   "metadata": {},
   "source": [
    "Una función $f(n)$, puede ser denotada como $O(g(n))$ si existen $c$ y $n$, tal que:\n",
    "\n",
    "$$0 \\leq f(n) \\leq cg(n) \\quad \\forall n>n_{0} \\ ,\\quad c>0$$"
   ]
  },
  {
   "attachments": {},
   "cell_type": "markdown",
   "metadata": {},
   "source": [
    "La notación O en palabras diría: la función $g(n)$ es un límite superior de la función $f(n)$ si existe una constante posititva $c$ para la cual la desigualdad sea cierta a partir de un $n$ mayor a un cierto $n_{0}$."
   ]
  },
  {
   "attachments": {},
   "cell_type": "markdown",
   "metadata": {},
   "source": [
    "### Notación Ω"
   ]
  },
  {
   "attachments": {},
   "cell_type": "markdown",
   "metadata": {},
   "source": [
    "Una función $f(n)$, puede ser denotada como $\\Omega(g(n))$ si existen $c$  y $n$, tal que:\n",
    "\n",
    "$$0 \\leq cg(n) \\leq f(n) \\quad \\forall n>n_{0} \\ ,\\quad c>0\\ $$"
   ]
  },
  {
   "attachments": {},
   "cell_type": "markdown",
   "metadata": {},
   "source": [
    "La notación Ω en palabras diría: la función $g(n)$ es un límite inferior de la función $f(n)$ si existe una constante posititva $c$ para la cual la desigualdad sea cierta a partir de un $n$ mayor a un cierto $n_{0}$. "
   ]
  },
  {
   "attachments": {},
   "cell_type": "markdown",
   "metadata": {},
   "source": [
    "### Notación Θ"
   ]
  },
  {
   "attachments": {},
   "cell_type": "markdown",
   "metadata": {},
   "source": [
    "Una función $f(n)$, puede ser denotada como $\\Theta(g(n))$ si existen $c_{1}$,  $c_{2}$,  y $n$, tal que:\n",
    "\n",
    "$$0 \\leq c_{1}g(n) \\leq f(n) \\leq c_{2}g(n) \\quad \\forall n>n_{0} ,\\quad c_{1}>0\\ ,\\  c_{2}>0$$"
   ]
  },
  {
   "attachments": {},
   "cell_type": "markdown",
   "metadata": {},
   "source": [
    "Notar que la última notación (Θ), se desprende de las 2 primeras. Si  $g(n)$ puede acotar por arriba y por abajo (\"sanguchear\"), a  $f(n)$ sólamente cambiando la constante, entonces se utilizará la notacion Θ.  \n",
    "\n",
    "Gráficamente, estas desigualdades pueden verse de esta manera:"
   ]
  },
  {
   "attachments": {},
   "cell_type": "markdown",
   "metadata": {},
   "source": [
    "![notaciones](complejidad.png \"Notaciones\")"
   ]
  },
  {
   "attachments": {},
   "cell_type": "markdown",
   "metadata": {},
   "source": [
    "## 1.5 Ejemplo con `insertion sort()`"
   ]
  },
  {
   "attachments": {},
   "cell_type": "markdown",
   "metadata": {},
   "source": [
    "Veamos como demostrar que estas 3 notaciones aplican a la función de tiempo de ejecución de `insertion sort`:"
   ]
  },
  {
   "attachments": {},
   "cell_type": "markdown",
   "metadata": {},
   "source": [
    "### Notación O"
   ]
  },
  {
   "attachments": {},
   "cell_type": "markdown",
   "metadata": {},
   "source": [
    "Nuestra función era $f(n) = n^{2} + 2n$, nos dispondremos a comprobar que $n^{2}$ la acota por arriba:  \n",
    "\n",
    "$$0 \\leq n^{2} + 2n \\leq c n^{2}$$  \n",
    "\n",
    "La desigualdad de la izquierda puede ser descartada inicialmente. Ya que nuestras funciones representan tiempos de ejecución, sabemos que jamás tomarán valores negativos, salvo que hayamos hecho algo muy mal.  \n",
    "\n",
    "$$n^{2} + 2n \\leq c n^{2}$$  \n",
    "\n",
    "Ahora sólo tenemos que encontrar una constante $c$ para la cual esta desigualdad sea verdadera para valores de $n$ mayores a cierto $n_{0}$. A veces conviene operar un poco más antes de hacer esto.  \n",
    "\n",
    "Restaremos $n^{2}$ y dividiremos por $2$ a ambos lados de la desigualdad:  \n",
    "\n",
    "$$2n \\leq (c-1) n^{2}$$\n",
    "\n",
    "\n",
    "$$ n \\leq \\frac{(c-1)}{2} n^{2}$$  \n",
    "\n",
    "Y así es fácil imaginar un par de valores que nos den una solución; si $c = 3$:  \n",
    "\n",
    "$$n \\leq n^{2}$$\n",
    "\n",
    "esta desigualdad será verdadera para valores de $n$ mayores a $1$, por lo tanto: $n_{0} = 1$."
   ]
  },
  {
   "attachments": {},
   "cell_type": "markdown",
   "metadata": {},
   "source": [
    "### Notación Ω"
   ]
  },
  {
   "attachments": {},
   "cell_type": "markdown",
   "metadata": {},
   "source": [
    "Haremos lo mismo para demostrar que también es acotada por debajo:  \n",
    "\n",
    "$$0 \\leq c n^{2} \\leq n^{2} + 2n$$  \n",
    "\n",
    "De nuevo descartamos la primer desigualdad, por trabajar siempre con funciones que toman valores positivos en el dominio que nos interesa.  \n",
    "\n",
    "$$c n^{2} \\leq n^{2} + 2n$$  \n",
    "\n",
    "Tomemos esta vez un camino alternativo; definiremos $c$ y luego intentaremos definir un $n_{0}$. Por comodidad, definiremos $c = 1$, así podremos restar $n^{2}$ a ambos lados de la desigualdad:  \n",
    "\n",
    "$$n^{2} \\leq n^{2} + 2n$$\n",
    "\n",
    "$$0 \\leq 2n$$  \n",
    "\n",
    "Y es evidente que a partir de valores de $0$ esta desigualdad se cumple, $n_{0} = 0$."
   ]
  },
  {
   "attachments": {},
   "cell_type": "markdown",
   "metadata": {},
   "source": [
    "### Notación Θ"
   ]
  },
  {
   "attachments": {},
   "cell_type": "markdown",
   "metadata": {},
   "source": [
    "Ya hemos comprobado que la familia de funciones $n^{2}$ acota a nuestra función por arriba y por abajo. Esto implica que podemos usar la notación Θ para expresar la complejidad de nuestro algoritmo con mayor precisión y si bien es ya innecesario, comprobaremos esto también:  \n",
    "\n",
    "$$0 \\leq c_{1} n^{2} \\leq n^{2} + 2n \\leq c_{2} n^{2}$$  \n",
    "\n",
    "De nuevo, descartamos la primer desigualdad y operamos sobre las desigualdades hasta que la verdad de ésta sea evidente:  \n",
    "\n",
    "$$c_{1} n^{2} \\leq n^{2} + 2n \\leq c_{2} n^{2}$$\n",
    "$$\\ c_{1} = 1 \\ , \\quad c_{2} = 2$$\n",
    "$$n^{2} \\leq n^{2} + 2n \\leq 2 n^{2}$$\n",
    "$$1 \\leq 2n \\leq n^{2}$$  \n",
    "\n",
    "Así, estas desigualdades son ciertas para un $n_{0} = 2$.  \n",
    "\n",
    "Por eso podríamos decir que la complejidad temporal del algoritmo de *insertion sort* es de $O(n^{2})$ y de $\\Omega(n^{2})$, pero en estos casos decimos simplemente que su complejidad temporal es de $\\Theta(n^{2})$ ya que esta notación es la que más información contiene."
   ]
  },
  {
   "attachments": {},
   "cell_type": "markdown",
   "metadata": {},
   "source": [
    "--------------------"
   ]
  },
  {
   "attachments": {},
   "cell_type": "markdown",
   "metadata": {},
   "source": [
    "## 1.6 Número de bits ocupados por un entero no acotado"
   ]
  },
  {
   "attachments": {},
   "cell_type": "markdown",
   "metadata": {},
   "source": [
    "Hasta ahora hemos hablado de algoritmos cuyas complejidades dependen del número de elementos en las variables de entrada, pero, qué pasa con aquellos algoritmos cuya complejidad depende de un número natural?"
   ]
  },
  {
   "attachments": {},
   "cell_type": "markdown",
   "metadata": {},
   "source": [
    "### Secuencia de Fibonacci"
   ]
  },
  {
   "attachments": {},
   "cell_type": "markdown",
   "metadata": {},
   "source": [
    "Se obtiene de la siguiente manera:\n",
    "\n",
    "$$F_{n} = F_{n-2} + F_{n-1}$$\n",
    "$$F_{0} = 0$$\n",
    "$$F_{1} = 1$$\n",
    "\n",
    "Es decir, cada número se obtiene sumando los 2 números anteriores en la secuencia y se definen los números de Fibonacci para el $0$ y para el $1$, para empezar la secuencia de esta manera:  \n",
    "\n",
    "$$0, 1, 1, 2, 3, 5, 8, 13, 21$$ \n",
    "\n",
    "Es decir, el número de Fibonacci $F_{n}$ es el número que aparece en la posición $n$ de la secuencia de Fibonacci (indexando por 0). Por ejemplo, el número de Fibonacci de 10 ($F_{10}$) es $55$:  \n",
    "\n",
    "$$0, 1, 1, 2, 3, 5, 8, 13, 21, 34, 55$$"
   ]
  },
  {
   "attachments": {},
   "cell_type": "markdown",
   "metadata": {},
   "source": [
    "Supongamos un algoritmo *naive* (bruto), para obtener este número de Fibonacci a partir de cualquier entero:"
   ]
  },
  {
   "cell_type": "code",
   "execution_count": 16,
   "metadata": {},
   "outputs": [],
   "source": [
    "def fibonacci_bruto(n):\n",
    "    if n == 1:\n",
    "        return 1\n",
    "    elif n == 0:\n",
    "        return 0\n",
    "    else:\n",
    "        return fibonacci_bruto(n-1) + fibonacci_bruto(n-2)"
   ]
  },
  {
   "attachments": {},
   "cell_type": "markdown",
   "metadata": {},
   "source": [
    "Y aquí tenemos uno de estos algoritmos. Claramente el largo de la entrada es siempre $1$, sin embargo, el valor de ese número natural afectará el tiempo de ejecución de nuestro algoritmo. Veamos entonces:  \n",
    "\n",
    "El número $m$ de bits necesarios para representar un entero de valor $N$:  \n",
    "\n",
    "$$m = log(N)$$  \n",
    "\n",
    "Donde $log()$ es el logaritmo en base 2 y así lo será para el resto de la materia. Se entenderá que este cálculo es necesario para obtener la utilización de recursos de algoritmos que tengan en su entrada números enteros no acotados.  \n",
    "\n",
    "$$2^{m} = N$$  \n",
    "\n",
    "Así, un algoritmo cuya complejidad depende del valor que toma una entrada y no del largo de ésta, suele tener una dependencia exponencial con este valor. Esta dependencia exponencial es mejor reflejada por el número de bits implicados en la representación de este valor.  \n",
    "\n",
    "Dicho de otra forma, una operación sobre un número no acotado no será de $O(1)$ sino de $O(2^m)$.  \n",
    "\n",
    "Así, $n$ iteraciones de una operación con un número acotado tendrá una complejidad de $O(n)$.\n",
    "Mientras que $n$ iteraciones de una operación con un número no acotado tendrá una complejidad de $O(n \\  2^m)$.  \n",
    "\n",
    "Nos reencontraremos con este tipo de algoritmos en más de una ocasión. Muchos serán llamados algoritmos **pseudo polinomiales**. Más sobre esto, en la próxima practica."
   ]
  },
  {
   "attachments": {},
   "cell_type": "markdown",
   "metadata": {},
   "source": [
    "----------------"
   ]
  },
  {
   "attachments": {},
   "cell_type": "markdown",
   "metadata": {},
   "source": [
    "## 1.7 Resumen"
   ]
  },
  {
   "attachments": {},
   "cell_type": "markdown",
   "metadata": {},
   "source": [
    "Cuando distinguimos algoritmos de heurísticas mencionamos al pasar la necesidad de una estrategia previa para poder resolver problemas sin tener que explorar todas las soluciones posibles.\n",
    "Y cuál sería una estrategia para resolver este tipo de problemas? Veremos una fundamental en la unidad III, la de **programación dinámica**. Con ella construiremos una solución óptima sin tener que explorar todas las soluciones posibles.\n",
    "\n",
    "También veremos problemas, que si bien no son de optimización, sí tienen una noción de corrección o validez que debe ser satisfecha y que no todas las soluciones posibles satisfacen. En la unidad IV, **_backtracking_**, veremos estos problemas cuya solución tampoco requiere la exploración de todas las soluciones posibles, sino que es posible construir nuestra solución en sucesivos pasos y determinar de antemano, si la solución parcial conducirá a una solución válida.\n",
    "\n",
    "Por último, veremos que la noción de algoritmo o de heurística no está separada del problema que se intenta resolver. Ya veremos que una de las heurísticas vistas se convierte en el algoritmo correcto para resolver un problema asociado al problema de la mochila. El problema fraccionario de la mochila. Es decir, es un problema de optimización que puede resolverse tomando un atajo, siempre y cuando éste sea el correcto. Este tipo de problemas aparecerán más seguido en la unidad V, de algoritmos **_greedy_**."
   ]
  },
  {
   "attachments": {},
   "cell_type": "markdown",
   "metadata": {},
   "source": [
    "* Algoritmo. \n",
    "* Heurística. \n",
    "* Problema de la mochila. \n",
    "* Complejidades temporal y espacial. \n",
    "* Número de operaciones primitivas dependen del tamaño del input \n",
    "* Tamaño del input no sólo es el largo de una estructura de datos (ej: lista), sino también puede depender del número de bits necesarios para representar un número (entero, en nuestro caso). \n",
    "* Esta dependencia la expresamos como un orden de crecimiento y nos interesa solamente su comportamiento asintótico. \n",
    "* Notación $O(g())$, $Ω(g())$ y $Θ(g())$ para expresar que la familia de funciones de $g()$ acota a nuestra función por arriba, por debajo, o ambas. \n",
    "* Recuerden correr y jugar con los ejemplos! \n",
    "* Recuerden leer el Cormen: **p16-60**"
   ]
  },
  {
   "attachments": {},
   "cell_type": "markdown",
   "metadata": {},
   "source": [
    "--------------------"
   ]
  },
  {
   "attachments": {},
   "cell_type": "markdown",
   "metadata": {},
   "source": [
    "### Contenidos a explicar durante la práctica"
   ]
  },
  {
   "attachments": {},
   "cell_type": "markdown",
   "metadata": {},
   "source": [
    "1. notación de \"=\" en reemplazo de \"pertenece\"\n",
    "2. ordenes sublineal, lineal, polinómico, exponencial, factorial y pseudo polinomial\n",
    "3. suma de complejidades es igual a la complejidad q más rápido crece\n",
    "4. propiedades del logaritmo"
   ]
  }
 ],
 "metadata": {
  "kernelspec": {
   "display_name": "Python 3 (ipykernel)",
   "language": "python",
   "name": "python3"
  },
  "language_info": {
   "codemirror_mode": {
    "name": "ipython",
    "version": 3
   },
   "file_extension": ".py",
   "mimetype": "text/x-python",
   "name": "python",
   "nbconvert_exporter": "python",
   "pygments_lexer": "ipython3",
   "version": "3.10.6"
  }
 },
 "nbformat": 4,
 "nbformat_minor": 4
}
