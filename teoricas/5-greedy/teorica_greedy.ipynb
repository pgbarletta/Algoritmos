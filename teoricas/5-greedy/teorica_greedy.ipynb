{
 "cells": [
  {
   "cell_type": "code",
   "execution_count": 1,
   "metadata": {},
   "outputs": [],
   "source": [
    "import numpy as np\n",
    "import sys\n",
    "import math\n",
    "import itertools\n",
    "import matplotlib.pyplot as plt  \n",
    "from time import time "
   ]
  },
  {
   "cell_type": "markdown",
   "metadata": {},
   "source": [
    "# Algoritmos avaros"
   ]
  },
  {
   "cell_type": "markdown",
   "metadata": {},
   "source": [
    "## 5.1 Introducción"
   ]
  },
  {
   "cell_type": "markdown",
   "metadata": {},
   "source": [
    "En esta unidad nos dedicaremos casi enteramente a resolver problemas de optimización utilizando, como venimos haciendo, algoritmos y no heurísticas. Hacemos énfasis en este punto ya que la estrategia que veremos será reutilizada más adelante para diseñar heurísticas. Pero en lo que respecta a esta unidad, no nos alcanza con encontrar la solución que nos de un costo bajo ---o _score_ alto---, sino que buscamos la solución óptima, la que nos da el costo más bajo posible, o el _score_ más alto."
   ]
  },
  {
   "cell_type": "markdown",
   "metadata": {},
   "source": [
    "Los algoritmos _greedy_, o golosos, o avaros, pueden ser entendidos como un subtipo de los algoritmos de PD.\n",
    "Resuelven problemas que pueden ser resueltos por algoritmos de PD, pero siguiendo una estrategia más directa lo que resulta en un algoritmo con una menor complejidad.\n",
    "Los problemas que pueden ser resueltos por algoritmos golosos, como los que se resuelven por PD, tienen subestructura óptima. Pero a diferencia de PD, cada subproblema depende de la solución de un solo subproblema más pequeño. Esta crucial diferencia elimina la multiplicidad de caminos posibles, aplanando los árboles de recursión de PD y conviertiéndolos en un proceso lineal en el que se decide el camino óptimo de recursión a cada paso; a diferencia de PD que debe explorar distintas posibilidades para luego decidir el camino óptimo."
   ]
  },
  {
   "cell_type": "markdown",
   "metadata": {},
   "source": [
    "<img src=\"arbol_pd_greedy.png\" alt=\"mm\" style=\"width: 1000px;\"/>"
   ]
  },
  {
   "cell_type": "markdown",
   "metadata": {},
   "source": [
    "Árboles de subproblemas de un algoritmo de PD y uno _greedy_ para un problema hipótetico que tiene subestructura óptima y además puede ser resuelto por método _greedy_. \n",
    "Tal subproblema hipotético podría ser resuelto por PD, pero si se opera de la forma correcta, puede ser resuelto en forma directa, linealizando subproblemas y eliminando la superposición de los mismos.\n",
    "En _greedy_ el camino óptimo para resolver un subproblema es evidente, esto lleva a un camino directo que lleva el problema inicial hasta el caso base."
   ]
  },
  {
   "cell_type": "markdown",
   "metadata": {},
   "source": [
    "<img src=\"ejer3.png\" alt=\"mm\" style=\"width: 600px;\"/>"
   ]
  },
  {
   "cell_type": "markdown",
   "metadata": {},
   "source": [
    "El ejercicio 3 de la guía de PD puede ayudar con la diferenciación. A la izquierda está la matriz de costos de la que debiamos partir desde `[0,0]` y llegar hasta `[n,m]` y a la derecha, la estructura de datos final que nuestro algoritmo de PD llenó con los costos de las soluciones óptimas a los subproblemas.\n",
    "Luego de terminar nuestro algoritmo que hallaba estos costos, debíamos hallar la solución óptima en sí. Esto lo podíamos hacer tomando la estructura de datos donde memoizamos y haciendo unn _traceback_ desde la celda `[n,m]` hasta la celda `[0,0]` (por cierto, este procedimiento es muy similar al _traceback_ de Needleman-Wunsch).\n",
    "\n",
    "Este algoritmo final de _traceback_ es un algoritmo greedy. Parte desde la celda `[n,m]`, que tiene un valor de `18`, se fija cuál es la celda contigua con menor costo y avanza hacia ella, sin plantearse un camino alternativo y aún así, halla la respuesta correcta. Esto es común a todos los algoritmos _greedy_. Éstos hacen la elección óptima local, toman la decisión que parece más conveniente en el momento y aún así llegan a la respuesta óptima a nivel global.\n",
    "\n",
    "Ésto, claro, se debe a que PD ya hizo su trabajo y en vez de lidiar con una matriz de costos de cada celda, el algoritmo _greedy_ está lidiando con los costos **para llegar** a cada celda.\n",
    "\n",
    "Si utilizaramos el algoritmo _greedy_ para la primer parte del problema, no tendríamos garantizada la respuesta correcta. En cambio, podríamos usar un algoritmo de PD para reemplazar al _greedy_ en la segunda parte del problema y si bien obtendríamos la respuesta correcta, sería con un exceso de cálculo; con un algoritmo _greedy_ hubiera bastado.\n",
    "\n",
    "Pero es importante notar que las aproximaciones lidian con problemas que un análisis superficial tacharía de similares, pero que ahora los sabemos fundamentalmente distintos."
   ]
  },
  {
   "cell_type": "markdown",
   "metadata": {},
   "source": [
    "-------"
   ]
  },
  {
   "cell_type": "markdown",
   "metadata": {},
   "source": [
    "## 5.2 _Stable Matching_"
   ]
  },
  {
   "cell_type": "markdown",
   "metadata": {},
   "source": [
    "El ejemplo que veremos será el de un problema de decisión y no de optimización. \n",
    "\n",
    "En una realidad alternativa, las incorporaciones de los jugadores a los clubes se maneja de la siguiente manera:\n",
    "\\\n",
    "hay `n` clubes ofreciendo una vacante para incorporador un jugador, de `m` disponibles. Cada club tiene un orden de preferencia de jugadores y a su vez, cada jugador tiene un orden de preferencia de clubes para jugar. Si se dan las siguientes condiciones:\n",
    " \n",
    " * Mismo número de clubes y jugadores (`n == m`).\n",
    " * Cada club ofrece 1 vacante.\n",
    " * Los órdenes de preferencia son completos, es decir, cada jugador ranquea a todos los clubes y lo mismo hace cada club con los jugadores.\n",
    " * No hay empates entre los rankings de clubes y jugadores\n",
    " \n",
    "entonces existe un conjunto de apareamientos completo que no sea inestable.\n",
    "\n",
    "**Apareamiento inestable**: ocurre cuando hay un par club-jugador que preferirían estar en la misma pareja entre sí, por sobre su pareja actual. Es decir, una vez hecho el apareamiento de todos los clubes con todos los jugadores, no debería ser posible hallar 2 pares club-jugador en donde uno de los jugadores prefiera jugar en el otro club y este otro club también prefiera a ese jugador, por sobre el que se le dió.\n",
    "\n",
    "Nótese que este no es un problema de optimización. No buscamos maximizar la satisfacción de los clubes, ni de los jugadores, ni de ambos grupos en conjunto. Buscamos un apareamiento que sea estable, según la definición anterior. Además el apareamiento debe ser completo, no debe quedar jugador sin club, ni club sin jugador."
   ]
  },
  {
   "cell_type": "markdown",
   "metadata": {},
   "source": [
    "Siempre ayuda tener un ejemplo reducido. Las letras en mayúsculas son los clubes y las minúsculas, los jugadores. Las 2 tablas presentan sus órdenes de preferencia."
   ]
  },
  {
   "cell_type": "markdown",
   "metadata": {},
   "source": [
    "<img src=\"stable_matching_1.png\" alt=\"mm\" style=\"width: 300px;\"/>"
   ]
  },
  {
   "cell_type": "markdown",
   "metadata": {},
   "source": [
    "## 5.3 Posible solución al _Stable Matching_"
   ]
  },
  {
   "cell_type": "markdown",
   "metadata": {},
   "source": [
    "Anteriormente dijimos que un algoritmo _greedy_ toma la decisión más óptima posible a medida que se le presentan las instancias de decisión. Si bien aquí no hay solución óptima, por que no hay nada optimizar, porque éste no es un problema de optimización, si hay que tomar decisiones. \n",
    "\n",
    "Así que eso haremos, a la hora de aparear `n` clubes y `m` jugadores, no nos plantearemos las $nm$ posibles parejas, sino que le daremos a cada club que se nos presente un jugador y pasaremos al próximo club y jugador (subproblema). También se podría hacer desde la perspectiva de los jugadores, pero si logramos un algoritmo correcto (que no genere parejas inestables en ningún caso), esa inversión de perspectiva no será relevante."
   ]
  },
  {
   "cell_type": "markdown",
   "metadata": {},
   "source": [
    "Comenzaremos iterando a lo largo de los clubes y dándole a cada club, el jugador de su preferencia, mientras éste esté disponible. Obtenemos el siguiente apareamiento:\n",
    "\n",
    "$$\n",
    "\\{A ; r\\} \\newline\n",
    "\\{B ; s\\} \\newline\n",
    "\\{C ; q\\} \\newline\n",
    "$$\n",
    "\n",
    "Y así no hay apareamientos inestables, ya que cada club se quedó con su jugador preferido. Veamos que ocurre si invertimos la perspectiva\n",
    "\n",
    "$$\n",
    "\\{q ; A\\} \\newline\n",
    "\\{r ; C\\} \\newline\n",
    "\\{s ; B\\} \\newline\n",
    "$$\n",
    "\n",
    "Tampoco es inestable."
   ]
  },
  {
   "cell_type": "markdown",
   "metadata": {},
   "source": [
    "Veamos un nuevo ejemplo:"
   ]
  },
  {
   "cell_type": "markdown",
   "metadata": {},
   "source": [
    "<img src=\"stable_matching_2.png\" alt=\"mm\" style=\"width: 300px;\"/>"
   ]
  },
  {
   "cell_type": "markdown",
   "metadata": {},
   "source": [
    "Apareamos desde la perspectiva de los clubes:\n",
    "\n",
    "$$\n",
    "\\{A ; q\\} \\newline\n",
    "\\{B ; r\\} \\newline\n",
    "\\{C ; s\\} \\newline\n",
    "$$\n",
    "\n",
    "Y aquí se rompe nuestra solución. $B$ hubiera preferido a $q$, que a su vez lo hubiera preferido antes que quedarse con $A$, el último club de su lista. Este apareamiento es inestable.\n"
   ]
  },
  {
   "cell_type": "markdown",
   "metadata": {},
   "source": [
    "## 5.4 Algoritmo de Boston Pool y Gale-Shapley"
   ]
  },
  {
   "cell_type": "markdown",
   "metadata": {},
   "source": [
    "Nuestro problema es que no fuimos suficientemente _greedy_. Tomamos la decisión avara para los clubes, pero no para los jugadores.\n",
    "\n",
    "Un error común es suponer que porque un algoritmo es avaro y resuelve un subproblema de inmediato, no debe ser capaz de corregir esa decisión en un paso posterior.\n",
    "\n",
    "El algoritmo avaro correcto itera los clubes como el anterior, pero si el jugador preferido ya tiene club, no pasa al siguiente jugador, sino que le pregunta al jugador si no preferiría descartar a su club anterior y formar una nueva pareja, ya que hay un club que lo prefiere a él. Y éste segundo paso es la clave para que no se formen parejas inestables.\\\n",
    "Naturalmente, esto deja a clubes rechazados sin jugadores, el algoritmo debe volver a iterar por los clubes restantes hasta que no haya club sin jugador y esto garantiza que no haya club ni jugador sin aparear.\n",
    "\n",
    "Entonces, el procedimiento sería:\n",
    "\n",
    " * Un club $A$ se le ofrece al jugador $\\alpha$ de su máxima preferencia, que no lo haya rechazado aún.\n",
    " * Ahora se pueden dar 3 casos:\n",
    "\n",
    "```\n",
    "1. El jugador α no tiene club y acepta tentativamente la oferta.\n",
    "2. El jugador α tiene club, pero prefiere a A. Acepta tentativamente la oferta.\n",
    "3. El jugador α tiene club, y lo prefiere a A. Rechaza la oferta de forma definitoria.\n",
    "```\n",
    "\n",
    "Es decir, los clubes ofertan de forma avara y los jugadores aceptan de forma avara. Y de nuevo, si invertimos los roles, nada va a cambiar. "
   ]
  },
  {
   "cell_type": "markdown",
   "metadata": {},
   "source": [
    "Si aplicamos este nuevo algoritmo al ejemplo anterior, obtenemos el apareamiento:\n",
    "\n",
    "Primera pasada:\n",
    "\n",
    "$$\n",
    "\\{A ; \\} \\newline\n",
    "\\{B ; q\\} \\newline\n",
    "\\{C ; s\\} \\newline\n",
    "$$\n",
    "\n",
    "Segunda pasada:\n",
    "$$\n",
    "\\{A ; s\\} \\newline\n",
    "\\{B ; q\\} \\newline\n",
    "\\{C ; \\} \\newline\n",
    "$$\n",
    "\n",
    "Tercera pasada:\n",
    "$$\n",
    "\\{A ; s\\} \\newline\n",
    "\\{B ; q\\} \\newline\n",
    "\\{C ; r\\} \\newline\n",
    "$$"
   ]
  },
  {
   "cell_type": "markdown",
   "metadata": {},
   "source": [
    "Pueden ustedes practicar con este nuevo ejemplo:"
   ]
  },
  {
   "cell_type": "markdown",
   "metadata": {},
   "source": [
    "<img src=\"stable_matching_3.png\" alt=\"mm\" style=\"width: 300px;\"/>"
   ]
  },
  {
   "cell_type": "markdown",
   "metadata": {},
   "source": [
    "## 5.5 Corrección y complejidad del algoritmo de Boston Pool y Gale-Shapley"
   ]
  },
  {
   "cell_type": "markdown",
   "metadata": {},
   "source": [
    "Es fundamental en los algoritmos avaros comprobar que nuestra solución llegue a una solución correcta, ya que no todo problema puede ser resuelto óptima o correctamente, por un algoritmo _greedy_ e incluso aquellos que si lo son, deben ser resueltos con la estrategia correcta. Ya vimos que la estrategia errónea puede llevar a una solución incorrecta, o en el caso de los problemas de optimización, una solución no óptima."
   ]
  },
  {
   "cell_type": "markdown",
   "metadata": {},
   "source": [
    "Comprobaremos las 2 propiedades que nuestra solución debe tener.\n",
    "\n",
    "* Bajo este algoritmo, cada club hace $1 \\leq ofertas \\leq m$ ofertas y se termina con un apareamiento completo. Si no lo fuera, entonces habría un club que fue rechazado por todos los jugadores y para que eso ocurra, entonces los `m` jugadores deberían tener club, pero como `m==n`, entonces los `n` clubes también tendrían su jugador y por lo tanto no podría haber un club sin jugador (contradicción, absurdo).\n",
    "* El apareamiento es estable. Dados un club y un jugador `{u, v}` que no fueron apareados, estos no preferirían estar juntos ya que si no están apareados se dió alguno de estos 2 casos:\n",
    "\n",
    "```\n",
    "1. el club u nunca ofertó al jugador v, en tal caso, el club tiene un jugador w al que prefiere por encima de v.\n",
    "2. el club u hizo una oferta al jugador v, pero éste prefirió a un club x\n",
    "```\n",
    "Entonces no hay apareamiento inestable."
   ]
  },
  {
   "cell_type": "markdown",
   "metadata": {},
   "source": [
    "Y en la primera comprobación vimos un indicio de la complejidad de nuestro algoritmo. Si `m == n` y cada club oferta como máximo a todos los jugadores, y a cada paso hacemos una oferta, entonces el número de ofertas y, por lo tanto, la complejidad de nuestro algoritmo estarán acotados por $O(n)$"
   ]
  },
  {
   "cell_type": "markdown",
   "metadata": {},
   "source": [
    "## 5.6 Implementación del algoritmo de Boston Pool y Gale-Shapley"
   ]
  },
  {
   "cell_type": "code",
   "execution_count": 37,
   "metadata": {},
   "outputs": [
    {
     "name": "stdout",
     "output_type": "stream",
     "text": [
      "Woman   Man\n",
      "4 \t 2\n",
      "5 \t 1\n",
      "6 \t 3\n",
      "7 \t 0\n"
     ]
    }
   ],
   "source": [
    "N = 4\n",
    " \n",
    "# This function returns true if\n",
    "# woman 'w' prefers man 'm1' over man 'm'\n",
    "def wPrefersM1OverM(prefer, w, m, m1):\n",
    "     \n",
    "    # Check if w prefers m over her\n",
    "    # current engagment m1\n",
    "    for i in range(N):\n",
    "         \n",
    "        # If m1 comes before m in list of w,\n",
    "        # then w prefers her current engagement,\n",
    "        # don't do anything\n",
    "        if (prefer[w][i] == m1):\n",
    "            return True\n",
    " \n",
    "        # If m comes before m1 in w's list,\n",
    "        # then free her current engagement\n",
    "        # and engage her with m\n",
    "        if (prefer[w][i] == m):\n",
    "            return False\n",
    " \n",
    "# Prints stable matching for N boys and N girls.\n",
    "# Boys are numbered as 0 to N-1.\n",
    "# Girls are numbered as N to 2N-1.\n",
    "def stableMarriage(prefer):\n",
    "     \n",
    "    # Stores partner of women. This is our output\n",
    "    # array that stores passing information.\n",
    "    # The value of wPartner[i] indicates the partner\n",
    "    # assigned to woman N+i. Note that the woman numbers\n",
    "    # between N and 2*N-1. The value -1 indicates\n",
    "    # that (N+i)'th woman is free\n",
    "    wPartner = [-1 for i in range(N)]\n",
    " \n",
    "    # An array to store availability of men.\n",
    "    # If mFree[i] is false, then man 'i' is free,\n",
    "    # otherwise engaged.\n",
    "    mFree = [False for i in range(N)]\n",
    " \n",
    "    freeCount = N\n",
    " \n",
    "    # While there are free men\n",
    "    while (freeCount > 0):\n",
    "         \n",
    "        # Pick the first free man (we could pick any)\n",
    "        m = 0\n",
    "        while (m < N):\n",
    "            if (mFree[m] == False):\n",
    "                break\n",
    "            m += 1\n",
    " \n",
    "        # One by one go to all women according to\n",
    "        # m's preferences. Here m is the picked free man\n",
    "        i = 0\n",
    "        while i < N and mFree[m] == False:\n",
    "            w = prefer[m][i]\n",
    " \n",
    "            # The woman of preference is free,\n",
    "            # w and m become partners (Note that\n",
    "            # the partnership maybe changed later).\n",
    "            # So we can say they are engaged not married\n",
    "            if (wPartner[w - N] == -1):\n",
    "                wPartner[w - N] = m\n",
    "                mFree[m] = True\n",
    "                freeCount -= 1\n",
    " \n",
    "            else:\n",
    "                 \n",
    "                # If w is not free\n",
    "                # Find current engagement of w\n",
    "                m1 = wPartner[w - N]\n",
    " \n",
    "                # If w prefers m over her current engagement m1,\n",
    "                # then break the engagement between w and m1 and\n",
    "                # engage m with w.\n",
    "                if (wPrefersM1OverM(prefer, w, m, m1) == False):\n",
    "                    wPartner[w - N] = m\n",
    "                    mFree[m] = True\n",
    "                    mFree[m1] = False\n",
    "            i += 1\n",
    " \n",
    "            # End of Else\n",
    "        # End of the for loop that goes\n",
    "        # to all women in m's list\n",
    "    # End of main while loop\n",
    " \n",
    "    # Print solution\n",
    "    print(\"Woman \", \" Man\")\n",
    "    for i in range(N):\n",
    "        print(i + N, \"\\t\", wPartner[i])\n",
    " \n",
    "# Driver Code\n",
    "prefer = [[7, 5, 6, 4], [5, 4, 6, 7],\n",
    "          [4, 5, 6, 7], [4, 5, 6, 7],\n",
    "          [0, 1, 2, 3], [0, 1, 2, 3],\n",
    "          [0, 1, 2, 3], [0, 1, 2, 3]]\n",
    " \n",
    "stableMarriage(prefer)"
   ]
  },
  {
   "cell_type": "code",
   "execution_count": 8,
   "metadata": {},
   "outputs": [],
   "source": [
    "orden_clubes = np.array([[7, 5, 6, 4], [5, 4, 6, 7],\n",
    "          [4, 5, 6, 7], [4, 5, 6, 7]])\n",
    "orden_jugadores = np.array([[0, 1, 2, 3], [0, 1, 2, 3],\n",
    "          [0, 1, 2, 3], [0, 1, 2, 3]])"
   ]
  },
  {
   "cell_type": "code",
   "execution_count": 13,
   "metadata": {},
   "outputs": [
    {
     "data": {
      "text/plain": [
       "array([0, 1, 2, 3])"
      ]
     },
     "execution_count": 13,
     "metadata": {},
     "output_type": "execute_result"
    }
   ],
   "source": [
    "orden_jugadores[0, :]"
   ]
  },
  {
   "cell_type": "code",
   "execution_count": 20,
   "metadata": {},
   "outputs": [],
   "source": [
    "a = np.array([4, 3, 2, 1, 0])"
   ]
  },
  {
   "cell_type": "code",
   "execution_count": 36,
   "metadata": {},
   "outputs": [
    {
     "data": {
      "text/plain": [
       "4"
      ]
     },
     "execution_count": 36,
     "metadata": {},
     "output_type": "execute_result"
    }
   ],
   "source": []
  },
  {
   "cell_type": "code",
   "execution_count": 3,
   "metadata": {},
   "outputs": [
    {
     "data": {
      "text/plain": [
       "[0, 1, 2, 3, 4, 5, 6, 7, 8, 9]"
      ]
     },
     "execution_count": 3,
     "metadata": {},
     "output_type": "execute_result"
    }
   ],
   "source": [
    "def \n",
    "    orden_club_viejo = np.argwhere(a == orden_jugadores[jugador, :] == club_viejo)[0][0]\n",
    "    orden_club_nuevo = np.argwhere(a == orden_jugadores[jugador, :] == club_nuevo)[0][0]\n",
    "    if (orden_club_nuevo < orden_club_viejo):\n",
    "        as"
   ]
  },
  {
   "cell_type": "markdown",
   "metadata": {},
   "source": [
    "For simplicity, I’ll assume from now on that there are exactly the same\n",
    "number of doctors and hospitals; each hospital offers exactly one internship;\n",
    "each doctor ranks all hospitals and vice versa; and finally, there are no ties in\n",
    "the doctors’ or hospitals’ rankings."
   ]
  },
  {
   "cell_type": "markdown",
   "metadata": {},
   "source": [
    "Los algoritmos para problemas de optimización normalmente pasan por una secuencia de pasos,\n",
    "con un conjunto de opciones en cada paso. Para muchos problemas de optimización, el uso de dinámicas\n",
    "programar para determinar las mejores opciones es excesivo; al-\n",
    "los goritmos servirán. Un algoritmo codicioso siempre toma la decisión que mejor se ve\n",
    "el momento. Es decir, hace una elección óptima localmente con la esperanza de que esta elección\n",
    "conducirá a una solución óptima a nivel mundial. Este capítulo explora los problemas de optimización\n",
    "lemas para los que los algoritmos codiciosos proporcionan soluciones óptimas. Antes de leer esto\n",
    "capítulo, debería leer sobre programación dinámica en el Capítulo 15, particularmente\n",
    "Sección 15.3.\n",
    "Los algoritmos codiciosos no siempre producen soluciones óptimas, pero para muchos problemas\n",
    "ellas hacen"
   ]
  },
  {
   "cell_type": "markdown",
   "metadata": {},
   "source": [
    "¿Y si pudiéramos elegir una actividad para agregar a nuestra solución óptima sin tener\n",
    "resolver primero todos los subproblemas? Eso podría salvarnos de tener que considerar todo\n",
    "las opciones inherentes a la recurrencia (16.2). De hecho, para el problema de selección de actividades,\n",
    "necesitamos considerar solo una opción: la elección codiciosa.\n",
    "¿Qué entendemos por elección codiciosa para el problema de selección de actividad? Intu-\n",
    "ition sugiere que debemos elegir una actividad que deje el recurso disponible\n",
    "para tantas otras actividades como sea posible. Ahora, de las actividades que terminamos eligiendo\n",
    "ing, uno de ellos debe ser el primero en terminar. Nuestra intuición nos dice, por tanto,\n",
    "elegir la actividad en S con la hora de finalización más temprana, ya que eso dejaría el\n",
    "recurso disponible para tantas de las actividades que le siguen como sea posible. (Si mas\n",
    "que una actividad en S tiene la hora de finalización más temprana, entonces podemos elegir cualquiera\n",
    "actividad.) En otras palabras, dado que las actividades se ordenan en monotónicamente creciente\n",
    "orden por hora de finalización, la elección codiciosa es la actividad a1. Elegir la primera actividad\n",
    "terminar no es la única manera de pensar en hacer una elección codiciosa para este problema;\n",
    "El ejercicio 16.1-3 le pide que explore otras posibilidades.\n",
    "Si tomamos la decisión codiciosa, solo nos queda un subproblema por resolver:\n",
    "encontrar actividades que comiencen después de que termine un 1. ¿Por qué no tenemos que considerar una\n",
    "actividades que terminan antes de que comience a1? Tenemos que s1 <f1, y f1 es el primero\n",
    "tiempo de finalización de cualquier actividad y, por lo tanto, ninguna actividad puede tener un tiempo de finalización inferior a\n",
    "o igual a s1. Por lo tanto, todas las actividades que sean compatibles con la actividad a1 deben comenzar\n",
    "después de que a1 termine."
   ]
  },
  {
   "cell_type": "markdown",
   "metadata": {},
   "source": [
    "Un algoritmo codicioso obtiene una solución óptima a un problema haciendo una secuencia\n",
    "de opciones. En cada punto de decisión, el algoritmo toma la decisión que parece mejor en\n",
    "el momento. Esta estrategia heurística no siempre produce una solución óptima,\n",
    "pero como vimos en el problema de selección de actividades, a veces ocurre. Esta sección\n",
    "analiza algunas de las propiedades generales de los métodos codiciosos.\n",
    "El proceso que seguimos en la Sección 16.1 para desarrollar un algoritmo codicioso fue\n",
    "un poco más complicado de lo habitual. Pasamos por los siguientes pasos:\n",
    "1. Determine la subestructura óptima del problema.\n",
    "2. Desarrolle una solución recursiva. (Para el problema de selección de actividad, formulamos\n",
    "recurrencia (16.2), pero pasamos por alto el desarrollo de un algoritmo recursivo basado\n",
    "en esta recurrencia.)\n",
    "3. Demuestre que si tomamos la decisión codiciosa, sólo queda un subproblema.\n",
    "4. Demuestre que siempre es seguro tomar una decisión codiciosa. (Los pasos 3 y 4 pueden ocurrir\n",
    "en cualquier orden.)\n",
    "5. Desarrolle un algoritmo recursivo que implemente la estrategia codiciosa.\n",
    "6. Convierta el algoritmo recursivo en un algoritmo iterativo.\n",
    "Al seguir estos pasos, vimos con gran detalle la programación dinámica\n",
    "derpinnings de un algoritmo codicioso. Por ejemplo, en el problema de selección de actividades,\n",
    "Primero definimos los subproblemas Sij, donde tanto i como j variaban. Entonces encontramos\n",
    "que si siempre tomáramos la decisión codiciosa, podríamos restringir los subproblemas para que\n",
    "de la forma Sk.\n",
    "Alternativamente, podríamos haber diseñado nuestra subestructura óptima con un codicioso\n",
    "elección en mente, de modo que la elección deje solo un subproblema por resolver. En el\n",
    "problema de selección de actividad, podríamos haber comenzado eliminando el segundo subíndice\n",
    "y definir subproblemas de la forma Sk. Entonces, podríamos haber demostrado que un codicioso\n",
    "elección (la primera actividad que debo terminar en Sk), combinada con una solución óptima para\n",
    "el conjunto restante Sm de actividades compatibles, produce una solución óptima para Sk.\n",
    "De manera más general, diseñamos algoritmos codiciosos de acuerdo con la siguiente secuencia\n",
    "de pasos:\n",
    "\n",
    "1. Considere el problema de optimización como uno en el que tomamos una decisión y nos quedamos\n",
    "con un subproblema que resolver.\n",
    "2. Demuestre que siempre hay una solución óptima al problema original que hace\n",
    "la elección codiciosa, de modo que la elección codiciosa sea siempre segura.\n",
    "3. Demuestre la subestructura óptima mostrando que, habiendo hecho que los codiciosos\n",
    "elección, lo que queda es un subproblema con la propiedad de que si combinamos un\n",
    "solución óptima al subproblema con la elección codiciosa que hemos hecho,\n",
    "llegar a una solución óptima al problema original.\n",
    "Usaremos este proceso más directo en secciones posteriores de este capítulo. Sin embargo-\n",
    "menos, debajo de cada algoritmo codicioso, casi siempre hay un más engorroso\n",
    "solución de programación dinámica.\n",
    "¿Cómo podemos saber si un algoritmo codicioso resolverá una optimización en particular?\n",
    "¿problema? De ninguna manera funciona todo el tiempo, pero la propiedad de elección codiciosa y óptima\n",
    "La subestructura son los dos ingredientes clave. Si podemos demostrar que el problema\n",
    "tiene estas propiedades, entonces estamos en camino de desarrollar un algoritmo codicioso\n",
    "para ello."
   ]
  },
  {
   "cell_type": "markdown",
   "metadata": {},
   "source": [
    "### Greedy choice property"
   ]
  },
  {
   "cell_type": "markdown",
   "metadata": {},
   "source": [
    "El primer ingrediente clave es la propiedad de elección codiciosa: podemos ensamblar una\n",
    "solución óptima tomando decisiones localmente óptimas (codiciosas). En otras palabras, cuando\n",
    "estamos considerando qué elección tomar, tomamos la decisión que se ve mejor en\n",
    "el problema actual, sin considerar los resultados de los subproblemas.\n",
    "Aquí es donde los algoritmos codiciosos se diferencian de la programación dinámica. En dinámica\n",
    "programación, hacemos una elección en cada paso, pero la elección generalmente depende de la\n",
    "soluciones a subproblemas. En consecuencia, normalmente resolvemos la programación dinámica\n",
    "problemas de abajo hacia arriba, progresando de subproblemas más pequeños a más grandes\n",
    "subproblemas. (Alternativamente, podemos resolverlos de arriba hacia abajo, pero memorizando.\n",
    "Por supuesto, aunque el código funciona de arriba hacia abajo, todavía debemos resolver el subproblema\n",
    "lemas antes de tomar una decisión.) En un algoritmo codicioso, hacemos cualquier elección\n",
    "parece mejor en este momento y luego resolver el subproblema que queda. La elección\n",
    "hecho por un algoritmo codicioso puede depender de las elecciones hasta ahora, pero no puede depender de\n",
    "las opciones futuras o las soluciones a los subproblemas. Por tanto, a diferencia del pro-\n",
    "gramática, que resuelve los subproblemas antes de hacer la primera elección, un codicioso\n",
    "El algoritmo hace su primera elección antes de resolver cualquier subproblema. Una dinámica\n",
    "El algoritmo de programación procede de abajo hacia arriba, mientras que una estrategia codiciosa generalmente\n",
    "progresa de arriba hacia abajo, haciendo una elección codiciosa tras otra, reduciendo\n",
    "trasladar cada instancia de problema dada a una más pequeña.\n",
    "Por supuesto, debemos demostrar que una elección codiciosa en cada paso produce una\n",
    "solucion optima. Normalmente, como en el caso del teorema 16.1, la demostración examina\n",
    "una solución globalmente óptima para algún subproblema. Luego muestra cómo modificar\n",
    "la solución para sustituir la elección codiciosa por otra opción, lo que resulta en una\n",
    "subproblema similar, pero menor.\n",
    "Por lo general, podemos tomar la decisión codiciosa de manera más eficiente que cuando tenemos que hacerlo.\n",
    "considere un conjunto más amplio de opciones. Por ejemplo, en el problema de selección de actividades, suponiendo que ya habíamos ordenado las actividades en un orden monótonamente creciente\n",
    "de los tiempos de finalización, necesitábamos examinar cada actividad una sola vez. Al preprocesar el\n",
    "de entrada o mediante el uso de una estructura de datos adecuada (a menudo una cola de prioridad), a menudo\n",
    "puede tomar decisiones codiciosas rápidamente, produciendo así un algoritmo eficiente."
   ]
  },
  {
   "cell_type": "markdown",
   "metadata": {},
   "source": [
    "### subestructura óptima"
   ]
  },
  {
   "cell_type": "markdown",
   "metadata": {},
   "source": [
    "Un problema exhibe una subestructura óptima si una solución óptima al problema\n",
    "contiene en su interior soluciones óptimas a subproblemas. Esta propiedad es clave en\n",
    "grediente de evaluar la aplicabilidad de la programación dinámica, así como codiciosos\n",
    "algoritmos. Como ejemplo de subestructura óptima, recuerde cómo demostramos en\n",
    "Sección 16.1 que si una solución óptima al subproblema Sij incluye una actividad ak,\n",
    "entonces también debe contener soluciones óptimas a los subproblemas Si k y Skj. Dado\n",
    "esta subestructura óptima, argumentamos que si supiéramos qué actividad usar como ak,\n",
    "podría construir una solución óptima para Sij seleccionando ak junto con todas las actividades\n",
    "en soluciones óptimas a los subproblemas Si k y Skj. Basado en esta observación de\n",
    "subestructura óptima, pudimos idear la recurrencia (16.2) que describió\n",
    "el valor de una solución óptima.\n",
    "Usualmente usamos un enfoque más directo con respecto a la subestructura óptima cuando\n",
    "aplicándolo a algoritmos codiciosos. Como se mencionó anteriormente, tenemos el lujo de\n",
    "asumiendo que llegamos a un subproblema al haber tomado la codiciosa elección en\n",
    "el problema original. Todo lo que realmente necesitamos hacer es argumentar que una solución óptima para\n",
    "el subproblema, combinado con la elección codiciosa ya hecha, produce un óptimo\n",
    "solución al problema original. Este esquema utiliza implícitamente la inducción en el\n",
    "subproblemas para demostrar que tomar la decisión codiciosa en cada paso produce una\n",
    "solucion optima"
   ]
  },
  {
   "cell_type": "markdown",
   "metadata": {},
   "source": [
    "### greedy vs Programación Dinámica"
   ]
  },
  {
   "cell_type": "markdown",
   "metadata": {},
   "source": [
    "Debido a que tanto la estrategia codiciosa como la de programación dinámica explotan sub-\n",
    "estructura, puede tener la tentación de generar una solución de programación dinámica para una\n",
    "problema cuando una solución codiciosa es suficiente o, por el contrario, podría pensar erróneamente\n",
    "que una solución codiciosa funciona cuando en realidad una solución de programación dinámica se\n",
    "quired. Para ilustrar las sutilezas entre las dos técnicas, investiguemos\n",
    "dos variantes de un problema de optimización clásico.\n",
    "El problema de la mochila 0-1 es el siguiente. Un ladrón robando una tienda encuentra n\n",
    "elementos. El i-ésimo artículo vale i dólares y pesa wi libras, donde i y wi son\n",
    "enteros. El ladrón quiere llevar una carga lo más valiosa posible, pero puede llevarla a\n",
    "la mayor parte de W libras en su mochila, para algunos W enteros. ¿Qué artículos debería llevarse?\n",
    "(A esto lo llamamos el problema de la mochila 0-1 porque para cada artículo, el ladrón debe"
   ]
  },
  {
   "cell_type": "markdown",
   "metadata": {},
   "source": [
    "tómalo o déjalo atrás; no puede tomar una cantidad fraccionaria de un artículo o tomar una\n",
    "artículo más de una vez.)\n",
    "En el problema de la mochila fraccionada, la configuración es la misma, pero el ladrón puede tomar\n",
    "fracciones de elementos, en lugar de tener que hacer una elección binaria (0-1) para cada elemento.\n",
    "Puedes pensar en un artículo en el problema de la mochila 0-1 como si fuera un lingote de oro.\n",
    "y un artículo en el problema de la mochila fraccionada como más bien polvo de oro.\n",
    "Ambos problemas de mochila exhiben la propiedad de subestructura óptima. Por el 0-1\n",
    "problema, considere la carga más valiosa que pesa como máximo W libras. Si nosotros\n",
    "quitar el artículo j de esta carga, la carga restante debe ser la carga más valiosa\n",
    "con un peso máximo de W w j que el ladrón puede tomar de los n 1 artículos originales\n",
    "excluyendo j. Para el problema fraccional comparable, considere que si eliminamos\n",
    "un peso w de un artículo j de la carga óptima, la carga restante debe ser la\n",
    "carga más valiosa con un peso máximo de W w que el ladrón puede tomar del n 1\n",
    "artículos originales más w j w libras del artículo j.\n",
    "Aunque los problemas son similares, podemos resolver el problema de la mochila fraccionada\n",
    "con una estrategia codiciosa, pero no podemos resolver el problema de 0-1 con esa estrategia. Para\n",
    "resolver el problema fraccional, primero calculamos el valor por libra i = wi para cada\n",
    "artículo. Obedeciendo una estrategia codiciosa, el ladrón comienza tomando la mayor cantidad posible de\n",
    "el artículo con el mayor valor por libra. Si se agota el suministro de ese artículo\n",
    "y todavía puede llevar más, toma la mayor cantidad posible del artículo con el siguiente\n",
    "mayor valor por libra, y así sucesivamente, hasta que alcance su límite de peso W. Por lo tanto,\n",
    "al ordenar los artículos por valor por libra, el algoritmo codicioso se ejecuta en O.n lg n /\n",
    "tiempo. Dejamos la prueba de que el problema de la mochila fraccionada tiene la codicia\n",
    "propiedad de elección como el ejercicio 16.2-1.\n",
    "Para ver que esta estrategia codiciosa no funciona para el problema de la mochila 0-1,\n",
    "considere el caso de problema ilustrado en la figura 16.2 (a). Este ejemplo tiene 3\n",
    "artículos y una mochila que puede contener 50 libras. El artículo 1 pesa 10 libras y\n",
    "vale 60 dolares. El artículo 2 pesa 20 libras y vale 100 dólares. Ítem ​​3\n",
    "pesa 30 libras y vale 120 dólares. Por lo tanto, el valor por libra del artículo 1 es\n",
    "6 dólares por libra, que es mayor que el valor por libra de cualquier artículo 2 (5\n",
    "dólares por libra) o el artículo 3 (4 dólares por libra). La estrategia codiciosa, por lo tanto,\n",
    "tomaría el artículo 1 primero. Como puede ver en el análisis de caso de la figura 16.2 (b),\n",
    "sin embargo, la solución óptima toma los elementos 2 y 3, dejando atrás el elemento 1. Los dos\n",
    "las posibles soluciones que toman el elemento 1 son ambas subóptimas.\n",
    "Para el problema fraccionario comparable, sin embargo, la estrategia codiciosa, que\n",
    "toma el elemento 1 primero, produce una solución óptima, como se muestra en la figura 16.2 (c). Tak-\n",
    "El ítem 1 no funciona en el problema 0-1 porque el ladrón no puede llenar su\n",
    "mochila a capacidad, y el espacio vacío reduce el valor efectivo por libra de\n",
    "su carga. En el problema 0-1, cuando consideramos si incluir un elemento en el\n",
    "mochila, debemos comparar la solución con el subproblema que incluye el artículo\n",
    "con la solución al subproblema que excluye el artículo antes de que podamos hacer el\n",
    "elección. El problema formulado de esta manera da lugar a muchos sub-\n",
    "problemas, un sello distintivo de la programación dinámica y, de hecho, como el ejercicio 16.2-2\n",
    "le pide que muestre, podemos usar programación dinámica para resolver el problema 0-1."
   ]
  },
  {
   "cell_type": "markdown",
   "metadata": {},
   "source": []
  },
  {
   "cell_type": "markdown",
   "metadata": {},
   "source": [
    "-------------"
   ]
  },
  {
   "cell_type": "markdown",
   "metadata": {},
   "source": []
  },
  {
   "cell_type": "markdown",
   "metadata": {},
   "source": []
  },
  {
   "cell_type": "markdown",
   "metadata": {},
   "source": [
    "--------------"
   ]
  },
  {
   "cell_type": "markdown",
   "metadata": {},
   "source": [
    "## 4.3 "
   ]
  },
  {
   "cell_type": "markdown",
   "metadata": {},
   "source": []
  },
  {
   "cell_type": "code",
   "execution_count": 5,
   "metadata": {},
   "outputs": [],
   "source": [
    "def torre_de_hanoi(n, fuente, destino, temporal):\n",
    "    if n > 0\n",
    "        torre_de_hanoi(n − 1, fuente, temporal, destino)\n",
    "        muevo_disco(n, fuente, destino)\n",
    "        torre_de_hanoi(n − 1, temporal, destino, fuente)\n",
    "    return"
   ]
  },
  {
   "cell_type": "markdown",
   "metadata": {},
   "source": []
  },
  {
   "cell_type": "markdown",
   "metadata": {},
   "source": [
    "$$ T(n) = 2 T(n-1) + 1 $$"
   ]
  },
  {
   "cell_type": "markdown",
   "metadata": {},
   "source": [
    "-------"
   ]
  },
  {
   "cell_type": "markdown",
   "metadata": {},
   "source": [
    "## 4.4 "
   ]
  },
  {
   "cell_type": "markdown",
   "metadata": {},
   "source": []
  },
  {
   "cell_type": "markdown",
   "metadata": {},
   "source": []
  },
  {
   "cell_type": "markdown",
   "metadata": {},
   "source": []
  },
  {
   "cell_type": "markdown",
   "metadata": {},
   "source": [
    "-------------------"
   ]
  },
  {
   "cell_type": "markdown",
   "metadata": {},
   "source": [
    "## 4.6 "
   ]
  },
  {
   "cell_type": "markdown",
   "metadata": {},
   "source": []
  },
  {
   "cell_type": "code",
   "execution_count": 21,
   "metadata": {},
   "outputs": [],
   "source": []
  },
  {
   "cell_type": "markdown",
   "metadata": {},
   "source": []
  },
  {
   "cell_type": "markdown",
   "metadata": {},
   "source": [
    "----------------"
   ]
  },
  {
   "cell_type": "markdown",
   "metadata": {},
   "source": [
    "## 4.7 Conclusión"
   ]
  },
  {
   "cell_type": "markdown",
   "metadata": {},
   "source": [
    "* \n",
    "* Leer del Cormen ; Chapter 16: Greedy Algorithms: p(414-436)"
   ]
  },
  {
   "cell_type": "markdown",
   "metadata": {},
   "source": [
    "--------------------"
   ]
  },
  {
   "cell_type": "markdown",
   "metadata": {},
   "source": [
    "### Contenidos a explicar durante la práctica"
   ]
  },
  {
   "cell_type": "markdown",
   "metadata": {},
   "source": [
    "1. "
   ]
  }
 ],
 "metadata": {
  "kernelspec": {
   "display_name": "Python 3 (ipykernel)",
   "language": "python",
   "name": "python3"
  },
  "language_info": {
   "codemirror_mode": {
    "name": "ipython",
    "version": 3
   },
   "file_extension": ".py",
   "mimetype": "text/x-python",
   "name": "python",
   "nbconvert_exporter": "python",
   "pygments_lexer": "ipython3",
   "version": "3.8.11"
  }
 },
 "nbformat": 4,
 "nbformat_minor": 4
}
