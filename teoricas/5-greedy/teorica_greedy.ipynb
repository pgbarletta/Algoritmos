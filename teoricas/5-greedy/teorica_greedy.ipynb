{
 "cells": [
  {
   "cell_type": "code",
   "execution_count": 1,
   "metadata": {},
   "outputs": [],
   "source": [
    "import numpy as np\n",
    "import sys\n",
    "import math\n",
    "import itertools\n",
    "import matplotlib.pyplot as plt  \n",
    "from time import time "
   ]
  },
  {
   "cell_type": "markdown",
   "metadata": {},
   "source": [
    "# Algoritmos avaros"
   ]
  },
  {
   "cell_type": "markdown",
   "metadata": {},
   "source": [
    "## 5.1 Introducción"
   ]
  },
  {
   "cell_type": "markdown",
   "metadata": {},
   "source": [
    "En esta unidad nos dedicaremos casi enteramente a resolver problemas de optimización utilizando, como venimos haciendo, algoritmos y no heurísticas. Hacemos énfasis en este punto ya que la estrategia que veremos será reutilizada más adelante para diseñar heurísticas. Pero en lo que respecta a esta unidad, no nos alcanza con encontrar la solución que nos de un costo bajo ---o _score_ alto---, sino que buscamos la solución óptima, la que nos da el costo más bajo posible, o el _score_ más alto."
   ]
  },
  {
   "cell_type": "markdown",
   "metadata": {},
   "source": [
    "Los algoritmos _greedy_, o golosos, o avaros, pueden ser entendidos como un subtipo de los algoritmos de PD.\n",
    "Resuelven problemas que pueden ser resueltos por algoritmos de PD, pero siguiendo una estrategia más directa lo que resulta en un algoritmo con una menor complejidad.\n",
    "Los problemas que pueden ser resueltos por algoritmos golosos, como los que se resuelven por PD, tienen subestructura óptima. Pero a diferencia de PD, cada subproblema depende de la solución de un solo subproblema más pequeño. Esta crucial diferencia elimina la multiplicidad de caminos posibles, aplanando los árboles de recursión de PD y conviertiéndolos en un proceso lineal en el que se decide el camino óptimo de recursión a cada paso; a diferencia de PD que debe explorar distintas posibilidades para luego decidir el camino óptimo."
   ]
  },
  {
   "cell_type": "markdown",
   "metadata": {},
   "source": [
    "<img src=\"arbol_pd_greedy.png\" alt=\"mm\" style=\"width: 1000px;\"/>"
   ]
  },
  {
   "cell_type": "markdown",
   "metadata": {},
   "source": [
    "Árboles de subproblemas de un algoritmo de PD y uno _greedy_ para un problema hipótetico que tiene subestructura óptima y además puede ser resuelto por método _greedy_. \n",
    "Tal subproblema hipotético podría ser resuelto por PD, pero si se opera de la forma correcta, puede ser resuelto en forma directa, linealizando subproblemas y eliminando la superposición de los mismos.\n",
    "En _greedy_ el camino óptimo para resolver un subproblema es evidente, esto lleva a un camino directo que lleva el problema inicial hasta el caso base."
   ]
  },
  {
   "cell_type": "markdown",
   "metadata": {},
   "source": [
    "<img src=\"ejer3.png\" alt=\"mm\" style=\"width: 600px;\"/>"
   ]
  },
  {
   "cell_type": "markdown",
   "metadata": {},
   "source": [
    "El ejercicio 3 de la guía de PD puede ayudar con la diferenciación. A la izquierda está la matriz de costos de la que debiamos partir desde `[0,0]` y llegar hasta `[n,m]` y a la derecha, la estructura de datos final que nuestro algoritmo de PD llenó con los costos de las soluciones óptimas a los subproblemas.\n",
    "Luego de terminar nuestro algoritmo que hallaba estos costos, debíamos hallar la solución óptima en sí. Esto lo podíamos hacer tomando la estructura de datos donde memoizamos y haciendo unn _traceback_ desde la celda `[n,m]` hasta la celda `[0,0]` (por cierto, este procedimiento es muy similar al _traceback_ de Needleman-Wunsch).\n",
    "\n",
    "Este algoritmo final de _traceback_ es un algoritmo greedy. Parte desde la celda `[n,m]`, que tiene un valor de `18`, se fija cuál es la celda contigua con menor costo y avanza hacia ella, sin plantearse un camino alternativo y aún así, halla la respuesta correcta. Esto es común a todos los algoritmos _greedy_. Éstos hacen la elección óptima local, toman la decisión que parece más conveniente en el momento y aún así llegan a la respuesta óptima a nivel global.\n",
    "\n",
    "Ésto, claro, se debe a que PD ya hizo su trabajo y en vez de lidiar con una matriz de costos de cada celda, el algoritmo _greedy_ está lidiando con los costos **para llegar** a cada celda.\n",
    "\n",
    "Si utilizaramos el algoritmo _greedy_ para la primer parte del problema, no tendríamos garantizada la respuesta correcta. En cambio, podríamos usar un algoritmo de PD para reemplazar al _greedy_ en la segunda parte del problema y si bien obtendríamos la respuesta correcta, sería con un exceso de cálculo; con un algoritmo _greedy_ hubiera bastado.\n",
    "\n",
    "Pero es importante notar que las aproximaciones lidian con problemas que un análisis superficial tacharía de similares, pero que ahora los sabemos fundamentalmente distintos."
   ]
  },
  {
   "cell_type": "markdown",
   "metadata": {},
   "source": [
    "-------"
   ]
  },
  {
   "cell_type": "markdown",
   "metadata": {},
   "source": [
    "## 5.2 _Stable Matching_"
   ]
  },
  {
   "cell_type": "markdown",
   "metadata": {},
   "source": [
    "El ejemplo que veremos será el de un problema de decisión y no de optimización. \n",
    "\n",
    "En una realidad alternativa, las incorporaciones de los jugadores a los clubes se maneja de la siguiente manera:\n",
    "\\\n",
    "hay `n` clubes ofreciendo una vacante para incorporador un jugador, de `m` disponibles. Cada club tiene un orden de preferencia de jugadores y a su vez, cada jugador tiene un orden de preferencia de clubes para jugar. Si se dan las siguientes condiciones:\n",
    " \n",
    " * Mismo número de clubes y jugadores (`n == m`).\n",
    " * Cada club ofrece 1 vacante.\n",
    " * Los órdenes de preferencia son completos, es decir, cada jugador ranquea a todos los clubes y lo mismo hace cada club con los jugadores.\n",
    " * No hay empates entre los rankings de clubes y jugadores\n",
    " \n",
    "entonces existe un conjunto de apareamientos completo que no sea inestable.\n",
    "\n",
    "**Apareamiento inestable**: ocurre cuando hay un par club-jugador que preferirían estar en la misma pareja entre sí, por sobre su pareja actual. Es decir, una vez hecho el apareamiento de todos los clubes con todos los jugadores, no debería ser posible hallar 2 pares club-jugador en donde uno de los jugadores prefiera jugar en el otro club y este otro club también prefiera a ese jugador, por sobre el que se le dió.\n",
    "\n",
    "Nótese que este no es un problema de optimización. No buscamos maximizar la satisfacción de los clubes, ni de los jugadores, ni de ambos grupos en conjunto. Buscamos un apareamiento que sea estable, según la definición anterior. Además el apareamiento debe ser completo, no debe quedar jugador sin club, ni club sin jugador."
   ]
  },
  {
   "cell_type": "markdown",
   "metadata": {},
   "source": [
    "Siempre ayuda tener un ejemplo reducido. Las letras en mayúsculas son los clubes y las minúsculas, los jugadores. Las 2 tablas presentan sus órdenes de preferencia."
   ]
  },
  {
   "cell_type": "markdown",
   "metadata": {},
   "source": [
    "<img src=\"stable_matching_1.png\" alt=\"mm\" style=\"width: 300px;\"/>"
   ]
  },
  {
   "cell_type": "markdown",
   "metadata": {},
   "source": [
    "------------"
   ]
  },
  {
   "cell_type": "markdown",
   "metadata": {},
   "source": [
    "## 5.3 Posible solución al _Stable Matching_"
   ]
  },
  {
   "cell_type": "markdown",
   "metadata": {},
   "source": [
    "Anteriormente dijimos que un algoritmo _greedy_ toma la decisión más óptima posible a medida que se le presentan las instancias de decisión. Si bien aquí no hay solución óptima, por que no hay nada optimizar, porque éste no es un problema de optimización, si hay que tomar decisiones. \n",
    "\n",
    "Así que eso haremos, a la hora de aparear `n` clubes y `m` jugadores, no nos plantearemos las $nm$ posibles parejas, sino que le daremos a cada club que se nos presente un jugador y pasaremos al próximo club y jugador (subproblema). También se podría hacer desde la perspectiva de los jugadores, pero si logramos un algoritmo correcto (que no genere parejas inestables en ningún caso), esa inversión de perspectiva no será relevante."
   ]
  },
  {
   "cell_type": "markdown",
   "metadata": {},
   "source": [
    "Comenzaremos iterando a lo largo de los clubes y dándole a cada club, el jugador de su preferencia, mientras éste esté disponible. Obtenemos el siguiente apareamiento:\n",
    "\n",
    "$$\n",
    "\\{A ; r\\} \\newline\n",
    "\\{B ; s\\} \\newline\n",
    "\\{C ; q\\} \\newline\n",
    "$$\n",
    "\n",
    "Y así no hay apareamientos inestables, ya que cada club se quedó con su jugador preferido. Veamos que ocurre si invertimos la perspectiva\n",
    "\n",
    "$$\n",
    "\\{q ; A\\} \\newline\n",
    "\\{r ; C\\} \\newline\n",
    "\\{s ; B\\} \\newline\n",
    "$$\n",
    "\n",
    "Tampoco es inestable."
   ]
  },
  {
   "cell_type": "markdown",
   "metadata": {},
   "source": [
    "Veamos un nuevo ejemplo:"
   ]
  },
  {
   "cell_type": "markdown",
   "metadata": {},
   "source": [
    "<img src=\"stable_matching_2.png\" alt=\"mm\" style=\"width: 300px;\"/>"
   ]
  },
  {
   "cell_type": "markdown",
   "metadata": {},
   "source": [
    "Apareamos desde la perspectiva de los clubes:\n",
    "\n",
    "$$\n",
    "\\{A ; q\\} \\newline\n",
    "\\{B ; r\\} \\newline\n",
    "\\{C ; s\\} \\newline\n",
    "$$\n",
    "\n",
    "Y aquí se rompe nuestra solución. $B$ hubiera preferido a $q$, que a su vez lo hubiera preferido antes que quedarse con $A$, el último club de su lista. Este apareamiento es inestable.\n"
   ]
  },
  {
   "cell_type": "markdown",
   "metadata": {},
   "source": [
    "------------"
   ]
  },
  {
   "cell_type": "markdown",
   "metadata": {},
   "source": [
    "## 5.4 Algoritmo de Boston Pool y Gale-Shapley"
   ]
  },
  {
   "cell_type": "markdown",
   "metadata": {},
   "source": [
    "Nuestro problema es que no fuimos suficientemente _greedy_. Tomamos la decisión avara para los clubes, pero no para los jugadores.\n",
    "\n",
    "Un error común es suponer que porque un algoritmo es avaro y resuelve un subproblema de inmediato, no debe ser capaz de corregir esa decisión en un paso posterior.\n",
    "\n",
    "El algoritmo avaro correcto itera los clubes como el anterior, pero si el jugador preferido ya tiene club, no pasa al siguiente jugador, sino que le pregunta al jugador si no preferiría descartar a su club anterior y formar una nueva pareja, ya que hay un club que lo prefiere a él. Y éste segundo paso es la clave para que no se formen parejas inestables.\\\n",
    "Naturalmente, esto deja a clubes rechazados sin jugadores, el algoritmo debe volver a iterar por los clubes restantes hasta que no haya club sin jugador y esto garantiza que no haya club ni jugador sin aparear.\n",
    "\n",
    "Entonces, el procedimiento sería:\n",
    "\n",
    " * Un club $A$ se le ofrece al jugador $\\alpha$ de su máxima preferencia, que no lo haya rechazado aún.\n",
    " * Ahora se pueden dar 3 casos:\n",
    "\n",
    "```\n",
    "1. El jugador α no tiene club y acepta tentativamente la oferta.\n",
    "2. El jugador α tiene club, pero prefiere a A. Acepta tentativamente la oferta.\n",
    "3. El jugador α tiene club, y lo prefiere a A. Rechaza la oferta de forma definitoria.\n",
    "```\n",
    "\n",
    "Es decir, los clubes ofertan de forma avara y los jugadores aceptan de forma avara. Y de nuevo, si invertimos los roles, nada va a cambiar. "
   ]
  },
  {
   "cell_type": "markdown",
   "metadata": {},
   "source": [
    "Si aplicamos este nuevo algoritmo al ejemplo anterior, obtenemos el apareamiento:\n",
    "\n",
    "Primera pasada:\n",
    "\n",
    "$$\n",
    "\\{A ; \\} \\newline\n",
    "\\{B ; q\\} \\newline\n",
    "\\{C ; s\\} \\newline\n",
    "$$\n",
    "\n",
    "Segunda pasada:\n",
    "$$\n",
    "\\{A ; s\\} \\newline\n",
    "\\{B ; q\\} \\newline\n",
    "\\{C ; \\} \\newline\n",
    "$$\n",
    "\n",
    "Tercera pasada:\n",
    "$$\n",
    "\\{A ; s\\} \\newline\n",
    "\\{B ; q\\} \\newline\n",
    "\\{C ; r\\} \\newline\n",
    "$$"
   ]
  },
  {
   "cell_type": "markdown",
   "metadata": {},
   "source": [
    "Pueden ustedes practicar con este nuevo ejemplo:"
   ]
  },
  {
   "cell_type": "markdown",
   "metadata": {},
   "source": [
    "<img src=\"stable_matching_3.png\" alt=\"mm\" style=\"width: 300px;\"/>"
   ]
  },
  {
   "cell_type": "markdown",
   "metadata": {},
   "source": [
    "------------"
   ]
  },
  {
   "cell_type": "markdown",
   "metadata": {},
   "source": [
    "## 5.5 Corrección y complejidad del algoritmo de Boston Pool y Gale-Shapley"
   ]
  },
  {
   "cell_type": "markdown",
   "metadata": {},
   "source": [
    "Es fundamental en los algoritmos avaros comprobar que nuestra solución llegue a una solución correcta, ya que no todo problema puede ser resuelto óptima o correctamente, por un algoritmo _greedy_ e incluso aquellos que si lo son, deben ser resueltos con la estrategia correcta. Ya vimos que la estrategia errónea puede llevar a una solución incorrecta, o en el caso de los problemas de optimización, una solución no óptima."
   ]
  },
  {
   "cell_type": "markdown",
   "metadata": {},
   "source": [
    "Comprobaremos las 2 propiedades que nuestra solución debe tener.\n",
    "\n",
    "* Bajo este algoritmo, cada club hace $1 \\leq ofertas \\leq m$ ofertas y se termina con un apareamiento completo. Si no lo fuera, entonces habría un club que fue rechazado por todos los jugadores y para que eso ocurra, entonces los `m` jugadores deberían tener club, pero como `m==n`, entonces los `n` clubes también tendrían su jugador y por lo tanto no podría haber un club sin jugador (contradicción, absurdo).\n",
    "* El apareamiento es estable. Dados un club y un jugador `{u, v}` que no fueron apareados, estos no preferirían estar juntos ya que si no están apareados se dió alguno de estos 2 casos:\n",
    "\n",
    "```\n",
    "1. el club u nunca ofertó al jugador v, en tal caso, el club tiene un jugador w al que prefiere por encima de v.\n",
    "2. el club u hizo una oferta al jugador v, pero éste prefirió a un club x\n",
    "```\n",
    "Entonces no hay apareamiento inestable."
   ]
  },
  {
   "cell_type": "markdown",
   "metadata": {},
   "source": [
    "Y en la primera comprobación vimos un indicio de la complejidad de nuestro algoritmo. Si `m == n` y cada club oferta como máximo a todos los jugadores, y a cada paso hacemos una oferta, entonces el número de ofertas y, por lo tanto, la complejidad de nuestro algoritmo estarán acotados por $O(n)$"
   ]
  },
  {
   "cell_type": "markdown",
   "metadata": {},
   "source": [
    "------------"
   ]
  },
  {
   "cell_type": "markdown",
   "metadata": {},
   "source": [
    "## 5.6 Implementación del algoritmo de Boston Pool y Gale-Shapley"
   ]
  },
  {
   "cell_type": "code",
   "execution_count": 93,
   "metadata": {},
   "outputs": [],
   "source": [
    "def estable(orden_clubes, orden_jugadores):\n",
    "    n = len(orden_jugadores)\n",
    "    apareamiento = {\"q\": None, \"r\": None, \"s\": None, \"t\": None}\n",
    "    ocupacion_clubes = {\"A\": False, \"B\": False, \"C\": False, \"D\": False}\n",
    "    \n",
    "    while(True):\n",
    "        nro_clubes_ocupados = sum([ value for key,value in ocupacion_clubes.items() ])\n",
    "        if nro_clubes_ocupados == n:\n",
    "            break\n",
    "        for club,preferencias in orden_clubes.items():\n",
    "            if ocupacion_clubes[club] == False:\n",
    "                for jugador in preferencias:\n",
    "                    club_viejo = apareamiento[jugador]\n",
    "\n",
    "                    if club_viejo == None:\n",
    "                        apareamiento[jugador] = club\n",
    "                        ocupacion_clubes[club] = True\n",
    "                        break\n",
    "                    else:\n",
    "                        if (orden_jugadores[jugador][club] < orden_jugadores[jugador][club_viejo]):\n",
    "                            apareamiento[jugador] = club\n",
    "                            ocupacion_clubes[club] = True\n",
    "                            ocupacion_clubes[club_viejo] = False\n",
    "                            break\n",
    "    return apareamiento"
   ]
  },
  {
   "cell_type": "code",
   "execution_count": 95,
   "metadata": {},
   "outputs": [
    {
     "data": {
      "text/plain": [
       "{'q': 'B', 'r': 'D', 's': 'A', 't': 'C'}"
      ]
     },
     "execution_count": 95,
     "metadata": {},
     "output_type": "execute_result"
    }
   ],
   "source": [
    "orden_jugadores = {\"q\": {\"A\": 0, \"B\": 1, \"C\": 2, \"D\": 3},\n",
    "\"r\": {\"A\": 0, \"B\": 3, \"C\": 2, \"D\": 1},\n",
    "\"s\": {\"A\": 1, \"B\": 0, \"C\": 2, \"D\": 3},\n",
    "\"t\": {\"A\": 3, \"B\": 2, \"C\": 1, \"D\": 0}}\n",
    "\n",
    "orden_clubes = {\"A\": ['t', 's', 'r', 'q'],\n",
    "                \"B\": ['r', 't', 'q', 's'],\n",
    "                \"C\": ['t', 'r', 's', 'q'],\n",
    "                \"D\": ['s', 'r', 'q', 't']}\n",
    "\n",
    "estable(orden_clubes, orden_jugadores)"
   ]
  },
  {
   "cell_type": "markdown",
   "metadata": {},
   "source": [
    "------------"
   ]
  },
  {
   "cell_type": "markdown",
   "metadata": {},
   "source": [
    "## 5.7 Características de un problema que puede ser resuelto por un algoritmo _greedy_"
   ]
  },
  {
   "cell_type": "markdown",
   "metadata": {},
   "source": [
    "Como ya se dijo, un algoritmo _greedy_ la solución óptima a un problema tomando decisiones en serie.\n",
    "A cada instancia de decisión, el algoritmo toma la decisión que parece mejor en el momento.\n",
    "Para que esta estrategia lleve a una respuesta óptima, el problema a resolver debe tener 2 características:\n",
    "1. Propiedad _greedy_\n",
    "2. Subestructura óptima"
   ]
  },
  {
   "cell_type": "markdown",
   "metadata": {},
   "source": [
    "### Propiedad _greedy_"
   ]
  },
  {
   "cell_type": "markdown",
   "metadata": {},
   "source": [
    "Para poder resolver mediante un algoritmo avaro, debemos podemos ensamblar una solución óptima tomando decisiones localmente óptimas (avaras).\n",
    "En otras palabras, cuando estamos considerando qué elección tomar, tomamos la decisión que se ve mejor en el problema actual, sin considerar los resultados de los subproblemas subsiguientes.\n",
    "\n",
    "Aquí es donde los algoritmos avaros se diferencian de los de PD.\n",
    "En PD, la elección depende de las soluciones a los subproblemas más pequeños, hasta el caso base (digamos, `n == 0`).\n",
    "En consecuencia, resolvemos en primer lugar a los subproblemas más pequeños y en base a esas soluciones,\n",
    "decidimos como resolver los subproblemas más grandes hasta llegar al problema original (llamémosle, `n == n`).\n",
    "Independientemente de que el algoritmo sea _bottom-up_ o _top-down_.\n",
    "\n",
    "En un algoritmo avaro, hacemos la elección que parece la mejor en ese momento y luego resolvemos el subproblema que queda. No hay subproblemas alternativos porque ya tomamos una decisión.\n",
    "La elección hecha por un algoritmo avaro puede depender de elecciones anteriores, pero no puede depender de las opciones futuras, de las soluciones a los subproblemas futuros. \n",
    "Por eso los algoritmos _greedy_ suelen seguir una estrategia _top-down_, ocupandose del subproblema `n`, sin preocuparse de los más pequeños o un caso base, hasta que llegue el momento de resolverlos.\n",
    "\n",
    "\n",
    "Por supuesto, para poder hacer esto, debemos demostrar que una elección avara en cada paso produce una solucion óptima global.\n",
    "Y para que esto suceda, el problema debe tener, además, subestructura óptima."
   ]
  },
  {
   "cell_type": "markdown",
   "metadata": {
    "tags": []
   },
   "source": [
    "### subestructura óptima"
   ]
  },
  {
   "cell_type": "markdown",
   "metadata": {},
   "source": [
    "Un problema exhibe una subestructura óptima si una solución óptima al problema contiene en su interior soluciones óptimas a subproblemas.\n",
    "Esta propiedad es necesaria para aplicar algoritmos de PD (como ya vimos), y para los avaros también.\n",
    "Es la propiedad que permite aplicar un mismo algoritmo a problemas y subproblemas y en la que que se basa la comprobación de nuestro algoritmo\n",
    "para inferir, inductivamente, que la solución óptima de un subproblema, \n",
    "lleva a otro subproblema cuya solución óptima también pueda ser hallada por el método _greedy_ y así concluir que el problema original (con todos sus subproblemas) puede ser resuelto por esta estrategia."
   ]
  },
  {
   "cell_type": "markdown",
   "metadata": {},
   "source": [
    "## 5.8 Pasos en el diseño de un algoritmo _greedy_"
   ]
  },
  {
   "cell_type": "markdown",
   "metadata": {},
   "source": [
    "* Estructurar el problema de modo tal que se resuelva descomponiéndolo en subproblemas, que pueden ser resueltos tomando una única decisión y que eso nos deje con un sólo subsiguiente subproblema a resolver. Este paso suele tener consecuencias directas en el pseudocódigo final. Los algoritmos avaros suelen incluir una preparación previa de su entrata para poder aplicar el algoritmo _greedy_ de forma correcta.\n",
    "* Probar que la solución óptima al problema global puede ser hallada tomando una decisión inmediata.\n",
    "* Demostrar la subestructura óptima mostrando que, habiendo tomado un único camino, lo que queda es un subproblema que al ser resuelto con la misma estrategia, termina llevando a la solución óptima del problema original."
   ]
  },
  {
   "cell_type": "markdown",
   "metadata": {},
   "source": [
    "### Sobre la comprobación"
   ]
  },
  {
   "cell_type": "markdown",
   "metadata": {},
   "source": [
    "En nuestro ejemplo llevamos a cabo una comprobación de la corrección de nuestro algoritmo utilizando el método del absurdo.\n",
    "Éste es un método útil, pero usualmente los algoritmos avaros se comprueban siguiendo un esquema de intercambio inductivo:\n",
    "\n",
    "1. Se supone que existe una solución óptima diferente a la solución avara.\n",
    "2. Se toma un elemento de cada conjunto solución y se supone que  son diferentes.\n",
    "3. Se argumenta que se puede intercambiar el elemento de la solución óptima por el elemento de la solución avara sin empeorar la solución óptima.\n",
    "4. Si esto se continua, se termina con una solución óptima que en realidad es la avara (paso inductivo)."
   ]
  },
  {
   "cell_type": "markdown",
   "metadata": {},
   "source": [
    "----------------"
   ]
  },
  {
   "cell_type": "markdown",
   "metadata": {},
   "source": [
    "## 4.8 Conclusión"
   ]
  },
  {
   "cell_type": "markdown",
   "metadata": {},
   "source": [
    "* **subestructura óptima**\n",
    "* **propiedad _greedy_**\n",
    "* advertencia: el código de un algoritmo _greedy_ puede ser simple. El desafío está en saber cuando aplicar esta estrategia, poder presentar el problema de modo tal que un algoritmo _greedy_ lo resuelva y luego comprobar que tal algoritmo realmente lleva a una solución óptima. Es decir, casi todo el trabajo está en la etapa previa a escribir el pseudocódigo.\n",
    "* comprobar la corrección del algoritmo avaro\n",
    "* Leer del Cormen ; Chapter 16: Greedy Algorithms: p(414-436). Hay un buen apartado de PD Vs. Greedy para los problemas de mochila binario y fraccionario."
   ]
  },
  {
   "cell_type": "markdown",
   "metadata": {},
   "source": [
    "--------------------"
   ]
  },
  {
   "cell_type": "markdown",
   "metadata": {},
   "source": [
    "### Contenidos a explicar durante la práctica"
   ]
  },
  {
   "cell_type": "markdown",
   "metadata": {},
   "source": [
    "1. Problema de maximación de la ocupación un único recurso"
   ]
  }
 ],
 "metadata": {
  "kernelspec": {
   "display_name": "Python 3 (ipykernel)",
   "language": "python",
   "name": "python3"
  },
  "language_info": {
   "codemirror_mode": {
    "name": "ipython",
    "version": 3
   },
   "file_extension": ".py",
   "mimetype": "text/x-python",
   "name": "python",
   "nbconvert_exporter": "python",
   "pygments_lexer": "ipython3",
   "version": "3.8.11"
  }
 },
 "nbformat": 4,
 "nbformat_minor": 4
}
