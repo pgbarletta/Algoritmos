{
 "cells": [
  {
   "cell_type": "code",
   "execution_count": 1,
   "metadata": {},
   "outputs": [],
   "source": [
    "import numpy as np\n",
    "import sys\n",
    "import math\n",
    "import itertools"
   ]
  },
  {
   "attachments": {},
   "cell_type": "markdown",
   "metadata": {},
   "source": [
    "# Programación dinámica"
   ]
  },
  {
   "attachments": {},
   "cell_type": "markdown",
   "metadata": {},
   "source": [
    "## 3.1 Introducción"
   ]
  },
  {
   "attachments": {},
   "cell_type": "markdown",
   "metadata": {},
   "source": [
    "La Programación Dinámica (PD), al igual que divide y vencerás (D&C, por sus siglas en inglés), resuelve problemas recursivamente, dividiéndolos en subproblemas y combinando sus soluciones.\n",
    "\n",
    "Ahora bien, la naturaleza de los subproblemas que estos 2 métodos resuelven, son fundamentalmente distintas y, por lo tanto, la forma de resolverlos, también.\n",
    "Como ya se ha dicho, los subproblemas de D&C son **disjuntos**. Por ejemplo, en _merge sort_ se divide un problema correspondiente a una lista de tamaño `n`, en 2 subproblemas de tamaño `n/2` que pueden ser resueltos independientemente y que serán utilizados para formar la solución al problema original.\n",
    "\n",
    "Esta aproximación no daría la respuesta correcta a un problema que se resuelve por PD, como el de hallar el camino más rápido entre 2 puntos. Un clásico problema de optimización que usaremos de ejemplo y en el que nos abstraeremos de valores numéricos."
   ]
  },
  {
   "attachments": {},
   "cell_type": "markdown",
   "metadata": {},
   "source": [
    "<img src=\"grilla.png\" alt=\"mm\" style=\"width: 1600px;\"/>"
   ]
  },
  {
   "attachments": {},
   "cell_type": "markdown",
   "metadata": {},
   "source": [
    "Si se dividiera el problema original (**A4-D1**) en, por ejemplo, 2 subproblemas como pueden ser: **A4-C2** y **C2-D1**, la combinación de las soluciones óptimas a estos subproblemas, no será necesariamente la solución óptima al problema original, ya que existe la posibilidad que para ir de A4 a D1, no tenga q pasar por la celda C2. \n",
    "\n",
    "Será entonces que subidividimos mal al problema? Vemos que la solución pasa por C1, entonces quizás había que dividir **A4-D1** en **A4-C1** y **C1-D1**, pero, cómo podríamos haber sabido que el camino óptimo correspondía a la conjunción de esos 2 caminos? Tampoco podíamos descartar que pase por la celda **D2**, y por lo tanto subidividir el problema **A4-D1** en **A4-D2** y **D2-D1**."
   ]
  },
  {
   "attachments": {},
   "cell_type": "markdown",
   "metadata": {},
   "source": [
    "En realidad, las 3 subidivisiones son necesarias. Para hallar el camino más rápido (camino óptimo), **A4-D1** es necesario hallar los caminos óptimos **A4-C1**, **A4-C2** y **A4-D2** (subproblemas **C1**, **C2**, **D2**), y luego ver cual de esos caminos es el más rápido, el de menor costo, es decir, el óptimo.\n",
    "\n",
    "Notar que en este cálculo se debería agregar el costo de la celda D1, pero como éste es el mismo para las 3 vías (ya que todas terminan en D1), este costo no cambia la decisión.\n",
    "\n",
    "Luego, al buscar el camino óptimo entre estas 3 posibilidades haremos lo mismo, recursivamente, hasta el caso base, al igual que en D&C. Verdad?"
   ]
  },
  {
   "attachments": {},
   "cell_type": "markdown",
   "metadata": {},
   "source": [
    "<img src=\"1_grilla.png\" alt=\"mm\" style=\"width: 1600px;\"/>"
   ]
  },
  {
   "attachments": {},
   "cell_type": "markdown",
   "metadata": {},
   "source": [
    "Ahora vemos que no sólo tenemos que obtener 3 subproblemas para luego resolver el problema original, sino que estos subproblemas no son independientes. Para resolver **C1** y **D2**, debemos resolver **C2**. Y también hay 1 subproblema de **C2** q será necesario p/ resolver **C1** y otro para **D2**. Los subproblemas están superpuestos. \n",
    "\n",
    "Si resolvieramos los subproblemas así como se nos presentan, estaríamos repitiendo cálculo. De nuevo, esto no ocurre en un algoritmo de D&C como _merge sort_, donde el ordenamiento de una porción de una lista, no contiene información alguna, ni depende, del ordenamiento de otra porción de la lista."
   ]
  },
  {
   "attachments": {},
   "cell_type": "markdown",
   "metadata": {},
   "source": [
    "<img src=\"1_tree.png\" alt=\"mm\" style=\"width: 1200px;\"/>"
   ]
  },
  {
   "attachments": {},
   "cell_type": "markdown",
   "metadata": {},
   "source": [
    "Este árbol continua hasta llegar al caso base **A4**, que representa el camino óptimo para llegar a **A4** desde **A4**, lo cual es una trivialidad, pero ésto no nos sorprende ya que así son los casos base."
   ]
  },
  {
   "attachments": {},
   "cell_type": "markdown",
   "metadata": {},
   "source": [
    "#### Subproblemas de borde"
   ]
  },
  {
   "attachments": {},
   "cell_type": "markdown",
   "metadata": {},
   "source": [
    "Cabe también aclarar que no todo subproblema depende de la resolución de 3 subproblemas. Para llegar a las celdas de los bordes (columna **A** o fila **4**), solo hay un camino posible. Estos subproblemas no representan casos base en nuestra función recursiva, ya que su solución depende de un subproblema anterior (y que también es un subproblema de borde), pero por ser esta dependencia directa y única, la solución a estos subproblemas de borde es directa. Esta aclaración es importante ya que es común encontrar subproblemas de borde en algoritmos de PD."
   ]
  },
  {
   "attachments": {},
   "cell_type": "markdown",
   "metadata": {},
   "source": [
    "-------------"
   ]
  },
  {
   "attachments": {},
   "cell_type": "markdown",
   "metadata": {},
   "source": [
    "## 3.2 Características de los problemas que se pueden resolver por PD"
   ]
  },
  {
   "attachments": {},
   "cell_type": "markdown",
   "metadata": {},
   "source": [
    "PD aplica en problemas de **cálculo**, como el cálculo del número de Fibonacci que vimos en la Unidad 1 y\n",
    "también en problemas de decisión, como el problema _subset-sum_, que veremos más adelante.\n",
    "Pero la principal aplicación de los algoritmos de PD es la optimización. Por eso de aquí en adelante asumiremos que tratamos con problemas de optimización y que sus respuestas son el costo óptimo (o _score_ óptimo) y una solución óptima."
   ]
  },
  {
   "attachments": {},
   "cell_type": "markdown",
   "metadata": {},
   "source": [
    "### Subestructura óptima"
   ]
  },
  {
   "attachments": {},
   "cell_type": "markdown",
   "metadata": {},
   "source": [
    "Un problema tiene subestructura óptima si la solución óptima a sus subproblemas puede ser utilizada para obtener la solución óptima al problema original.\n",
    "En el ejemplo anterior, cada subproblema dependía de 3 subproblemas anteriores (o posteriores, depende de como se lo vea), y la solución al subproblema original es la solución a uno de los subproblemas, más el paso adicional de ir desde una celda anterior a la que corresponde al subproblema actual.\n",
    "\n",
    "El ordenamiento de una lista no tiene subestructura óptima. En _merge sort_, luego de ordenar las 2 mitades de una lista, el ordenamiento final no proviene de elegir alguna de las mitadas o de simplemente concatenar las 2 medias listas ordenadas. La solución final requiere una etapa de combinación, una intercalación de elementos. Esa necesidad de una combinación (etapa de _combine_), es lo que previene a los algoritmos que se resuelven por D&C, ser resueltos por PD.\n",
    "\n",
    "Las diferencias entre problemas que tienen subestructura óptima son sutiles, y nos llevará tiempo reconocerlas. No sólo es necesario que un problema se pueda dividir en subproblemas, sino también es necesario que la solución de alguno de estos subproblemas sea parte de la solución del problema original, o visto al revés, que la solución del problema original contenga a (o dependa de) la solución de uno de sus subproblemas"
   ]
  },
  {
   "attachments": {},
   "cell_type": "markdown",
   "metadata": {},
   "source": [
    "### Superposición de subproblemas"
   ]
  },
  {
   "attachments": {},
   "cell_type": "markdown",
   "metadata": {},
   "source": [
    "Esta es la segunda característica que estos problemas presentan y ya vimos un ejemplo de esta superposición. \n",
    "\n",
    "Es esta característica la que permite el ahorro de cómputo de un algoritmo de PD, frente a uno bruto (_naive_) y la forma de evitar el recálculo de un mismo subproblema es mediante la utilización de una **estructura de datos** que almacene los resultados de los subproblemas para su posterior utilización. \n",
    "\n",
    "Esta estructura de datos contendrá las respuestas a todos los subproblemas, desde el caso base, hasta el problema original. Y el orden en el que un algoritmo de PD se propone llenar esta estructura de datos permite clasificarlo en 2 tipos de algoritmos de PD:  _top-down_ con memoización y _bottom-up_.\n",
    "\n",
    "Estos algoritmos avanzan por el árbol de subproblemas en sentidos opuestos, y si bien veremos esta clasificación dentro del marco de PD, ésta aplica a todos los algoritmos que puedan expresarse con una función recursiva [citation needed]"
   ]
  },
  {
   "attachments": {},
   "cell_type": "markdown",
   "metadata": {},
   "source": [
    "## 3.3 Dos tipos de algoritmos de PD"
   ]
  },
  {
   "attachments": {},
   "cell_type": "markdown",
   "metadata": {},
   "source": [
    "### _top-down_ con memoización"
   ]
  },
  {
   "attachments": {},
   "cell_type": "markdown",
   "metadata": {},
   "source": [
    "Estos algoritmos empiezan proponiéndose la resolución del problema original y luego van determinando, recursivamente, que subproblemas tienen que resolverse para resolver el subproblema original hasta llegar a un caso base, a partir del cual desanudan el camino, resolviendo cada subproblema.\n",
    "\n",
    "Volviendo al ejemplo inicial, este algoritmo se propone, en primer lugar, resolver el problema de hallar el camino óptimo **A4-D1**, luego lo divide en subproblemas hasta proponerse la resolución del caso base: hallar el camino óptimo **A4-A4**.\n",
    "\n",
    "Este procedimiento es propio de cualquier algoritmo recursivo (recordar _merge-sort_), lo que diferencia a los algoritmos de PD es el uso de la memoización."
   ]
  },
  {
   "attachments": {},
   "cell_type": "markdown",
   "metadata": {},
   "source": [
    "#### memoización"
   ]
  },
  {
   "attachments": {},
   "cell_type": "markdown",
   "metadata": {},
   "source": [
    "Es el almacenamiento de valores óptimos y soluciones óptimas (es decir, resultados), de los subproblemas para posterior reutilización en la resolución de otro subproblema.\n",
    "\n",
    "En cierta forma, es la respuesta intuitiva a la superposición de problemas de PD. Si un subproblema puede ser utilizado para resolver posteriores subproblemas, entonces lo natural es resolverlo y luego almacenar la respuesta en un _cache_ para posterior reutilización, como figura abajo.\n",
    "\n",
    "Así, se inicializará una **estructura de datos** vacía con 1 elemento para cada subproblema. A cada subproblema resuelto su respuesta será almacenada en el lugar que le corresponda. Asimismo, cada vez que el algoritmo se proponga resolver un problema, intentará primero encontrar su respuesta en esta estructura de datos y así ahorrarse el recómputo.\n",
    "El primer elemento de la estructura de datos en llenarse corresponderá al caso base, y el último a la respuesta del problema original."
   ]
  },
  {
   "attachments": {},
   "cell_type": "markdown",
   "metadata": {},
   "source": [
    "### _bottom-up_"
   ]
  },
  {
   "attachments": {},
   "cell_type": "markdown",
   "metadata": {},
   "source": [
    "Estos algoritmos empiezan proponiéndose la resolución del subproblema más reducido, el trivial: el caso base. Luego reutiliza el resultado de este para resolver el siguiente subproblema y luego ambos resultados para resolver el siguiente, y así continua hasta llegar al problema orignal y resolverlo, al igual que con los anteriores subproblemas, reutilizando las respuestas anteriores.\n",
    "\n",
    "Volviendo al ejemplo inicial, este algoritmo se propone, en primer lugar, resolver el problema de hallar el camino óptimo **A4-A4**, luego avanza con los siguientes subproblemas hasta proponerse la resolución del problema original: hallar el camino óptimo **A4-D1**. \n",
    "\n",
    "Una vez que se la conoce, esta aproximación parece ser la más natural de las 2.\n",
    "\n",
    "Al empezar con el caso base y luego continuar con los subproblemas más pequeños hasta llegar al subproblema más grande (el original), estos algoritmos se aseguran tener todas las respuestas necesarias para resolver cada subproblema que se les presenta. \n",
    "Es decir, el primer subproblema que se proponen es el caso base y éste no requiere ninguna respueta anterior por su trivialidad. \n",
    "El segundo subproblema que se les presente, cualquiera sea éste, solo requiere la respuesta al caso base. El tercero, utilizará la respuesta de alguno de estos 2 subproblemas anteriores, y así continua. \n",
    "Esto podemos verlo en el ejemplo inicial."
   ]
  },
  {
   "attachments": {},
   "cell_type": "markdown",
   "metadata": {},
   "source": [
    "#### advertencia\n",
    "\n",
    "Nótese que las aproximaciones _top-down_ y _bottom-up_ varían en el orden en el que se **proponen** resolver los subproblemas y no en el orden de resolución de subproblemas. En ese caso, ambos resuelven de la misma y única posible manera: desde el caso base, hasta el problema original.\n",
    "\n",
    "Las diferencias están en el sentido en el que avanzan por el árbol de subproblemas y en la forma de explorarlo: los _top-down_ lo hacen en profundidad y los _bottom-up_ lo hacen a lo ancho. Veremos más sobre esto de \"profundidad y ancho\" en siguientes clases."
   ]
  },
  {
   "attachments": {},
   "cell_type": "markdown",
   "metadata": {},
   "source": [
    "<img src=\"2_tree.png\" alt=\"mm\" style=\"width: 2000px;\"/>"
   ]
  },
  {
   "attachments": {},
   "cell_type": "markdown",
   "metadata": {},
   "source": [
    "## 3.4 _subset sum_"
   ]
  },
  {
   "attachments": {},
   "cell_type": "markdown",
   "metadata": {},
   "source": [
    "Apliquemos todos estos conceptos abstractos en un ejemplo bien concreto. \n",
    "Este es un problema de decisión, por lo que no hay costos ni soluciones óptimas.\n",
    "Más bien buscamos una decisión correcta y una solución correcta."
   ]
  },
  {
   "attachments": {},
   "cell_type": "markdown",
   "metadata": {},
   "source": [
    "Dada una lista de números naturales `conjunto` y un número natural `suma`, determinar si existe un subconjunto dentro de `conjunto` cuya sumatoria sea igual a `suma`.\n",
    "\n",
    "Veamos un ejemplo simple:"
   ]
  },
  {
   "cell_type": "code",
   "execution_count": 2,
   "metadata": {},
   "outputs": [],
   "source": [
    "conjunto = [3, 20, 1, 12, 5, 2]\n",
    "suma = 8"
   ]
  },
  {
   "attachments": {},
   "cell_type": "markdown",
   "metadata": {},
   "source": [
    "Es fácil ver que el subconjunto `[3, 5]` suma `8` y por lo tanto es una solución del problema.\n",
    "\n",
    "Notar que este es un problema de decisión, debemos determinar si algo es posible o no (V o F). Entonces, lo que en optimización llamamos solución óptima, en este caso sería una solución correcta y en vez de un valor óptimo, tendríamos un valor que debe ser correcto. Por ejemplo, `[1, 5]` también es una solución, pero es incorrecta, ya que su valor `6`, es incorrecto.\n",
    "\n",
    "También notamos una característica que suele aparecer en los problemas de optimización, la multiplicidad de soluciones correctas posibles. `[1, 5, 2]` es otra solución correcta, ya que suma el valor correcto, `8`. Nótese que puede haber varias soluciones correctas, pero el valor correcto es único. Ya vimos el fenómeno análogo en problemas de optimización, distintas soluciones óptimas, pero un único valor óptimo, ya que si existe un máximo(mínimo), necesariamente éste es único, sino no sería el máximo (mínimo)."
   ]
  },
  {
   "attachments": {},
   "cell_type": "markdown",
   "metadata": {},
   "source": [
    "-----------"
   ]
  },
  {
   "attachments": {},
   "cell_type": "markdown",
   "metadata": {},
   "source": [
    "## 3.5 Solución exhaustiva de _subset sum_ "
   ]
  },
  {
   "attachments": {},
   "cell_type": "markdown",
   "metadata": {},
   "source": [
    "Ya que tenemos un ejemplo, vamos a empezar por un paso que no es estrictamente necesario, pero suele ser útil: pensaremos un algoritmo bruto que resuelva este problema.\n",
    "\n",
    "Y el algoritmo más simple para este problema, es el que realiza todas las sumas posibles entre los números del conjunto, hasta hallar la combinación de elementos (subconjunto), correcta:"
   ]
  },
  {
   "cell_type": "code",
   "execution_count": 3,
   "metadata": {
    "tags": []
   },
   "outputs": [],
   "source": [
    "def subset_sum_bruto(conjunto, suma):\n",
    "    for i in range(0, len(conjunto)+1):\n",
    "        for subconjunto in itertools.combinations(conjunto, i):\n",
    "            if sum(subconjunto) == suma:\n",
    "                print(\"Match. Subconjunto: \", subconjunto)\n",
    "                return\n",
    "    print(\"No hay match.\")\n",
    "    return"
   ]
  },
  {
   "attachments": {},
   "cell_type": "markdown",
   "metadata": {},
   "source": [
    "No es necesario entender esta función. Mejor aún, ni la lean, ya que estoy rompiendo una de las reglas de la clase (no utilizar librerías mágicas de Python).\n",
    "\n",
    "Veamos si funciona:"
   ]
  },
  {
   "cell_type": "code",
   "execution_count": 4,
   "metadata": {},
   "outputs": [
    {
     "name": "stdout",
     "output_type": "stream",
     "text": [
      "Match. Subconjunto:  (3, 5)\n"
     ]
    }
   ],
   "source": [
    "subset_sum_bruto(conjunto, suma)"
   ]
  },
  {
   "attachments": {},
   "cell_type": "markdown",
   "metadata": {},
   "source": [
    "Funciona, y si bien no encuentra todas las respuestas, nos devuelve el valor correcto (match), y la solución correcta (Subconjunto). Probá variando el valor de `suma` para ver distintos resultados."
   ]
  },
  {
   "attachments": {},
   "cell_type": "markdown",
   "metadata": {},
   "source": [
    "Veamos que hace exactamente este algoritmo.\n",
    "\n",
    "Genera todos los subconjuntos posibles y los evalua uno por uno. Para nuestro ejemplo, ésta sería una descripción de los subconjuntos posibles:"
   ]
  },
  {
   "attachments": {},
   "cell_type": "markdown",
   "metadata": {},
   "source": [
    "<img src=\"3_tree.png\" alt=\"mm\" style=\"width: 2000px;\"/>"
   ]
  },
  {
   "attachments": {},
   "cell_type": "markdown",
   "metadata": {},
   "source": [
    "Como el tamaño del conjunto (`N`) es de 6, existen 7 tamaños posibles de subconjuntos, desde el subconjunto con 0 elementos, al que se le llama **conjunto vacío** ($\\{ \\varnothing \\}$), hasta el subconjunto que en realidad es el conjunto original (`{3, 20, 1, 12, 5, 2}`). Nótese la utilización de `{}` para denotar un conjunto.\n",
    "\n",
    "Nótese también que el número de subconjuntos disponbles para cada tamaño. El conjunto vacío y el conjunto de tamaño original son necesariamente únicos. Los subconjuntos de tamaño de unidad `n=1` son tantos como elementos haya en el conjunto original ($6$). El número de subconjuntos de tamaño 2 es $15$, hay $20$ subconjuntos de tamaño 3, $15$ también de 4 y $6$ de tamaño 5. Ya veremos en clase como obtener estos tamaños de subconjuntos rápidamente.\n",
    "\n",
    "Lo que está haciendo este algoritmo es hacer un corte en el conjunto original y separándolo en el subconjunto que podría sumar el valor buscado y el subconjunto descartado. Éste último no aparece en la figura por razones de claridad y espacio, pero podemos describirlo aqui:\n",
    "\n",
    "* si el subconjunto evaluado es el vacío, entonces el descartado es el conjunto completo,\n",
    "* si el subconjunto evaluado es el conjunto completo, entonces el descartado es el conjunto vacío,\n",
    "* si el subconjunto evaluado es el $\\{3\\}$, entonces el descartado es el subconjunto ${20, 1, 12, 5, 2}$,\n",
    "* si el subconjunto evaluado es el $\\{3, 12\\}$, entonces el descartado es el subconjunto ${20, 1, 5, 2}$,\n",
    "* etc."
   ]
  },
  {
   "attachments": {},
   "cell_type": "markdown",
   "metadata": {},
   "source": [
    "Notamos algunas características de esta función exhaustiva:\n",
    "\n",
    "* cada problema resulta en una solución posible (el subconjunto), en un un valor (la suma de los elementos del conjunto) y siempre compara ese valor con el `suma` original.\n",
    "* Hay problemas contenidos dentro de otros problemas más grandes. El conjunto ${3, 20, 1, 12, 5, 2}$ (cuando `n=6`), incluye, entre otros, a los conjuntos ${3, 20}$ y $5, 2$, que ya habían aparecido anteriormente y que también están incluidos en subconjuntos de tamaño 3, 4 y 5 que no aparecen en la figura.\n",
    "* Hay mucho cálculo repetido e innecesario.\n",
    "\n",
    "A lo largo de esta descripción, nos hemos cuidado de usar el término **problemas** en vez de **subproblemas**. Este árbol de problemas, es el árbol que explora una algoritmo _naive_ exhaustivo. No es un árbol de subproblemas obtenidos por PD."
   ]
  },
  {
   "attachments": {},
   "cell_type": "markdown",
   "metadata": {},
   "source": [
    "-------------"
   ]
  },
  {
   "attachments": {},
   "cell_type": "markdown",
   "metadata": {},
   "source": [
    "## 3.6 Subproblemas de _subset sum_"
   ]
  },
  {
   "attachments": {},
   "cell_type": "markdown",
   "metadata": {},
   "source": [
    "Debemos conformar verdaderos subproblemas con subestructura óptima y para eso hay que determinar las variables que caracterizan a un subproblema. Debemos clarificar que es un subproblema para que al momento de programar podamos capturar estos conceptos en términos de variables.\n",
    "\n",
    "En el ejemplo inicial, el problema era optimizar el camino de la celda **A4** a **D1** y este problema contenía a los subproblemas de optimizar el camino de **A4** a **D2**, de **A4** a **C1** y de **A4** a **C2**. Inmediatamente nos dimos cuenta que la celda inicial, **A4**, aparecía siempre y no diferenciaba a los subproblemas y los empezamos a llamar por su celda destino. Y estas celdas destino están compuestas por una letra y un número que identifican la fila y la columna en que se ubican. Eso mismo llevado a pseudocódigo (o código), sería una tabla donde se almacenan los subproblemas y a las tablas las indexamos con 2 números naturales. Esos 2 números naturales caracterizan a los subproblemas.\n",
    "\n",
    "Volvamos a _subset-sum_. Tenemos una lista y un número natural como entradas. \n",
    "Aparentemente cada subproblema estaría dado por un subconjunto de cierto tamaño y un número natural al que tengo que llegar, pero en realidad no necesito el subconjunto, sino sólo su tamaño. \n",
    "Así como en el ejemplo anterior la celda de inicio era constante, el conjunto total también lo es. \n",
    "Así que sólo manteniendo un índice que indique de cuantos elementos dispongo y un números naturales que me indique el número al que debo sumar, me alcanza.\n",
    "\n",
    "Y cómo progresan estos subproblemas? \n",
    "En nuestro ejemplo original el problema se caracteriza por `n = 6` (se dispone de todo el conjunto) y `suma = 8`, cada subproblema si un elemento forma parte del subconjunto sumado o el subconjunto descartado. A cada paso buscará determinar un elemento del subconjunto que resulta en el valor `suma = 8` original. \n",
    "Preguntarse, sucesivamente, si un elemento es necesario para obtener el valor `suma` final, equivale al siguiente árbol:"
   ]
  },
  {
   "attachments": {},
   "cell_type": "markdown",
   "metadata": {},
   "source": [
    "<img src=\"4_tree.png\" alt=\"mm\" style=\"width: 2000px;\"/>"
   ]
  },
  {
   "attachments": {},
   "cell_type": "markdown",
   "metadata": {},
   "source": [
    "Conviene tomarnos el tiempo para entender este recorte del árbol. Notar que nos ahorramos varis subproblemas en el medio y desembocamos en 2 subproblemas particulares:\n",
    "* El subproblema `n-6, suma - v[0] - v[1] - v[2] - v[3] - v[4] - v[5]`. Corresponde al uso del subconjunto que contiene todos los elementos para buscar obtener el número `suma`. Es el conjunto completo.\n",
    "* El subproblema `n-6, suma`. Corresponde a descartar todo el conjunto para buscar obtener el número. Es el conjunto vacío"
   ]
  },
  {
   "attachments": {},
   "cell_type": "markdown",
   "metadata": {},
   "source": [
    "----------"
   ]
  },
  {
   "attachments": {},
   "cell_type": "markdown",
   "metadata": {},
   "source": [
    "## 3.7 Solución recursiva de _subset sum_ "
   ]
  },
  {
   "attachments": {},
   "cell_type": "markdown",
   "metadata": {},
   "source": [
    "Ahora si, empezaremos la construcción de nuestra algoritmo y \n",
    "lo haremos empezando con algoritmos que sólo devuelvan la respuesta correcta y postergaremos la construcción de la solución correcta.\n",
    "En la primer Unidad mencionamos al pasar que esta estrategia es la correcta. Ya veremos que diseñar el algoritmo que devuelva la solución correcta es lo más laborioso.\n",
    "Una vez que tengamos nuestro diseño inicial, modificarlo o extenderlo para construir la solución correcta será una tarea relativamente sencilla.\n",
    "\n",
    "Esquematizaremos nuestra solución recursiva de una manera similar a una recurrencia, sólo que ésta vez no expresaremos complejidades, sino que instrucciones"
   ]
  },
  {
   "attachments": {},
   "cell_type": "markdown",
   "metadata": {},
   "source": [
    "$$ subset\\_sum(v, n, suma) = \n",
    " \\begin{cases}\n",
    "\\textbf{True}, \\qquad \\qquad \\qquad \\qquad \\qquad \\qquad \\qquad \\qquad \\qquad \\qquad \\qquad \\qquad  \\text{if} \\ suma == 0\n",
    "\\newline\n",
    "\\textbf{False}, \\qquad \\qquad \\qquad \\qquad \\qquad \\qquad \\qquad \\qquad \\qquad \\qquad \\qquad \\qquad  \\text{if} \\ n == 0 \\ \\& \\ suma \\neq 0\n",
    "\\newline\n",
    "subset\\_sum (v, n-1, suma - v[n] ) \\quad \\| \\quad subset\\_sum (v, n-1, suma ), \\quad \\ \\text{if} \\ n > 0\n",
    "\\end{cases} $$"
   ]
  },
  {
   "attachments": {},
   "cell_type": "markdown",
   "metadata": {},
   "source": [
    "Siendo este un problema de decisión, la respuesta correcta es un `V` o `F`, por lo tanto lo que hacemos es bifurcarnos a cada paso \n",
    "(como muestra el árbol de subproblemas anterior), hasta encontrar una serie de restas que lleven a `suma` hacia exactamente 0, \n",
    "lo que implica que los numeros restados, cuando sumados, resultarán en el valor de `suma`.\n",
    "En caso de que se hayan agotado todos los elementos del set (ya sea que se hayan incluido o no en la resta), y no se haya llegado a un valor nulo de `suma`, entonces se devuelve un `F`, indicando que esa combinación particular no resulta en `suma`.\n",
    "\n",
    "A medida que se desanuden las llamadas recursivas, los booleanos se propagarán \"hacia arriba\", y si alguna combinación ha resultado en `suma`, su `V` se propagará (gracias al `or`), hasta la llamada inicial.\n",
    "\n",
    "`n==0` sería el caso base \"original\", el que garantiza que la recurrencia termine. \n",
    "Hay otro caso base, `suma==0`, que sólo se ejecuta cuando se puede alcanzar el valor `suma` y\n",
    "que corta la recurrencia de manera temprana."
   ]
  },
  {
   "attachments": {},
   "cell_type": "markdown",
   "metadata": {},
   "source": [
    "Veamos que el código Python es una transcripción directa de la recursiva:"
   ]
  },
  {
   "cell_type": "code",
   "execution_count": 5,
   "metadata": {},
   "outputs": [],
   "source": [
    "def subset_sum_recursivo(conjunto, n, suma):\n",
    " \n",
    "    # Casos base\n",
    "    if (suma == 0):\n",
    "        return True\n",
    "    if (n == 0):\n",
    "        return False\n",
    " \n",
    "    # Caso recursivo\n",
    "    # Uso n-1 por 0-index de Python\n",
    "    return subset_sum_recursivo(conjunto, n-1, suma - conjunto[n-1]) or subset_sum_recursivo(conjunto, n-1, suma)"
   ]
  },
  {
   "cell_type": "code",
   "execution_count": 6,
   "metadata": {},
   "outputs": [],
   "source": [
    "conjunto = [3, 20, 1, 12, 5, 2]\n",
    "suma = 8"
   ]
  },
  {
   "cell_type": "code",
   "execution_count": 7,
   "metadata": {},
   "outputs": [
    {
     "data": {
      "text/plain": [
       "True"
      ]
     },
     "execution_count": 7,
     "metadata": {},
     "output_type": "execute_result"
    }
   ],
   "source": [
    "subset_sum_recursivo(conjunto, len(conjunto), suma)"
   ]
  },
  {
   "cell_type": "raw",
   "metadata": {},
   "source": [
    "Variemos un poco el ejemplo para entender mejor nuestra función:"
   ]
  },
  {
   "cell_type": "code",
   "execution_count": 8,
   "metadata": {},
   "outputs": [
    {
     "data": {
      "text/plain": [
       "True"
      ]
     },
     "execution_count": 8,
     "metadata": {},
     "output_type": "execute_result"
    }
   ],
   "source": [
    "suma = 0\n",
    "subset_sum_recursivo(conjunto, len(conjunto), suma)"
   ]
  },
  {
   "attachments": {},
   "cell_type": "markdown",
   "metadata": {},
   "source": [
    "Pues claro, ese `V` corresponde al conjunto vacío."
   ]
  },
  {
   "cell_type": "code",
   "execution_count": 9,
   "metadata": {},
   "outputs": [
    {
     "data": {
      "text/plain": [
       "True"
      ]
     },
     "execution_count": 9,
     "metadata": {},
     "output_type": "execute_result"
    }
   ],
   "source": [
    "suma = sum(conjunto)\n",
    "subset_sum_recursivo(conjunto, len(conjunto), suma)"
   ]
  },
  {
   "attachments": {},
   "cell_type": "markdown",
   "metadata": {},
   "source": [
    "Y ese debería corresponder al conjunto entero."
   ]
  },
  {
   "cell_type": "code",
   "execution_count": 10,
   "metadata": {},
   "outputs": [
    {
     "data": {
      "text/plain": [
       "False"
      ]
     },
     "execution_count": 10,
     "metadata": {},
     "output_type": "execute_result"
    }
   ],
   "source": [
    "suma = sum(conjunto) + 1\n",
    "subset_sum_recursivo(conjunto, len(conjunto), suma)"
   ]
  },
  {
   "attachments": {},
   "cell_type": "markdown",
   "metadata": {},
   "source": [
    "Justo como esperábamos."
   ]
  },
  {
   "attachments": {},
   "cell_type": "markdown",
   "metadata": {},
   "source": [
    "Tenemos subestructura óptima, pero tenemos también superposición de subproblemas? \n",
    "Bueno, la debilidad de este ejemplo es que la superposición de problemas es un poco difícil de ver y en casos reducidos suele no haber repetición de calculo alguna.\n",
    "Un ejemplo reducido con repetición de cálculo sería el siguiente:"
   ]
  },
  {
   "cell_type": "code",
   "execution_count": 11,
   "metadata": {},
   "outputs": [],
   "source": [
    "conjunto = [1, 2, 3, 20, 30, 50]\n",
    "suma = 54"
   ]
  },
  {
   "attachments": {},
   "cell_type": "markdown",
   "metadata": {},
   "source": [
    "Tanto en la rama en que se incluya a `50` y se excluye a `20` y `30`, como en la que se incluye a `20` y `30` y se excluye a `50`, se llega a la mistma instancia:"
   ]
  },
  {
   "cell_type": "code",
   "execution_count": 12,
   "metadata": {},
   "outputs": [],
   "source": [
    "conjunto = [1, 2, 3]\n",
    "suma = 4"
   ]
  },
  {
   "attachments": {},
   "cell_type": "markdown",
   "metadata": {},
   "source": [
    "Definitivamente puede haber repetición de calculo y cuanto más grande sea el conjunto inicial y más alto el valor de `suma`, más chances habrá de que terminemos con subproblemas repetidos.\n",
    "Y acá diseñamos algoritmos capaces de lidiar con mucha información.\n",
    "\n",
    "Decidamos entonces, que estructura de datos nos conviene para almacenar los resultados parciales, las respuestas a los subproblemas."
   ]
  },
  {
   "attachments": {},
   "cell_type": "markdown",
   "metadata": {},
   "source": [
    "--------"
   ]
  },
  {
   "attachments": {},
   "cell_type": "markdown",
   "metadata": {},
   "source": [
    "## 3.8 Solución _top-down_ de _subset sum_ (memoización)"
   ]
  },
  {
   "attachments": {},
   "cell_type": "markdown",
   "metadata": {},
   "source": [
    "La identidad de la estructura de datos está dada por las variables que caracterizan a los subproblemas. \n",
    "En este caso, hay 2 números naturales que caracterizan a los subproblemas por lo que utilizaremos una tabla.\n",
    "\n",
    "Esta tabla tendrá tantas filas como elementos tenga `conjunto` y `suma` columnas. \n",
    "El número de filas es necesario, pero el numero de columnas suele ser sobredimensionado,\n",
    "ya que no todos los valores posibles de `suma` apareceran en los subproblemas, salvo que\n",
    "`conjunto` esté compuesto enteramente por `1`s.\n",
    "\n",
    "Es necesario también que la estructura de datos esté inicializada de tal manera que sea fácilmente determinable si un subproblema fue resuelto y su resultado almacenado.\n",
    "Para eso inicializamos la tabla con `None`s."
   ]
  },
  {
   "cell_type": "code",
   "execution_count": 13,
   "metadata": {},
   "outputs": [],
   "source": [
    "tabla = np.repeat(None, suma * len(conjunto)).reshape(len(conjunto), suma)"
   ]
  },
  {
   "cell_type": "code",
   "execution_count": 14,
   "metadata": {},
   "outputs": [],
   "source": [
    "def subset_sum_topdown(conjunto, n, suma, tabla):\n",
    " \n",
    "    # Casos base\n",
    "    if (suma == 0):\n",
    "        return True\n",
    "    if (n == 0):\n",
    "        return False\n",
    "    # Agrego este caso base por necesidad, para no indexar `tabla` con un número negativo.\n",
    "    if (suma < 0):\n",
    "        return False\n",
    " \n",
    "    # De nuevo, resto 1 por 0-indexing de python.\n",
    "    if (tabla[n-1, suma-1] != None):\n",
    "        return tabla[n-1, suma-1]\n",
    " \n",
    "    # Caso recursivo\n",
    "    # Uso n-1 por 0-index de python\n",
    "    return subset_sum_topdown(conjunto, n-1, suma - conjunto[n-1], tabla) or subset_sum_topdown(conjunto, n-1, suma, tabla)"
   ]
  },
  {
   "attachments": {},
   "cell_type": "markdown",
   "metadata": {},
   "source": [
    "Comprobemos que el comportamiento sea idéntico a la función recursiva:"
   ]
  },
  {
   "cell_type": "code",
   "execution_count": 15,
   "metadata": {},
   "outputs": [
    {
     "data": {
      "text/plain": [
       "True"
      ]
     },
     "execution_count": 15,
     "metadata": {},
     "output_type": "execute_result"
    }
   ],
   "source": [
    "conjunto = [3, 20, 1, 12, 5, 2]\n",
    "suma = 8\n",
    "\n",
    "tabla = np.repeat(None, suma * len(conjunto)).reshape(len(conjunto), suma)\n",
    "subset_sum_topdown(conjunto, len(conjunto), suma, tabla)"
   ]
  },
  {
   "cell_type": "code",
   "execution_count": 16,
   "metadata": {},
   "outputs": [
    {
     "data": {
      "text/plain": [
       "True"
      ]
     },
     "execution_count": 16,
     "metadata": {},
     "output_type": "execute_result"
    }
   ],
   "source": [
    "suma = 0\n",
    "tabla = np.repeat(None, suma * len(conjunto)).reshape(len(conjunto), suma)\n",
    "\n",
    "subset_sum_topdown(conjunto, len(conjunto), suma, tabla)"
   ]
  },
  {
   "cell_type": "code",
   "execution_count": 17,
   "metadata": {},
   "outputs": [
    {
     "data": {
      "text/plain": [
       "True"
      ]
     },
     "execution_count": 17,
     "metadata": {},
     "output_type": "execute_result"
    }
   ],
   "source": [
    "suma = sum(conjunto)\n",
    "tabla = np.repeat(None, suma * len(conjunto)).reshape(len(conjunto), suma)\n",
    "\n",
    "subset_sum_topdown(conjunto, len(conjunto), suma, tabla)"
   ]
  },
  {
   "cell_type": "code",
   "execution_count": 18,
   "metadata": {},
   "outputs": [
    {
     "data": {
      "text/plain": [
       "False"
      ]
     },
     "execution_count": 18,
     "metadata": {},
     "output_type": "execute_result"
    }
   ],
   "source": [
    "suma = sum(conjunto) + 1\n",
    "tabla = np.repeat(None, suma * len(conjunto)).reshape(len(conjunto), suma)\n",
    "\n",
    "subset_sum_topdown(conjunto, len(conjunto), suma, tabla)"
   ]
  },
  {
   "attachments": {},
   "cell_type": "markdown",
   "metadata": {},
   "source": [
    "Ahora si, estamos de condiciones de recorrer el árbol de subproblemas en sentido inverso."
   ]
  },
  {
   "attachments": {},
   "cell_type": "markdown",
   "metadata": {},
   "source": [
    "--------"
   ]
  },
  {
   "attachments": {},
   "cell_type": "markdown",
   "metadata": {},
   "source": [
    "## 3.9 Solución _bottom-up_ de _subset sum_ "
   ]
  },
  {
   "attachments": {},
   "cell_type": "markdown",
   "metadata": {},
   "source": [
    "El código de este algoritmo es totalmente distinto a los anteriores, aunque conceptualmente es similar.\n",
    "\n",
    "La tabla también es distinta, tiene una columna y una fila extras ya que ahora almacenamos los casos base en la `tabla`, cosa que antes no hacíamos; los casos base eran capturados antes de evaluar y almacenar datos en la estructura de datos `tabla`. Esto es una decisión de diseño. Podríamos mantener una `tabla` del mismo tamaño y agregar los `if`s de los casos bases dentro del doble bucle `for`, pero esto es más engorroso."
   ]
  },
  {
   "cell_type": "code",
   "execution_count": 19,
   "metadata": {},
   "outputs": [],
   "source": [
    "def subset_sum_bottomup(conjunto, n, suma):\n",
    "\n",
    "    # la tabla de bottom-up tiene 1 fila y 1 columna extras para acomodar los casos base.\n",
    "    tabla = np.repeat(None, (suma+1) * (len(conjunto) + 1)).reshape(len(conjunto) + 1, suma + 1)\n",
    "    \n",
    "    # P/ simplificar\n",
    "    n = len(conjunto)\n",
    "    \n",
    "    # Relleno los casos base\n",
    "    for j in range(1, suma+1):\n",
    "        tabla[0, j] = False\n",
    "    for i in range(0, n+1):\n",
    "        tabla[i, 0] = True\n",
    "             \n",
    "    # Ahora si, obtengo las soluciones a todos los subproblemas\n",
    "    for j in range(1, suma + 1):\n",
    "        for i in range(1, n+1):\n",
    "            if j < conjunto[i-1]:\n",
    "                tabla[i, j] = tabla[i-1][j] # SUMA SE HIZO < 0. ME PASÉ DE TABLA.\n",
    "            else:\n",
    "                tabla[i, j] = (tabla[i-1][j] or tabla[i - 1][j-conjunto[i-1]])\n",
    "                \n",
    "    return tabla[n, suma]"
   ]
  },
  {
   "attachments": {},
   "cell_type": "markdown",
   "metadata": {},
   "source": [
    "Primero, comprobemos que el comportamiento visible sea idéntico al de las anteriores funciones:"
   ]
  },
  {
   "cell_type": "code",
   "execution_count": 20,
   "metadata": {},
   "outputs": [
    {
     "data": {
      "text/plain": [
       "True"
      ]
     },
     "execution_count": 20,
     "metadata": {},
     "output_type": "execute_result"
    }
   ],
   "source": [
    "conjunto = [3, 20, 1, 12, 5, 2]\n",
    "suma = 8\n",
    "subset_sum_bottomup(conjunto, len(conjunto), suma)"
   ]
  },
  {
   "cell_type": "code",
   "execution_count": 21,
   "metadata": {},
   "outputs": [
    {
     "data": {
      "text/plain": [
       "True"
      ]
     },
     "execution_count": 21,
     "metadata": {},
     "output_type": "execute_result"
    }
   ],
   "source": [
    "suma = 0\n",
    "subset_sum_bottomup(conjunto, len(conjunto), suma)"
   ]
  },
  {
   "cell_type": "code",
   "execution_count": 22,
   "metadata": {},
   "outputs": [
    {
     "data": {
      "text/plain": [
       "True"
      ]
     },
     "execution_count": 22,
     "metadata": {},
     "output_type": "execute_result"
    }
   ],
   "source": [
    "suma = sum(conjunto)\n",
    "subset_sum_bottomup(conjunto, len(conjunto), suma)"
   ]
  },
  {
   "cell_type": "code",
   "execution_count": 23,
   "metadata": {},
   "outputs": [
    {
     "data": {
      "text/plain": [
       "False"
      ]
     },
     "execution_count": 23,
     "metadata": {},
     "output_type": "execute_result"
    }
   ],
   "source": [
    "suma = sum(conjunto) + 1\n",
    "subset_sum_bottomup(conjunto, len(conjunto), suma)"
   ]
  },
  {
   "attachments": {},
   "cell_type": "markdown",
   "metadata": {},
   "source": [
    "Ahora, para entender este algoritmo, vamos a tener que visualizar la tabla que convenientemente llamamos `tabla`.\n",
    "\n",
    "Así se ve la tabla luego de la línea `4`. Los espacios vacíos representan el valor `None`. Ésta vez, los `None` no son necesarios, por el orden en el que el algoritmo bottom-up responde los subproblemas."
   ]
  },
  {
   "attachments": {},
   "cell_type": "markdown",
   "metadata": {},
   "source": [
    "<img src=\"1_tabla.png\" alt=\"mm\" style=\"width: 1200px;\"/>"
   ]
  },
  {
   "attachments": {},
   "cell_type": "markdown",
   "metadata": {},
   "source": [
    "Así se ve la tabla en la línea `16`, justo antes de que empiece a llenarla."
   ]
  },
  {
   "attachments": {},
   "cell_type": "markdown",
   "metadata": {},
   "source": [
    "<img src=\"2_tabla.png\" alt=\"mm\" style=\"width: 1200px;\"/>"
   ]
  },
  {
   "attachments": {},
   "cell_type": "markdown",
   "metadata": {},
   "source": [
    "Y esta es la tabla final, con la respuesta al problema original resaltada en amarillo"
   ]
  },
  {
   "attachments": {},
   "cell_type": "markdown",
   "metadata": {},
   "source": [
    "<img src=\"3_tabla.png\" alt=\"mm\" style=\"width: 1200px;\"/>"
   ]
  },
  {
   "attachments": {},
   "cell_type": "markdown",
   "metadata": {},
   "source": [
    "----------"
   ]
  },
  {
   "attachments": {},
   "cell_type": "markdown",
   "metadata": {},
   "source": [
    "## 3.10 Pasos en la solución de un algoritmo de PD"
   ]
  },
  {
   "attachments": {},
   "cell_type": "markdown",
   "metadata": {},
   "source": [
    "Resumiremos ahora los pasos llevados a cabo para diseñar un algoritmo _bottom-up_ de PD para resolver el problema de _subset-sum_. \n",
    "Estos pasos son generalizables al diseño de algoritmos de PD."
   ]
  },
  {
   "attachments": {},
   "cell_type": "markdown",
   "metadata": {},
   "source": [
    "0. Pensar un algoritmo _naive_ que resuelva el problema de manera exhaustiva. No es necesario pasarlo a papel.\n",
    "1. Determinar que variables caracterizan a un subproblema, es decir, diferencian un subproblema de otro. Éstas aparecerán como argumentos de nuestra función.\n",
    "2. Diagramar un árbol de subproblemas. Podemos saltar subproblemas intermedios, pero escribir el problema original, los primeros subproblemas y los últimos (casos base), para asegurarnos que los tenemos bien claros. En este punto decidiremos cuantos subproblemas contiene cada subproblema. En _subset-sum_ fueron 2. En el ejemplo inicial, fueron 3.\n",
    "3. Escribir la recursión que explore este árbol de subproblemas, con sus casos base y su caso recursivo. A veces conviene pensar en los casos base primero. Esta función sólo debe retornar el valor óptimo.\n",
    "4. Pasar esta recursiva a pseudocódigo. Esta función sólo debe retornar el valor óptimo.\n",
    "5. Definir una estructura de datos para memoización y agregarla a la función recursiva para obtener nuestro algoritmo _top-down_. Esta función sólo debe retornar el valor óptimo.\n",
    "6. Utilizar esta misma estructura de datos para el algoritmo _bottom-up_.\n",
    "7. Construir, a partir de la estructura de datos, la solución óptima."
   ]
  },
  {
   "attachments": {},
   "cell_type": "markdown",
   "metadata": {},
   "source": [
    "### Construcción de la solución óptima"
   ]
  },
  {
   "attachments": {},
   "cell_type": "markdown",
   "metadata": {},
   "source": [
    "El último paso lo dejaremos para las clases prácticas. Veremos que este puede llevarse a cabo de 3 maneras:\n",
    "* modificando código de la solución original, \n",
    "* agregando una función extra que reutilice la estructura de datos para obtener la solución óptima a partir de los valores óptimos de los subproblemas,\n",
    "* en algunas ocasiones, ambas aproximaciones deben llevarse a cabo para poder construir la solución óptima."
   ]
  },
  {
   "attachments": {},
   "cell_type": "markdown",
   "metadata": {},
   "source": [
    "-------------------"
   ]
  },
  {
   "attachments": {},
   "cell_type": "markdown",
   "metadata": {},
   "source": [
    "## 3.11 Conclusión"
   ]
  },
  {
   "attachments": {},
   "cell_type": "markdown",
   "metadata": {},
   "source": [
    "* diferencia entre subproblemas disjuntos y subproblemas que contienen a otros subproblemas,\n",
    "* **subestructura óptima**, **superposición de subproblemas**,\n",
    "* pasos de PD: **recursiva**, **estructura de datos**, **top-down**, y **bottom-up**,\n",
    "* advertencia respecto a leer de cualquier página de internet,\n",
    "* recuerden leer el Cormen: **p(359-403)**,\n",
    "* Responder cuestionario de campus."
   ]
  },
  {
   "attachments": {},
   "cell_type": "markdown",
   "metadata": {},
   "source": [
    "--------------------"
   ]
  },
  {
   "attachments": {},
   "cell_type": "markdown",
   "metadata": {},
   "source": [
    "### Contenidos a explicar durante la práctica"
   ]
  },
  {
   "attachments": {},
   "cell_type": "markdown",
   "metadata": {},
   "source": [
    "1. construcción de la solución óptima\n",
    "2. complejidades de algoritmos de _subset sum_: recursiva, _top down_ y _bottom up_\n",
    "3. coeficiente binomial\n",
    "4. conjunto de partes (_power set_)\n",
    "5. problema binario de la mochila en PD\n",
    "6. complejidad pseudopolinomial\n",
    "7. impacto (constante) de las llamadas recursivas de los _top down_ en su tiempo de ejecución y ventajas de estos frente a los _bottom up_ cuando no es necesario calcular todos los subproblemas\n",
    "8. optimizaciones espaciales sobre la estructura de datos"
   ]
  }
 ],
 "metadata": {
  "kernelspec": {
   "display_name": "Python 3",
   "language": "python",
   "name": "python3"
  },
  "language_info": {
   "codemirror_mode": {
    "name": "ipython",
    "version": 3
   },
   "file_extension": ".py",
   "mimetype": "text/x-python",
   "name": "python",
   "nbconvert_exporter": "python",
   "pygments_lexer": "ipython3",
   "version": "3.9.16"
  }
 },
 "nbformat": 4,
 "nbformat_minor": 4
}
